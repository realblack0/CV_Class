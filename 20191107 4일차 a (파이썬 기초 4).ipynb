{
 "cells": [
  {
   "cell_type": "markdown",
   "metadata": {},
   "source": [
    "# higher order functin 복습"
   ]
  },
  {
   "cell_type": "code",
   "execution_count": 1,
   "metadata": {},
   "outputs": [],
   "source": [
    "def sun():\n",
    "    print('sun')\n",
    "    return sun"
   ]
  },
  {
   "cell_type": "code",
   "execution_count": 2,
   "metadata": {},
   "outputs": [
    {
     "name": "stdout",
     "output_type": "stream",
     "text": [
      "sun\n"
     ]
    },
    {
     "data": {
      "text/plain": [
       "<function __main__.sun()>"
      ]
     },
     "execution_count": 2,
     "metadata": {},
     "output_type": "execute_result"
    }
   ],
   "source": [
    "sun()"
   ]
  },
  {
   "cell_type": "code",
   "execution_count": 3,
   "metadata": {},
   "outputs": [
    {
     "name": "stdout",
     "output_type": "stream",
     "text": [
      "sun\n",
      "sun\n"
     ]
    },
    {
     "data": {
      "text/plain": [
       "<function __main__.sun()>"
      ]
     },
     "execution_count": 3,
     "metadata": {},
     "output_type": "execute_result"
    }
   ],
   "source": [
    "sun()()"
   ]
  },
  {
   "cell_type": "markdown",
   "metadata": {},
   "source": [
    "> higher order function을 이용해서 함수 자기 자신을 무한히 호출할 수 있다."
   ]
  },
  {
   "cell_type": "markdown",
   "metadata": {},
   "source": [
    "# Closure\n",
    "`()`괄호를 두번 쓰는데, 첫번째 괄호에 전달되는 인자에 따라서 전체 기능이 달라지는 녀석이다.\n",
    "```python\n",
    "# 무조건 5를 더하는 함수를 만들 수 있다.\n",
    "add_to(5)(3) => 8 \n",
    "```\n",
    "1. 함수를 중첩하는 방법\n",
    "2. `__call__`을 이용하는 방법"
   ]
  },
  {
   "cell_type": "code",
   "execution_count": 18,
   "metadata": {},
   "outputs": [],
   "source": [
    "def add_to(n):\n",
    "    def su(m):\n",
    "        return n+m\n",
    "    return su"
   ]
  },
  {
   "cell_type": "markdown",
   "metadata": {},
   "source": [
    "# Decorator\n",
    "- closure와 decorator의 차이\n",
    "    - decorator는 첫번째 인자는 무조건 함수를 받는다.\n",
    "    - deocrator는 인자로 받은 함수를 inner 함수에서 호출한다 (call)"
   ]
  },
  {
   "cell_type": "code",
   "execution_count": 4,
   "metadata": {},
   "outputs": [],
   "source": [
    "# 값을 넣으면 +1 시켜주는 데코레이터\n",
    "\n",
    "def outer(func):\n",
    "    def inner(z):\n",
    "        return func(z+1)\n",
    "    return inner"
   ]
  },
  {
   "cell_type": "code",
   "execution_count": 7,
   "metadata": {},
   "outputs": [],
   "source": [
    "def x(a):\n",
    "    return a"
   ]
  },
  {
   "cell_type": "code",
   "execution_count": 10,
   "metadata": {},
   "outputs": [
    {
     "data": {
      "text/plain": [
       "3"
      ]
     },
     "execution_count": 10,
     "metadata": {},
     "output_type": "execute_result"
    }
   ],
   "source": [
    "x(3)"
   ]
  },
  {
   "cell_type": "code",
   "execution_count": 9,
   "metadata": {},
   "outputs": [
    {
     "data": {
      "text/plain": [
       "4"
      ]
     },
     "execution_count": 9,
     "metadata": {},
     "output_type": "execute_result"
    }
   ],
   "source": [
    "outer(x)(3)"
   ]
  },
  {
   "cell_type": "code",
   "execution_count": 5,
   "metadata": {},
   "outputs": [],
   "source": [
    "@outer\n",
    "def x(a):\n",
    "    return a"
   ]
  },
  {
   "cell_type": "code",
   "execution_count": 6,
   "metadata": {},
   "outputs": [
    {
     "data": {
      "text/plain": [
       "4"
      ]
     },
     "execution_count": 6,
     "metadata": {},
     "output_type": "execute_result"
    }
   ],
   "source": [
    "x(3)"
   ]
  },
  {
   "cell_type": "markdown",
   "metadata": {},
   "source": [
    "> 데코레이터를 이용해서 내 마음대로 함수 기능을 변경할 수  있다."
   ]
  },
  {
   "cell_type": "code",
   "execution_count": 11,
   "metadata": {},
   "outputs": [],
   "source": [
    "def wrapper(fn):\n",
    "#     @functools.wraps(fn) \n",
    "    def inner(*args, **kwargs):\n",
    "        return fn(*args, **kwargs) \n",
    "    return inner"
   ]
  },
  {
   "cell_type": "code",
   "execution_count": 12,
   "metadata": {},
   "outputs": [],
   "source": [
    "def hi():\n",
    "    print(\"hi\")"
   ]
  },
  {
   "cell_type": "code",
   "execution_count": 13,
   "metadata": {},
   "outputs": [
    {
     "data": {
      "text/plain": [
       "<function __main__.wrapper.<locals>.inner(*args, **kwargs)>"
      ]
     },
     "execution_count": 13,
     "metadata": {},
     "output_type": "execute_result"
    }
   ],
   "source": [
    "wrapper(hi)"
   ]
  },
  {
   "cell_type": "markdown",
   "metadata": {},
   "source": [
    "> - \\_\\_main\\_\\_은 '현재 작업하고 있는 파일' 이라는 뜻이다.\n",
    "- 현재 작업하고 있는 파일 안에서 정의된 함수라는 뜻이다.\n",
    "- 현재 작업 중인 파일의 wrapper라는 함수의 안에 있는 inner 함수라는 뜻이다.\n",
    "> - 가변 포지셔널, 가변 키워드를 사용하면 인자 개수를 맞춰주지 않아도 된다."
   ]
  },
  {
   "cell_type": "code",
   "execution_count": 16,
   "metadata": {},
   "outputs": [],
   "source": [
    "import functools\n",
    "\n",
    "def wrapper(fn):\n",
    "    @functools.wraps(fn) \n",
    "    def inner(*args, **kwargs):\n",
    "        return fn(*args, **kwargs) \n",
    "    return inner\n",
    "\n",
    "def hi():\n",
    "    print(\"hi\")"
   ]
  },
  {
   "cell_type": "code",
   "execution_count": 17,
   "metadata": {},
   "outputs": [
    {
     "data": {
      "text/plain": [
       "<function __main__.hi()>"
      ]
     },
     "execution_count": 17,
     "metadata": {},
     "output_type": "execute_result"
    }
   ],
   "source": [
    "wrapper(hi)"
   ]
  },
  {
   "cell_type": "markdown",
   "metadata": {},
   "source": [
    "> - 데코레이터 안에 데코레이터를 쓸 수 있다.\n",
    "- `@functools.wraps`를 사용하면 데코레이터 함수가 아니라 인자로 전달한 함수의 정보를 반환한다.\n",
    "- 원래 함수의 정보를 그대로 쓰고, 함수의 기능만 바꿀 수 있다.\n",
    "- 원래 함수의 docstring도 그대로 볼 수 있다.\n",
    "- 디버깅할 때도 용이하다."
   ]
  },
  {
   "cell_type": "markdown",
   "metadata": {},
   "source": [
    "> 데코레이터를 중첩해서 사용할 수도 있다.  \n",
    "```python\n",
    "@decorator1 \n",
    "@decorator2 \n",
    "def foo():\n",
    "    print(\"foo\")```"
   ]
  },
  {
   "cell_type": "code",
   "execution_count": 21,
   "metadata": {},
   "outputs": [],
   "source": [
    "def print_num(n):\n",
    "    def decorator(fn):\n",
    "        @functools.wraps(fn) \n",
    "        def inner(*args, **kwargs):\n",
    "            print(n) \n",
    "            return fn(*args, **kwargs) \n",
    "        return inner \n",
    "    return decorator\n",
    "\n",
    "@print_num(4)\n",
    "def hi(a):\n",
    "    print(\"hi\", a)"
   ]
  },
  {
   "cell_type": "code",
   "execution_count": 23,
   "metadata": {},
   "outputs": [
    {
     "name": "stdout",
     "output_type": "stream",
     "text": [
      "4\n",
      "hi world\n"
     ]
    }
   ],
   "source": [
    "hi(\"world\")"
   ]
  },
  {
   "cell_type": "markdown",
   "metadata": {},
   "source": [
    "> - 데코레이터를 중첩해서 만들 수 있다.\n",
    "- 데코레이터에 괄호를 붙여서 인자에 따라서 데코레이터 기능이 달라지게 하는 기법이다.   \n",
    "```python\n",
    "@decorator(arg)\n",
    "def foo():\n",
    "    print(\"foo)\n",
    "```"
   ]
  },
  {
   "cell_type": "markdown",
   "metadata": {},
   "source": [
    "# literal\n",
    "- 공식문서: https://docs.python.org/ko/3.7/reference/expressions.html#index-6\n",
    "- 클래스를 인스턴스화하지 않고 인스턴스를 만드는 방법이다.\n",
    "- 인스턴스하지 않고 인스턴스를 만드는 단축표현이다.\n",
    "- `list`는 `[]`로, `tuple`은 `()`, `int`는 숫자로, `float`은 숫자. 으로 등등 만들 수 있다."
   ]
  },
  {
   "cell_type": "code",
   "execution_count": 24,
   "metadata": {},
   "outputs": [],
   "source": [
    "a = 1."
   ]
  },
  {
   "cell_type": "code",
   "execution_count": 25,
   "metadata": {},
   "outputs": [
    {
     "data": {
      "text/plain": [
       "float"
      ]
     },
     "execution_count": 25,
     "metadata": {},
     "output_type": "execute_result"
    }
   ],
   "source": [
    "type(a)"
   ]
  },
  {
   "cell_type": "markdown",
   "metadata": {},
   "source": [
    "> - 사실 `type`은 함수가 아닙니다. 클래스입니다.\n",
    "- 인스턴스를 인자로 넘기면 인스턴스의 클래스를 반환하는 기능이 있다."
   ]
  },
  {
   "cell_type": "code",
   "execution_count": 26,
   "metadata": {},
   "outputs": [],
   "source": [
    "b = float(1)"
   ]
  },
  {
   "cell_type": "code",
   "execution_count": 28,
   "metadata": {},
   "outputs": [
    {
     "data": {
      "text/plain": [
       "True"
      ]
     },
     "execution_count": 28,
     "metadata": {},
     "output_type": "execute_result"
    }
   ],
   "source": [
    "a == b"
   ]
  },
  {
   "cell_type": "markdown",
   "metadata": {},
   "source": [
    "> 리터럴과 인스턴스로 만드는 방법 모두 같은 결과이다."
   ]
  },
  {
   "cell_type": "code",
   "execution_count": 29,
   "metadata": {},
   "outputs": [
    {
     "data": {
      "text/plain": [
       "type"
      ]
     },
     "execution_count": 29,
     "metadata": {},
     "output_type": "execute_result"
    }
   ],
   "source": [
    "type(float)"
   ]
  },
  {
   "cell_type": "markdown",
   "metadata": {},
   "source": [
    "> - `type`에 클래스를 인자로 넘기면 `type`이 나온다.\n",
    "- 클래스를 입력하면 메타클래스를 반환한다."
   ]
  },
  {
   "cell_type": "code",
   "execution_count": 31,
   "metadata": {},
   "outputs": [
    {
     "data": {
      "text/plain": [
       "type"
      ]
     },
     "execution_count": 31,
     "metadata": {},
     "output_type": "execute_result"
    }
   ],
   "source": [
    "type(type)"
   ]
  },
  {
   "cell_type": "markdown",
   "metadata": {},
   "source": [
    "> - `type`을 `type`하면 `type`이 나온다.\n",
    "- `type` 자체가 메타클래스이므로..."
   ]
  },
  {
   "cell_type": "code",
   "execution_count": 32,
   "metadata": {},
   "outputs": [
    {
     "data": {
      "text/plain": [
       "builtin_function_or_method"
      ]
     },
     "execution_count": 32,
     "metadata": {},
     "output_type": "execute_result"
    }
   ],
   "source": [
    "type(iter)"
   ]
  },
  {
   "cell_type": "markdown",
   "metadata": {},
   "source": [
    "> `iter`는 형을 바꿔주는 함수이다."
   ]
  },
  {
   "cell_type": "code",
   "execution_count": 116,
   "metadata": {},
   "outputs": [
    {
     "data": {
      "text/plain": [
       "1"
      ]
     },
     "execution_count": 116,
     "metadata": {},
     "output_type": "execute_result"
    }
   ],
   "source": [
    "# bininteger (이진수) literal 표현법\n",
    "\n",
    "0b1"
   ]
  },
  {
   "cell_type": "code",
   "execution_count": 126,
   "metadata": {},
   "outputs": [
    {
     "data": {
      "text/plain": [
       "7"
      ]
     },
     "execution_count": 126,
     "metadata": {},
     "output_type": "execute_result"
    }
   ],
   "source": [
    "# octinteger (8진수) literal 표현법\n",
    "\n",
    "0o7"
   ]
  },
  {
   "cell_type": "code",
   "execution_count": 142,
   "metadata": {},
   "outputs": [
    {
     "data": {
      "text/plain": [
       "31"
      ]
     },
     "execution_count": 142,
     "metadata": {},
     "output_type": "execute_result"
    }
   ],
   "source": [
    "# hexinteger (16진수) literal 표현법\n",
    "# 0~9, a~f 로 표현한다.\n",
    "\n",
    "0x1f"
   ]
  },
  {
   "cell_type": "markdown",
   "metadata": {},
   "source": [
    "> - python의 자료형들마다 literal 표현법이 있다."
   ]
  },
  {
   "cell_type": "code",
   "execution_count": 148,
   "metadata": {},
   "outputs": [
    {
     "data": {
      "text/plain": [
       "1"
      ]
     },
     "execution_count": 148,
     "metadata": {},
     "output_type": "execute_result"
    }
   ],
   "source": [
    "int(\"1\", base=2)"
   ]
  },
  {
   "cell_type": "code",
   "execution_count": 151,
   "metadata": {},
   "outputs": [
    {
     "data": {
      "text/plain": [
       "b'hi'"
      ]
     },
     "execution_count": 151,
     "metadata": {},
     "output_type": "execute_result"
    }
   ],
   "source": [
    "b\"hi\""
   ]
  },
  {
   "cell_type": "markdown",
   "metadata": {},
   "source": [
    "> - 10진수 이외의 숫자에 대해서 literal이 아닌 인스턴스 방법도 있다.\n",
    "- 인스턴스 방법과 리터럴 방법은 서로 대응한다.\n",
    "- 숫자 외에 문자열도 bytes,\n",
    "- raw 등 다양한 리터럴 방법을 지원한다."
   ]
  },
  {
   "cell_type": "markdown",
   "metadata": {},
   "source": [
    "# Class\n",
    "- class는 인스턴스해서 사용한다.\n",
    "    - python은 ()를 이용해서 인스턴스화한다.\n",
    "    - ()가 생성자 역할을 한다. (다른 언어에서는 new를 많이 쓴다)\n",
    "    - 파이썬은 overloading이 안되기 때문에 default 값을 활용해서 여러가지 기능을 만든다.\n",
    "- metaclass는 class의 class이다.\n",
    "    - metaclass의 인스턴스는 class이다."
   ]
  },
  {
   "cell_type": "code",
   "execution_count": 33,
   "metadata": {},
   "outputs": [],
   "source": [
    "class Sun(object):\n",
    "    x = 1"
   ]
  },
  {
   "cell_type": "code",
   "execution_count": 34,
   "metadata": {},
   "outputs": [
    {
     "data": {
      "text/plain": [
       "['__class__',\n",
       " '__delattr__',\n",
       " '__dict__',\n",
       " '__dir__',\n",
       " '__doc__',\n",
       " '__eq__',\n",
       " '__format__',\n",
       " '__ge__',\n",
       " '__getattribute__',\n",
       " '__gt__',\n",
       " '__hash__',\n",
       " '__init__',\n",
       " '__init_subclass__',\n",
       " '__le__',\n",
       " '__lt__',\n",
       " '__module__',\n",
       " '__ne__',\n",
       " '__new__',\n",
       " '__reduce__',\n",
       " '__reduce_ex__',\n",
       " '__repr__',\n",
       " '__setattr__',\n",
       " '__sizeof__',\n",
       " '__str__',\n",
       " '__subclasshook__',\n",
       " '__weakref__',\n",
       " 'x']"
      ]
     },
     "execution_count": 34,
     "metadata": {},
     "output_type": "execute_result"
    }
   ],
   "source": [
    "dir(Sun)"
   ]
  },
  {
   "cell_type": "markdown",
   "metadata": {},
   "source": [
    "> - 기본 메서드가 많은 이유는 object 클래스를 상속 받았기 때문이다.\n",
    "- 클래스 선언문에서 상속을 명시하지 않으면 자동으로 object를 상속한다."
   ]
  },
  {
   "cell_type": "code",
   "execution_count": 36,
   "metadata": {},
   "outputs": [
    {
     "data": {
      "text/plain": [
       "type"
      ]
     },
     "execution_count": 36,
     "metadata": {},
     "output_type": "execute_result"
    }
   ],
   "source": [
    "Sun.__class__"
   ]
  },
  {
   "cell_type": "markdown",
   "metadata": {},
   "source": [
    "> - `__class__`는 `type`한 결과와 같다.\n",
    "- `__class__`는 객체지향형 접근법, `type`는 함수형 접근법이다."
   ]
  },
  {
   "cell_type": "code",
   "execution_count": 39,
   "metadata": {},
   "outputs": [],
   "source": [
    "class Sun(object):\n",
    "    def __init__(self):\n",
    "        print('INIT')\n",
    "    def a(self):\n",
    "        print(\"A\")"
   ]
  },
  {
   "cell_type": "code",
   "execution_count": 40,
   "metadata": {},
   "outputs": [
    {
     "name": "stdout",
     "output_type": "stream",
     "text": [
      "INIT\n"
     ]
    }
   ],
   "source": [
    "x = Sun()"
   ]
  },
  {
   "cell_type": "code",
   "execution_count": 42,
   "metadata": {},
   "outputs": [
    {
     "name": "stdout",
     "output_type": "stream",
     "text": [
      "A\n"
     ]
    }
   ],
   "source": [
    "x.a()"
   ]
  },
  {
   "cell_type": "markdown",
   "metadata": {},
   "source": [
    "> - class 선언할때는 a 메서드에 self라는 파라미터가 있는데, 사용할 때는 인자가 없어도 실행이 된다.\n",
    "- 인자 개수를 맞춰주지 않았는데 실행이 된다.\n",
    "- 실행할 때 `x.a`으로 `x`에 붙어서 실행을 해서 사용한다. => `x`가 자동으로 `self=x`인자로 전달된다."
   ]
  },
  {
   "cell_type": "code",
   "execution_count": 68,
   "metadata": {},
   "outputs": [],
   "source": [
    "class Sun(object):\n",
    "    x = 1  # 클래스 변수\n",
    "    def __init__(self, a):\n",
    "        self.a = a  # 인스턴스 변수\n",
    "        print(\"INIT\")\n",
    "    def a(s):     # 꼭 self라고 안해도 된다. 아무 문자나 써도 된다.\n",
    "        print(\"A\")"
   ]
  },
  {
   "cell_type": "code",
   "execution_count": 48,
   "metadata": {},
   "outputs": [
    {
     "name": "stdout",
     "output_type": "stream",
     "text": [
      "INIT\n",
      "INIT\n"
     ]
    }
   ],
   "source": [
    "a = Sun(3)\n",
    "b = Sun(5)"
   ]
  },
  {
   "cell_type": "markdown",
   "metadata": {},
   "source": [
    "> - 클래스는 재사용이 가능하다.\n",
    "- 하나의 클래스로 여러 인스턴스 만들 수 있다."
   ]
  },
  {
   "cell_type": "code",
   "execution_count": 49,
   "metadata": {},
   "outputs": [
    {
     "data": {
      "text/plain": [
       "(3, 5)"
      ]
     },
     "execution_count": 49,
     "metadata": {},
     "output_type": "execute_result"
    }
   ],
   "source": [
    "a.a, b.a"
   ]
  },
  {
   "cell_type": "markdown",
   "metadata": {},
   "source": [
    "> 인스턴스 변수는 인스턴스마다 다르게 갖는 고유한 속성이다."
   ]
  },
  {
   "cell_type": "code",
   "execution_count": 50,
   "metadata": {},
   "outputs": [
    {
     "data": {
      "text/plain": [
       "(1, 1)"
      ]
     },
     "execution_count": 50,
     "metadata": {},
     "output_type": "execute_result"
    }
   ],
   "source": [
    "a.x, b.x"
   ]
  },
  {
   "cell_type": "markdown",
   "metadata": {},
   "source": [
    "> - 클래스 변수는 클래스 단에서 갖는 고유한 속성이다.\n",
    "- 클래스 자체가 가지고 있기 속성이기 때문에 인스턴스에 공유된다.\n",
    "- 인스턴스가 클래스 변수에 접근할 수 있다."
   ]
  },
  {
   "cell_type": "code",
   "execution_count": 51,
   "metadata": {},
   "outputs": [
    {
     "data": {
      "text/plain": [
       "{'a': 3}"
      ]
     },
     "execution_count": 51,
     "metadata": {},
     "output_type": "execute_result"
    }
   ],
   "source": [
    "vars(a)"
   ]
  },
  {
   "cell_type": "code",
   "execution_count": 52,
   "metadata": {},
   "outputs": [
    {
     "data": {
      "text/plain": [
       "{'a': 5}"
      ]
     },
     "execution_count": 52,
     "metadata": {},
     "output_type": "execute_result"
    }
   ],
   "source": [
    "vars(b)"
   ]
  },
  {
   "cell_type": "markdown",
   "metadata": {},
   "source": [
    "> - `vars`는 인스턴스의 속성(attribute)를 보여주는 함수이다.\n",
    "- a와 b는 서로 다른 인스턴스이고 각자의 속성을 갖고 있다."
   ]
  },
  {
   "cell_type": "code",
   "execution_count": 53,
   "metadata": {},
   "outputs": [],
   "source": [
    "a.a = 10"
   ]
  },
  {
   "cell_type": "code",
   "execution_count": 54,
   "metadata": {},
   "outputs": [
    {
     "data": {
      "text/plain": [
       "10"
      ]
     },
     "execution_count": 54,
     "metadata": {},
     "output_type": "execute_result"
    }
   ],
   "source": [
    "a.a"
   ]
  },
  {
   "cell_type": "code",
   "execution_count": 55,
   "metadata": {},
   "outputs": [
    {
     "data": {
      "text/plain": [
       "5"
      ]
     },
     "execution_count": 55,
     "metadata": {},
     "output_type": "execute_result"
    }
   ],
   "source": [
    "b.a"
   ]
  },
  {
   "cell_type": "markdown",
   "metadata": {},
   "source": [
    "> - a의 a 속성을 10으로 재할당했다.\n",
    "- a.a가 10으로 업데이트되었다.\n",
    "- b.a는 그대로이다. a의 인스턴스 변수를 업데이트했기 때문에 b에는 영향을 미치지 않는다.\n",
    "\n",
    "> - 이상한 점이 있다. 객체지향은 캡슐화 특징 때문에 밖에서 안에 것 접근할 수 없어야 한다.\n",
    "- 밖에서 class 안의 변수를 접근해서 바꿨다.\n",
    "- consenting adults 라고 하는 개념인데, 요약하자면 자기가 책임지라는 것이다.\n",
    "- python은 객체지향 언어이지만, 클래스에 대해서는 캡슐화를 하지 않았다. \n",
    "    - 타 언어에서는 private, public 개념이 있는데 python은 그런 것 없고 다 public이다;"
   ]
  },
  {
   "cell_type": "code",
   "execution_count": 56,
   "metadata": {},
   "outputs": [],
   "source": [
    "a.x = 4"
   ]
  },
  {
   "cell_type": "code",
   "execution_count": 57,
   "metadata": {},
   "outputs": [
    {
     "data": {
      "text/plain": [
       "4"
      ]
     },
     "execution_count": 57,
     "metadata": {},
     "output_type": "execute_result"
    }
   ],
   "source": [
    "a.x"
   ]
  },
  {
   "cell_type": "code",
   "execution_count": 58,
   "metadata": {},
   "outputs": [
    {
     "data": {
      "text/plain": [
       "1"
      ]
     },
     "execution_count": 58,
     "metadata": {},
     "output_type": "execute_result"
    }
   ],
   "source": [
    "b.x"
   ]
  },
  {
   "cell_type": "code",
   "execution_count": 59,
   "metadata": {},
   "outputs": [
    {
     "data": {
      "text/plain": [
       "{'a': 10, 'x': 4}"
      ]
     },
     "execution_count": 59,
     "metadata": {},
     "output_type": "execute_result"
    }
   ],
   "source": [
    "vars(a)"
   ]
  },
  {
   "cell_type": "markdown",
   "metadata": {},
   "source": [
    "> - x는 클래스 변수인데 인스턴스 `a`에서 재할당했다.\n",
    "- 그런데 `b.x`를 보면 그대로 1이다.\n",
    "- `vars(a)`를 보면 인스턴스변수 `x`가 새로 생긴 것을 알 수 있다. \n",
    "- 인스턴스 변수와 클래스 변수의 이름이 같으면 인스턴스 변수를 우선하기 때문에 `a.x`는 4 이다."
   ]
  },
  {
   "cell_type": "code",
   "execution_count": 60,
   "metadata": {},
   "outputs": [],
   "source": [
    "Sun.moon = \"Moon\""
   ]
  },
  {
   "cell_type": "code",
   "execution_count": 61,
   "metadata": {},
   "outputs": [
    {
     "data": {
      "text/plain": [
       "'Moon'"
      ]
     },
     "execution_count": 61,
     "metadata": {},
     "output_type": "execute_result"
    }
   ],
   "source": [
    "a.moon"
   ]
  },
  {
   "cell_type": "markdown",
   "metadata": {},
   "source": [
    "> - 클래스 변수를 선언 후에 할당할 수 있다.\n",
    "- consenting adult 개념 때문에 외부에서 클래스 내부에 접근가능하기 때문이다.\n",
    "- 새로 할당한 클래스 변수도 인스턴스에서 접근 가능하다.\n",
    "\n",
    "> - 선언할 때는 heap 영역으로 들어가고, 사용할때는 stack(?) 영역에 들어간다."
   ]
  },
  {
   "cell_type": "code",
   "execution_count": 69,
   "metadata": {},
   "outputs": [],
   "source": [
    "class Sun(object):\n",
    "    x = 1\n",
    "    def __init__(self, a):\n",
    "        self.a = a\n",
    "        \n",
    "    def mo(se): # self라고 안써도 되지만 PEP8에서는 self로 쓰는 것을 권장하고 있다.\n",
    "        return se.a"
   ]
  },
  {
   "cell_type": "code",
   "execution_count": 73,
   "metadata": {},
   "outputs": [],
   "source": [
    "a = Sun(7)"
   ]
  },
  {
   "cell_type": "code",
   "execution_count": 75,
   "metadata": {},
   "outputs": [
    {
     "data": {
      "text/plain": [
       "7"
      ]
     },
     "execution_count": 75,
     "metadata": {},
     "output_type": "execute_result"
    }
   ],
   "source": [
    "a.mo()"
   ]
  },
  {
   "cell_type": "code",
   "execution_count": 76,
   "metadata": {},
   "outputs": [
    {
     "data": {
      "text/plain": [
       "7"
      ]
     },
     "execution_count": 76,
     "metadata": {},
     "output_type": "execute_result"
    }
   ],
   "source": [
    "a.a"
   ]
  },
  {
   "cell_type": "markdown",
   "metadata": {},
   "source": [
    "> - `mo` 메서드는 인스턴스의 `a` 속성을 리턴한다.\n",
    "- python은 인스턴스 외부에서 내부 접근이 가능하기 때문에 `mo`메서드를 쓰지 않고도 `a` 속성에 바로 접근이 가능하다."
   ]
  },
  {
   "cell_type": "code",
   "execution_count": 97,
   "metadata": {},
   "outputs": [],
   "source": [
    "class Sun(object):\n",
    "    x = 1\n",
    "    def __init__(self, a):\n",
    "        self.a = a\n",
    "    \n",
    "    @classmethod\n",
    "    def mo(cls):  # PEP8에서 classmethod일 때는 self 대신 cls를 쓰는 것을 권장하고 있다.\n",
    "        return cls.x"
   ]
  },
  {
   "cell_type": "code",
   "execution_count": 98,
   "metadata": {},
   "outputs": [],
   "source": [
    "a = Sun(7)"
   ]
  },
  {
   "cell_type": "code",
   "execution_count": 99,
   "metadata": {},
   "outputs": [
    {
     "data": {
      "text/plain": [
       "1"
      ]
     },
     "execution_count": 99,
     "metadata": {},
     "output_type": "execute_result"
    }
   ],
   "source": [
    "a.mo()"
   ]
  },
  {
   "cell_type": "code",
   "execution_count": 100,
   "metadata": {},
   "outputs": [],
   "source": [
    "a.x = \"moon\""
   ]
  },
  {
   "cell_type": "code",
   "execution_count": 103,
   "metadata": {},
   "outputs": [
    {
     "data": {
      "text/plain": [
       "'moon'"
      ]
     },
     "execution_count": 103,
     "metadata": {},
     "output_type": "execute_result"
    }
   ],
   "source": [
    "a.x"
   ]
  },
  {
   "cell_type": "code",
   "execution_count": 101,
   "metadata": {},
   "outputs": [
    {
     "data": {
      "text/plain": [
       "1"
      ]
     },
     "execution_count": 101,
     "metadata": {},
     "output_type": "execute_result"
    }
   ],
   "source": [
    "a.mo()"
   ]
  },
  {
   "cell_type": "markdown",
   "metadata": {},
   "source": [
    "> - `@classmethod` 데코레이터를 쓰면 클래스의 속성과 메서드를 사용한다.\n",
    "- `mo` 메서드는 `a.x`를 할당하더라도 클래스의 `x`를 가져온다."
   ]
  },
  {
   "cell_type": "code",
   "execution_count": 102,
   "metadata": {},
   "outputs": [],
   "source": [
    "Sun.x = \"sun\""
   ]
  },
  {
   "cell_type": "code",
   "execution_count": 104,
   "metadata": {},
   "outputs": [
    {
     "data": {
      "text/plain": [
       "'sun'"
      ]
     },
     "execution_count": 104,
     "metadata": {},
     "output_type": "execute_result"
    }
   ],
   "source": [
    "a.mo()"
   ]
  },
  {
   "cell_type": "markdown",
   "metadata": {},
   "source": [
    "> - 클래스 변수를 재할당하면 `a.mo`의 리턴 값도 바뀐다."
   ]
  },
  {
   "cell_type": "code",
   "execution_count": 87,
   "metadata": {
    "scrolled": false
   },
   "outputs": [
    {
     "data": {
      "text/plain": [
       "['__class__',\n",
       " '__delattr__',\n",
       " '__dict__',\n",
       " '__dir__',\n",
       " '__doc__',\n",
       " '__eq__',\n",
       " '__format__',\n",
       " '__ge__',\n",
       " '__getattribute__',\n",
       " '__gt__',\n",
       " '__hash__',\n",
       " '__init__',\n",
       " '__init_subclass__',\n",
       " '__le__',\n",
       " '__lt__',\n",
       " '__module__',\n",
       " '__ne__',\n",
       " '__new__',\n",
       " '__reduce__',\n",
       " '__reduce_ex__',\n",
       " '__repr__',\n",
       " '__setattr__',\n",
       " '__sizeof__',\n",
       " '__str__',\n",
       " '__subclasshook__',\n",
       " '__weakref__',\n",
       " 'mo',\n",
       " 'x']"
      ]
     },
     "execution_count": 87,
     "metadata": {},
     "output_type": "execute_result"
    }
   ],
   "source": [
    "dir(Sun)"
   ]
  },
  {
   "cell_type": "code",
   "execution_count": 92,
   "metadata": {},
   "outputs": [
    {
     "data": {
      "text/plain": [
       "['__class__',\n",
       " '__delattr__',\n",
       " '__dict__',\n",
       " '__dir__',\n",
       " '__doc__',\n",
       " '__eq__',\n",
       " '__format__',\n",
       " '__ge__',\n",
       " '__getattribute__',\n",
       " '__gt__',\n",
       " '__hash__',\n",
       " '__init__',\n",
       " '__init_subclass__',\n",
       " '__le__',\n",
       " '__lt__',\n",
       " '__module__',\n",
       " '__ne__',\n",
       " '__new__',\n",
       " '__reduce__',\n",
       " '__reduce_ex__',\n",
       " '__repr__',\n",
       " '__setattr__',\n",
       " '__sizeof__',\n",
       " '__str__',\n",
       " '__subclasshook__',\n",
       " '__weakref__',\n",
       " 'a',\n",
       " 'mo',\n",
       " 'x']"
      ]
     },
     "execution_count": 92,
     "metadata": {},
     "output_type": "execute_result"
    }
   ],
   "source": [
    "dir(a)"
   ]
  },
  {
   "cell_type": "markdown",
   "metadata": {},
   "source": [
    "> - 인스턴스하기 전에는 a가 없다.\n",
    "- 인스턴스한 객체는 a가 있다.\n",
    "- 인스턴스할 때 `__init__`가 자동으로 실행되면서 a 속성을 만들어주기 때문이다."
   ]
  },
  {
   "cell_type": "markdown",
   "metadata": {},
   "source": [
    "# 객체지향의 4가지 개념\n",
    "- 추상화(Abstraction)\n",
    "- 캡슐화(Encapsulation)\n",
    "- 다형성(Polymorphism)\n",
    "- 상속(Inheritance)"
   ]
  },
  {
   "cell_type": "code",
   "execution_count": null,
   "metadata": {},
   "outputs": [],
   "source": []
  }
 ],
 "metadata": {
  "kernelspec": {
   "display_name": "Python 3",
   "language": "python",
   "name": "python3"
  },
  "language_info": {
   "codemirror_mode": {
    "name": "ipython",
    "version": 3
   },
   "file_extension": ".py",
   "mimetype": "text/x-python",
   "name": "python",
   "nbconvert_exporter": "python",
   "pygments_lexer": "ipython3",
   "version": "3.7.3"
  }
 },
 "nbformat": 4,
 "nbformat_minor": 2
}
