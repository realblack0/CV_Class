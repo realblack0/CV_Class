{
 "cells": [
  {
   "cell_type": "markdown",
   "metadata": {},
   "source": [
    "# 반복문\n",
    "- 파이썬 코드실행 시각화 사이트: http://pythontutor.com/visualize.html"
   ]
  },
  {
   "cell_type": "code",
   "execution_count": 1,
   "metadata": {},
   "outputs": [
    {
     "name": "stdout",
     "output_type": "stream",
     "text": [
      "0\n",
      "1\n",
      "2\n",
      "3\n",
      "4\n"
     ]
    }
   ],
   "source": [
    "for i in range(10):\n",
    "    if i ==5:\n",
    "        break\n",
    "    print(i)\n",
    "else:\n",
    "    print(\"T\")"
   ]
  },
  {
   "cell_type": "markdown",
   "metadata": {},
   "source": [
    "> 반복문에서 `else`는 반복문이 완벽하게 실행되었을 때만 실행된다.  \n",
    "-> tensorflow 2.0부터는 epoch 돌리는 것이 for문으로 바뀌었다. 나중에 활용할 것이다."
   ]
  },
  {
   "cell_type": "code",
   "execution_count": 3,
   "metadata": {},
   "outputs": [
    {
     "name": "stdout",
     "output_type": "stream",
     "text": [
      "0\n",
      "1\n",
      "2\n",
      "3\n",
      "4\n",
      "6\n",
      "7\n",
      "8\n",
      "9\n",
      "T\n"
     ]
    }
   ],
   "source": [
    "for i in range(10):\n",
    "    if i ==5:\n",
    "        continue\n",
    "    print(i)\n",
    "else:\n",
    "    print(\"T\")"
   ]
  },
  {
   "cell_type": "markdown",
   "metadata": {},
   "source": [
    "> 반복문에서 `continue`는 다음 루프로 넘어가라는 의미이다.   \n",
    "위에서는 `i`가 5일때 continue를 만나서 5는 print되지 않고 다음 루프인 `i=6`으로 넘어갔다."
   ]
  },
  {
   "cell_type": "markdown",
   "metadata": {},
   "source": [
    "---"
   ]
  },
  {
   "cell_type": "code",
   "execution_count": 7,
   "metadata": {},
   "outputs": [
    {
     "data": {
      "text/plain": [
       "{4: 1, 2: 2, 3: 3}"
      ]
     },
     "execution_count": 7,
     "metadata": {},
     "output_type": "execute_result"
    }
   ],
   "source": [
    "# non-sequence는 내부적으로는 순서가 있으나, 사용자가 직접 순서를 정할 수는 없다 ex) set\n",
    "# dictionary는 python 3.6부터 sequence로 바뀌었다.\n",
    "\n",
    "{4:1, 2:2, 3:3}"
   ]
  },
  {
   "cell_type": "markdown",
   "metadata": {},
   "source": [
    "---"
   ]
  },
  {
   "cell_type": "markdown",
   "metadata": {},
   "source": [
    "# iterable\n",
    "- 파이썬의 기본 데이터 개념 중에서 아주 중요함.\n",
    "- 파이썬 함수형 프로그램의 첫번째 개념\n",
    "- 내일 자세히 배울 예정"
   ]
  },
  {
   "cell_type": "code",
   "execution_count": 11,
   "metadata": {},
   "outputs": [],
   "source": [
    "# 임의의 함수 x\n",
    "# for문을 가지고 있다. \n",
    "# for문은 in 다음에 iterable이 올 수 있다.\n",
    "\n",
    "def x():\n",
    "    for i in range(10):\n",
    "        print(i)\n",
    "    else:\n",
    "        print(\"T\")"
   ]
  },
  {
   "cell_type": "code",
   "execution_count": 12,
   "metadata": {},
   "outputs": [
    {
     "name": "stdout",
     "output_type": "stream",
     "text": [
      "  2           0 SETUP_LOOP              32 (to 34)\n",
      "              2 LOAD_GLOBAL              0 (range)\n",
      "              4 LOAD_CONST               1 (10)\n",
      "              6 CALL_FUNCTION            1\n",
      "              8 GET_ITER\n",
      "        >>   10 FOR_ITER                12 (to 24)\n",
      "             12 STORE_FAST               0 (i)\n",
      "\n",
      "  3          14 LOAD_GLOBAL              1 (print)\n",
      "             16 LOAD_FAST                0 (i)\n",
      "             18 CALL_FUNCTION            1\n",
      "             20 POP_TOP\n",
      "             22 JUMP_ABSOLUTE           10\n",
      "        >>   24 POP_BLOCK\n",
      "\n",
      "  5          26 LOAD_GLOBAL              1 (print)\n",
      "             28 LOAD_CONST               2 ('T')\n",
      "             30 CALL_FUNCTION            1\n",
      "             32 POP_TOP\n",
      "        >>   34 LOAD_CONST               0 (None)\n",
      "             36 RETURN_VALUE\n"
     ]
    }
   ],
   "source": [
    "# Assembly\n",
    "# GET_ITER, FOR_ITER가 있는 것 확인\n",
    "\n",
    "import dis\n",
    "dis.dis(x)"
   ]
  },
  {
   "cell_type": "markdown",
   "metadata": {},
   "source": [
    "# while\n",
    "`while`은 인덱스 베이스이기 때문에 객체지향 개념에는 어울리지 않는다.  \n",
    "- 무한 루프를 걸 때 while을 사용한다.\n",
    "    - 예: 사용자 입력을 대기할 때(실제 게임 등 서비스에서 많이 사용한다.)\n",
    "- for문보다 넓은 개념이다.\n",
    "    - while문으로 for문을 대체할 수 있다. 하지만 for문으로 while문은 대체할 수 없는 경우가 있다."
   ]
  },
  {
   "cell_type": "code",
   "execution_count": 13,
   "metadata": {},
   "outputs": [
    {
     "name": "stdout",
     "output_type": "stream",
     "text": [
      "10\n",
      "9\n",
      "8\n",
      "7\n",
      "6\n",
      "5\n",
      "4\n",
      "3\n",
      "2\n",
      "1\n"
     ]
    }
   ],
   "source": [
    "# for문을 while문으로 대체해서 쓸 수 있다.\n",
    "\n",
    "i = 10\n",
    "while True:\n",
    "    print(i)\n",
    "    i -= 1\n",
    "    if i==0:\n",
    "        break"
   ]
  },
  {
   "cell_type": "code",
   "execution_count": 14,
   "metadata": {},
   "outputs": [
    {
     "name": "stdout",
     "output_type": "stream",
     "text": [
      "T\n"
     ]
    }
   ],
   "source": [
    "# while과 else\n",
    "\n",
    "i = 10\n",
    "while i>10:\n",
    "    print(i)\n",
    "    i -= 1\n",
    "else:\n",
    "    print(\"T\")"
   ]
  },
  {
   "cell_type": "markdown",
   "metadata": {},
   "source": [
    "> `while`에서도 `else`는 완벽하게 반복문이 수행되었을 때 실행된다.  \n",
    "위 코드에서 `i>10`이라는 조건이 `False`이기 때문에 while문이 완벽하게 실행되지 않았다고 생각하기 쉽다.  \n",
    "그러나 컴퓨터는 '0번 완벽히 실행'했다고 받아들이기 때문에 `else`가 실행된다."
   ]
  },
  {
   "cell_type": "markdown",
   "metadata": {},
   "source": [
    "일부 파이썬 책에서는 반복문에 `else`를 쓰지 말고 try문을 쓰라는 경우가 종종 있다. 그러나 장단점이 있기 때문에 기호에 따라 사용해도 된다. 특히나, 딥러닝에서는 메모리 문제가 반복문과 밀접한 관계가 있기 때문에 `else`가 유용하게 사용된다."
   ]
  },
  {
   "cell_type": "markdown",
   "metadata": {},
   "source": [
    "# 반복문에서 유의할 점\n",
    "- 반복문에서 사용된 이름은 반복문이 끝나도 값이 살아있다.\n",
    "- python 3. 버전대부터 바뀐 기능"
   ]
  },
  {
   "cell_type": "code",
   "execution_count": 15,
   "metadata": {},
   "outputs": [
    {
     "name": "stdout",
     "output_type": "stream",
     "text": [
      "0\n",
      "1\n",
      "2\n",
      "3\n",
      "4\n",
      "5\n",
      "6\n",
      "7\n",
      "8\n",
      "9\n"
     ]
    }
   ],
   "source": [
    "for x in range(10):\n",
    "    print(x)"
   ]
  },
  {
   "cell_type": "code",
   "execution_count": 18,
   "metadata": {},
   "outputs": [
    {
     "data": {
      "text/plain": [
       "9"
      ]
     },
     "execution_count": 18,
     "metadata": {},
     "output_type": "execute_result"
    }
   ],
   "source": [
    "# x가 반복문의 마지막 값이 9이다.\n",
    "\n",
    "x"
   ]
  },
  {
   "cell_type": "markdown",
   "metadata": {},
   "source": [
    "> comprehension을 이용하면 이런 문제가 없다.  \n",
    "- comprehension은 내일 자세히 배울 예정"
   ]
  },
  {
   "cell_type": "code",
   "execution_count": 19,
   "metadata": {},
   "outputs": [],
   "source": [
    "t = [yy for yy in range(10)]"
   ]
  },
  {
   "cell_type": "code",
   "execution_count": 20,
   "metadata": {},
   "outputs": [
    {
     "ename": "NameError",
     "evalue": "name 'yy' is not defined",
     "output_type": "error",
     "traceback": [
      "\u001b[1;31m---------------------------------------------------------------------------\u001b[0m",
      "\u001b[1;31mNameError\u001b[0m                                 Traceback (most recent call last)",
      "\u001b[1;32m<ipython-input-20-6daa41ef554c>\u001b[0m in \u001b[0;36m<module>\u001b[1;34m\u001b[0m\n\u001b[1;32m----> 1\u001b[1;33m \u001b[0myy\u001b[0m\u001b[1;33m\u001b[0m\u001b[1;33m\u001b[0m\u001b[0m\n\u001b[0m",
      "\u001b[1;31mNameError\u001b[0m: name 'yy' is not defined"
     ]
    }
   ],
   "source": [
    "# Name Error\n",
    "\n",
    "yy"
   ]
  },
  {
   "cell_type": "markdown",
   "metadata": {},
   "source": [
    "# EAFP\n",
    "- 공식문서: https://docs.python.org/ko/3.7/glossary.html#term-eafp\n",
    "- 허락보다는 용서를 구하기가 쉽다 (Easier to ask for forgiveness than permission). 이 흔히 볼 수 있는 파이썬 코딩 스타일은, 올바른 키나 어트리뷰트의 존재를 가정하고, 그 가정이 틀리면 예외를 잡습니다. 이 깔끔하고 빠른 스타일은 많은 try와 except 문의 존재로 특징지어집니다. 이 테크닉은 C와 같은 다른 많은 언어에서 자주 사용되는 LBYL 스타일과 대비됩니다.\n",
    "  \n",
    "\n",
    "- 선언할 때 에러를 체크하지 않고 실행할때 에러를 일으킨다.\n",
    "- 파이썬은 에러를 좋아한다. 에러를 내고 디버깅하는 방법을 선호한다.\n",
    "\n",
    "\n",
    "\n",
    "- 파이썬은 느린 문제가 있기 때문에 조금이라도 빠르게 하기 위해서 EAFP를 채택했다.\n",
    "- complie 언어에서는 EAFP를 쓰지 않는다.\n",
    "- script 언어는 언어마다 다르다."
   ]
  },
  {
   "cell_type": "markdown",
   "metadata": {},
   "source": [
    "# assert문\n",
    "- `False`이면 에러를 강제로 발생시킨다.\n",
    "- 특정 데이터 타입만 인자로 받는 함수를 만들 때 활용할 수 있다."
   ]
  },
  {
   "cell_type": "code",
   "execution_count": 21,
   "metadata": {},
   "outputs": [
    {
     "ename": "AssertionError",
     "evalue": "",
     "output_type": "error",
     "traceback": [
      "\u001b[1;31m---------------------------------------------------------------------------\u001b[0m",
      "\u001b[1;31mAssertionError\u001b[0m                            Traceback (most recent call last)",
      "\u001b[1;32m<ipython-input-21-282c944704c0>\u001b[0m in \u001b[0;36m<module>\u001b[1;34m\u001b[0m\n\u001b[1;32m----> 1\u001b[1;33m \u001b[1;32massert\u001b[0m \u001b[0mi\u001b[0m \u001b[1;33m>\u001b[0m \u001b[1;36m11\u001b[0m\u001b[1;33m\u001b[0m\u001b[1;33m\u001b[0m\u001b[0m\n\u001b[0m",
      "\u001b[1;31mAssertionError\u001b[0m: "
     ]
    }
   ],
   "source": [
    "assert i > 11"
   ]
  },
  {
   "cell_type": "markdown",
   "metadata": {},
   "source": [
    "# Raise문\n",
    "- 강제로 에러를 발생시킨다.\n",
    "- 에러를 상속받아서 커스텀 에러를 만들 수 있다.\n",
    "- 내가 정한 에러가 발생하는 위치를 파악하는데 사용할 수 있다.\n",
    "- 내가 정한 에러가 발생하면 특정 동작을 할 수 있도록 조치하는데 활용할 수 있다."
   ]
  },
  {
   "cell_type": "code",
   "execution_count": 22,
   "metadata": {},
   "outputs": [
    {
     "ename": "Exception",
     "evalue": "",
     "output_type": "error",
     "traceback": [
      "\u001b[1;31m---------------------------------------------------------------------------\u001b[0m",
      "\u001b[1;31mException\u001b[0m                                 Traceback (most recent call last)",
      "\u001b[1;32m<ipython-input-22-ce17277aa2b4>\u001b[0m in \u001b[0;36m<module>\u001b[1;34m\u001b[0m\n\u001b[0;32m      1\u001b[0m \u001b[1;32mif\u001b[0m \u001b[0mi\u001b[0m\u001b[1;33m>\u001b[0m\u001b[1;36m9\u001b[0m\u001b[1;33m:\u001b[0m\u001b[1;33m\u001b[0m\u001b[1;33m\u001b[0m\u001b[0m\n\u001b[1;32m----> 2\u001b[1;33m     \u001b[1;32mraise\u001b[0m \u001b[0mException\u001b[0m\u001b[1;33m\u001b[0m\u001b[1;33m\u001b[0m\u001b[0m\n\u001b[0m",
      "\u001b[1;31mException\u001b[0m: "
     ]
    }
   ],
   "source": [
    "if i>9:\n",
    "    raise Exception"
   ]
  },
  {
   "cell_type": "markdown",
   "metadata": {},
   "source": [
    "# try문\n",
    "- 예외처리문"
   ]
  },
  {
   "cell_type": "code",
   "execution_count": 29,
   "metadata": {},
   "outputs": [
    {
     "name": "stdout",
     "output_type": "stream",
     "text": [
      "t\n"
     ]
    }
   ],
   "source": [
    "# 에러가 있을 떄\n",
    "\n",
    "try:\n",
    "    a = 1/0\n",
    "except:\n",
    "    print(\"t\")"
   ]
  },
  {
   "cell_type": "markdown",
   "metadata": {},
   "source": [
    "> try문 내에서 에러가 나면 에러를 일으키는 대신에 except문이 실행된다."
   ]
  },
  {
   "cell_type": "code",
   "execution_count": 30,
   "metadata": {},
   "outputs": [],
   "source": [
    "# 에러가 없을 때\n",
    "\n",
    "try:\n",
    "    a = 0\n",
    "except:\n",
    "    print(\"t\")"
   ]
  },
  {
   "cell_type": "markdown",
   "metadata": {},
   "source": [
    "> 에러가 나지 않으면 except문이 실행되지 않는다."
   ]
  },
  {
   "cell_type": "code",
   "execution_count": 26,
   "metadata": {},
   "outputs": [
    {
     "name": "stdout",
     "output_type": "stream",
     "text": [
      "else\n"
     ]
    }
   ],
   "source": [
    "# else\n",
    "\n",
    "try:\n",
    "    a = 0\n",
    "except:\n",
    "    print(\"t\")\n",
    "else:\n",
    "    print(\"else\")"
   ]
  },
  {
   "cell_type": "markdown",
   "metadata": {},
   "source": [
    "> else는 try문에서 에러가 발생하지 않았을 때 실행된다."
   ]
  },
  {
   "cell_type": "code",
   "execution_count": 27,
   "metadata": {},
   "outputs": [
    {
     "name": "stdout",
     "output_type": "stream",
     "text": [
      "else\n",
      "finally\n"
     ]
    }
   ],
   "source": [
    "# finally\n",
    "\n",
    "try:\n",
    "    a = 0\n",
    "except:\n",
    "    print(\"t\")\n",
    "else:\n",
    "    print(\"else\")\n",
    "finally:\n",
    "    print(\"finally\")"
   ]
  },
  {
   "cell_type": "code",
   "execution_count": 28,
   "metadata": {},
   "outputs": [
    {
     "name": "stdout",
     "output_type": "stream",
     "text": [
      "t\n",
      "finally\n"
     ]
    }
   ],
   "source": [
    "# finally\n",
    "\n",
    "try:\n",
    "    a = 1/0\n",
    "except:\n",
    "    print(\"t\")\n",
    "else:\n",
    "    print(\"else\")\n",
    "finally:\n",
    "    print(\"finally\")"
   ]
  },
  {
   "cell_type": "markdown",
   "metadata": {},
   "source": [
    "> finally 는 try문에서 에러가 발생하거나 안하거나 상관없이 항상 실행된다."
   ]
  },
  {
   "cell_type": "code",
   "execution_count": 34,
   "metadata": {},
   "outputs": [
    {
     "name": "stdout",
     "output_type": "stream",
     "text": [
      "t\n"
     ]
    }
   ],
   "source": [
    "try:\n",
    "    a = 1/0\n",
    "except ZeroDivisionError:\n",
    "    print(\"t\")"
   ]
  },
  {
   "cell_type": "markdown",
   "metadata": {},
   "source": [
    "> `except` 뒤에 특정 에러를 지정하면 해당하는 에러만 처리한다.  \n",
    "- 내가 custom Error를 만들어서 활용할 수 있다."
   ]
  },
  {
   "cell_type": "code",
   "execution_count": 38,
   "metadata": {},
   "outputs": [
    {
     "name": "stdout",
     "output_type": "stream",
     "text": [
      "<class 'Exception'>\n"
     ]
    }
   ],
   "source": [
    "try:\n",
    "    a = 1/0\n",
    "except Exception:\n",
    "    print(Exception)"
   ]
  },
  {
   "cell_type": "markdown",
   "metadata": {},
   "source": [
    "> `Exception`은 모든 에러를 받는다. \n",
    "- 에러별로 `except`문을 여러개 쓰고 마지막에 지정되지 않은 에러를 종합 처리할때 쓸 수 있다."
   ]
  },
  {
   "cell_type": "code",
   "execution_count": 40,
   "metadata": {},
   "outputs": [
    {
     "name": "stdout",
     "output_type": "stream",
     "text": [
      "division by zero\n"
     ]
    }
   ],
   "source": [
    "try:\n",
    "    a = 1/0\n",
    "except Exception as e:\n",
    "    print(e)"
   ]
  },
  {
   "cell_type": "markdown",
   "metadata": {},
   "source": [
    "# as\n",
    "> - with 문에서: as는 assignment이다.  \n",
    "- import 문에서: as는 이름이다.\n",
    "- except 문에서: as는 인스턴스이다."
   ]
  },
  {
   "cell_type": "markdown",
   "metadata": {},
   "source": [
    "---"
   ]
  },
  {
   "cell_type": "markdown",
   "metadata": {},
   "source": [
    "# python magic method"
   ]
  },
  {
   "cell_type": "code",
   "execution_count": 157,
   "metadata": {},
   "outputs": [],
   "source": [
    "class X:\n",
    "    '''test'''\n",
    "    def __repr__(self):\n",
    "        return \"REPR\"\n",
    "    def __str__(self):\n",
    "        return \"STR\""
   ]
  },
  {
   "cell_type": "code",
   "execution_count": 63,
   "metadata": {},
   "outputs": [],
   "source": [
    "?X"
   ]
  },
  {
   "cell_type": "code",
   "execution_count": 64,
   "metadata": {},
   "outputs": [
    {
     "data": {
      "text/plain": [
       "'test'"
      ]
     },
     "execution_count": 64,
     "metadata": {},
     "output_type": "execute_result"
    }
   ],
   "source": [
    "X.__doc__"
   ]
  },
  {
   "cell_type": "markdown",
   "metadata": {},
   "source": [
    "> 선언할때 `'''  '''`은 docstring이다.  \n",
    "우리가 shift + tab 해서 확인하는 그것이다."
   ]
  },
  {
   "cell_type": "code",
   "execution_count": 158,
   "metadata": {},
   "outputs": [
    {
     "data": {
      "text/plain": [
       "REPR"
      ]
     },
     "execution_count": 158,
     "metadata": {},
     "output_type": "execute_result"
    }
   ],
   "source": [
    "x = X()\n",
    "x"
   ]
  },
  {
   "cell_type": "markdown",
   "metadata": {},
   "source": [
    "> `__repr__`은 객체 이름을 불렀을 때 표현해주는 값이다."
   ]
  },
  {
   "cell_type": "code",
   "execution_count": 58,
   "metadata": {},
   "outputs": [
    {
     "name": "stdout",
     "output_type": "stream",
     "text": [
      "STR\n"
     ]
    }
   ],
   "source": [
    "print(x)"
   ]
  },
  {
   "cell_type": "markdown",
   "metadata": {},
   "source": [
    "> `__str__`은 `print`했을때 표현해주는 값이다.  \n",
    "- 대부분의 개발자들은 `__repr__`과 `__str__`을 똑같이 해놓는다. 그래서 객체를 불렀을때 읽기 힘들면 print를 해서 본다.\n",
    "- 그러나 실제로는 객체를 불렀을 때 값과 프린트 값을 다르게 하는 것이 가능하다.\n"
   ]
  },
  {
   "cell_type": "code",
   "execution_count": 66,
   "metadata": {},
   "outputs": [
    {
     "data": {
      "text/plain": [
       "True"
      ]
     },
     "execution_count": 66,
     "metadata": {},
     "output_type": "execute_result"
    }
   ],
   "source": [
    "# ZeroDivisionError도 Exception을 상속받아서 만들었다.\n",
    "# 우리도 Exception을 상속받아서 custom Error를 만들 수 있다.\n",
    "\n",
    "issubclass(ZeroDivisionError, Exception)"
   ]
  },
  {
   "cell_type": "markdown",
   "metadata": {},
   "source": [
    "> \"is\"라는 이름이 붙은 함수를 predicate 함수라고 한다.  \n",
    "`True`, `False`를 반환한다. "
   ]
  },
  {
   "cell_type": "markdown",
   "metadata": {},
   "source": [
    "---"
   ]
  },
  {
   "cell_type": "markdown",
   "metadata": {},
   "source": [
    "# 중첩식 할당"
   ]
  },
  {
   "cell_type": "code",
   "execution_count": 77,
   "metadata": {},
   "outputs": [
    {
     "data": {
      "text/plain": [
       "3"
      ]
     },
     "execution_count": 77,
     "metadata": {},
     "output_type": "execute_result"
    }
   ],
   "source": [
    "# 3항 표현식 \n",
    "\n",
    "a = 3\n",
    "t = 3 if a>2 else 4\n",
    "t"
   ]
  },
  {
   "cell_type": "markdown",
   "metadata": {},
   "source": [
    "> 할당문의 우변은 표현식이다.  \n",
    "3항으로 표현식을 만들 수 있다."
   ]
  },
  {
   "cell_type": "code",
   "execution_count": 79,
   "metadata": {},
   "outputs": [
    {
     "data": {
      "text/plain": [
       "4"
      ]
     },
     "execution_count": 79,
     "metadata": {},
     "output_type": "execute_result"
    }
   ],
   "source": [
    "a = 3\n",
    "t = 3 if a>4 else 4 if a>2 else 5\n",
    "t"
   ]
  },
  {
   "cell_type": "markdown",
   "metadata": {},
   "source": [
    "> 식은 식을 포함할 수 있다. 중첩 식을 사용할 수 있다.\n",
    "- 식은 할당문의 우변에 쓸 수 있고\n",
    "- 식은 함수의 인자로 쓸 수 있다."
   ]
  },
  {
   "cell_type": "markdown",
   "metadata": {},
   "source": [
    "---"
   ]
  },
  {
   "cell_type": "markdown",
   "metadata": {},
   "source": [
    "# 선언문\n",
    "    - 나중에 재사용하기 위해서 정의하는 것이다.\n",
    "    - 파이썬에서는 함수 선언문과 클래스 선언문이 있다.\n",
    "    - 매개변수와 인자의 차이를 알아야한다."
   ]
  },
  {
   "cell_type": "code",
   "execution_count": 80,
   "metadata": {},
   "outputs": [],
   "source": [
    "# 함수 선언문\n",
    "\n",
    "def x(a): # <-a는 매개변수(parameter) 라고 한다.\n",
    "    return 1"
   ]
  },
  {
   "cell_type": "code",
   "execution_count": 81,
   "metadata": {},
   "outputs": [
    {
     "data": {
      "text/plain": [
       "1"
      ]
     },
     "execution_count": 81,
     "metadata": {},
     "output_type": "execute_result"
    }
   ],
   "source": [
    "x(2) # <- 2는 인자(argument) 라고 한다."
   ]
  },
  {
   "cell_type": "markdown",
   "metadata": {},
   "source": [
    "> - 매개변수(parmeter, 파라미터)는 선언할 때 부르는 이름이다.  \n",
    "- 인자(argument)는 사용할때 부르는 이름이다.\n",
    "- 기본적으로 매개변수와 인자의 개수는 같아야 한다. "
   ]
  },
  {
   "cell_type": "code",
   "execution_count": 82,
   "metadata": {},
   "outputs": [],
   "source": [
    "# 매개변수 기본값(default)\n",
    "\n",
    "def x(a=2):\n",
    "    return 1"
   ]
  },
  {
   "cell_type": "code",
   "execution_count": 83,
   "metadata": {},
   "outputs": [
    {
     "data": {
      "text/plain": [
       "1"
      ]
     },
     "execution_count": 83,
     "metadata": {},
     "output_type": "execute_result"
    }
   ],
   "source": [
    "# 키워드 인자\n",
    "\n",
    "x(a=2)"
   ]
  },
  {
   "cell_type": "code",
   "execution_count": 84,
   "metadata": {},
   "outputs": [
    {
     "data": {
      "text/plain": [
       "1"
      ]
     },
     "execution_count": 84,
     "metadata": {},
     "output_type": "execute_result"
    }
   ],
   "source": [
    "# default 값이 있기 때문에 개수를 안 맞춰도 된다.\n",
    "\n",
    "x()"
   ]
  },
  {
   "cell_type": "markdown",
   "metadata": {},
   "source": [
    "> - 매개변수는 default 값을 둘 수 있다. \n",
    "- 인자를 매개변수=값 으로 전달하는 것을 키워드 방식이라고 한다.\n",
    "- 매개변수와 인자의 `=`는 서로 다른 역할이다.\n",
    "- 매개변수에 기본값이 주어지면 인자가 없으면 기본값을 인자로 사용한다.\n",
    "    - tip: 파이썬은 overloading을 지원하지 않기 때문에 가능하다."
   ]
  },
  {
   "cell_type": "code",
   "execution_count": 88,
   "metadata": {},
   "outputs": [],
   "source": [
    "# 매개변수가 여러개일때, 한번 default 값을 쓰면 그 뒤로는 계속 default 값을 써줘야한다.\n",
    "\n",
    "def x(a,b=3):\n",
    "    return a"
   ]
  },
  {
   "cell_type": "code",
   "execution_count": 91,
   "metadata": {},
   "outputs": [
    {
     "data": {
      "text/plain": [
       "1"
      ]
     },
     "execution_count": 91,
     "metadata": {},
     "output_type": "execute_result"
    }
   ],
   "source": [
    "x(1,2)"
   ]
  },
  {
   "cell_type": "code",
   "execution_count": 90,
   "metadata": {},
   "outputs": [
    {
     "data": {
      "text/plain": [
       "2"
      ]
     },
     "execution_count": 90,
     "metadata": {},
     "output_type": "execute_result"
    }
   ],
   "source": [
    "# 키워드 방식은 입력 순서에 구애받지 않는다.\n",
    "\n",
    "x(b=1, a=2)"
   ]
  },
  {
   "cell_type": "markdown",
   "metadata": {},
   "source": [
    "> - 매개변수는 기본값을 써도 되고 안 써도 된다.\n",
    "- 키워드 방식은 입력 순서를 섞어도 된다."
   ]
  },
  {
   "cell_type": "code",
   "execution_count": 93,
   "metadata": {},
   "outputs": [
    {
     "ename": "SyntaxError",
     "evalue": "non-default argument follows default argument (<ipython-input-93-b8f6bc837608>, line 3)",
     "output_type": "error",
     "traceback": [
      "\u001b[1;36m  File \u001b[1;32m\"<ipython-input-93-b8f6bc837608>\"\u001b[1;36m, line \u001b[1;32m3\u001b[0m\n\u001b[1;33m    def x(a,b=3, c):\u001b[0m\n\u001b[1;37m         ^\u001b[0m\n\u001b[1;31mSyntaxError\u001b[0m\u001b[1;31m:\u001b[0m non-default argument follows default argument\n"
     ]
    }
   ],
   "source": [
    "# Error\n",
    "\n",
    "def x(a,b=3, c):\n",
    "    return a"
   ]
  },
  {
   "cell_type": "code",
   "execution_count": 92,
   "metadata": {},
   "outputs": [
    {
     "ename": "SyntaxError",
     "evalue": "positional argument follows keyword argument (<ipython-input-92-1c21313dd956>, line 1)",
     "output_type": "error",
     "traceback": [
      "\u001b[1;36m  File \u001b[1;32m\"<ipython-input-92-1c21313dd956>\"\u001b[1;36m, line \u001b[1;32m1\u001b[0m\n\u001b[1;33m    x(1, b=2, 3)\u001b[0m\n\u001b[1;37m             ^\u001b[0m\n\u001b[1;31mSyntaxError\u001b[0m\u001b[1;31m:\u001b[0m positional argument follows keyword argument\n"
     ]
    }
   ],
   "source": [
    "# Error\n",
    "\n",
    "x(1, b=2, 3)"
   ]
  },
  {
   "cell_type": "markdown",
   "metadata": {},
   "source": [
    "> - 한번 default 값을 쓰면 그 뒤로는 계속 defalut 값을 써줘야한다.\n",
    "- 한번 키워드 방식을 쓰면 그 뒤로는 계속 키워드 방식을 써야한다."
   ]
  },
  {
   "cell_type": "code",
   "execution_count": 94,
   "metadata": {},
   "outputs": [],
   "source": [
    "def y(*, a):\n",
    "    return a"
   ]
  },
  {
   "cell_type": "code",
   "execution_count": 97,
   "metadata": {},
   "outputs": [
    {
     "ename": "TypeError",
     "evalue": "y() takes 0 positional arguments but 1 was given",
     "output_type": "error",
     "traceback": [
      "\u001b[1;31m---------------------------------------------------------------------------\u001b[0m",
      "\u001b[1;31mTypeError\u001b[0m                                 Traceback (most recent call last)",
      "\u001b[1;32m<ipython-input-97-8258effb8670>\u001b[0m in \u001b[0;36m<module>\u001b[1;34m\u001b[0m\n\u001b[1;32m----> 1\u001b[1;33m \u001b[0my\u001b[0m\u001b[1;33m(\u001b[0m\u001b[1;36m1\u001b[0m\u001b[1;33m)\u001b[0m\u001b[1;33m\u001b[0m\u001b[1;33m\u001b[0m\u001b[0m\n\u001b[0m",
      "\u001b[1;31mTypeError\u001b[0m: y() takes 0 positional arguments but 1 was given"
     ]
    }
   ],
   "source": [
    "y(1)"
   ]
  },
  {
   "cell_type": "code",
   "execution_count": 98,
   "metadata": {},
   "outputs": [
    {
     "data": {
      "text/plain": [
       "1"
      ]
     },
     "execution_count": 98,
     "metadata": {},
     "output_type": "execute_result"
    }
   ],
   "source": [
    "y(a=1)"
   ]
  },
  {
   "cell_type": "markdown",
   "metadata": {},
   "source": [
    "> - 매개변수의 `*`는 사용할때 키워드 방식을 강제한다.\n",
    "- Keyword only 방식이라고 한다."
   ]
  },
  {
   "cell_type": "code",
   "execution_count": 99,
   "metadata": {},
   "outputs": [],
   "source": [
    "def y(*a):\n",
    "    return a"
   ]
  },
  {
   "cell_type": "code",
   "execution_count": 100,
   "metadata": {},
   "outputs": [
    {
     "data": {
      "text/plain": [
       "()"
      ]
     },
     "execution_count": 100,
     "metadata": {},
     "output_type": "execute_result"
    }
   ],
   "source": [
    "y()"
   ]
  },
  {
   "cell_type": "code",
   "execution_count": 101,
   "metadata": {},
   "outputs": [
    {
     "data": {
      "text/plain": [
       "(1,)"
      ]
     },
     "execution_count": 101,
     "metadata": {},
     "output_type": "execute_result"
    }
   ],
   "source": [
    "y(1)"
   ]
  },
  {
   "cell_type": "code",
   "execution_count": 102,
   "metadata": {},
   "outputs": [
    {
     "data": {
      "text/plain": [
       "(1, 2, 3)"
      ]
     },
     "execution_count": 102,
     "metadata": {},
     "output_type": "execute_result"
    }
   ],
   "source": [
    "y(1,2,3)"
   ]
  },
  {
   "cell_type": "markdown",
   "metadata": {},
   "source": [
    "> 파라미터에 `*`를 붙이면 인자를 여러개 받을 수 있다.\n",
    "- 가변 포지셔널 방식이라고 한다."
   ]
  },
  {
   "cell_type": "code",
   "execution_count": 103,
   "metadata": {},
   "outputs": [],
   "source": [
    "def y(**a):\n",
    "    return a"
   ]
  },
  {
   "cell_type": "code",
   "execution_count": 104,
   "metadata": {},
   "outputs": [
    {
     "data": {
      "text/plain": [
       "{'a': 1, 'b': 2, 'c': 3}"
      ]
     },
     "execution_count": 104,
     "metadata": {},
     "output_type": "execute_result"
    }
   ],
   "source": [
    "y(a=1,b=2,c=3)"
   ]
  },
  {
   "cell_type": "markdown",
   "metadata": {},
   "source": [
    "> - 파라미터에 `**`가 붙으면 키워드 인자를 여러개 받을 수 있다.\n",
    "- 가변 키워드 방식이라고 한다."
   ]
  },
  {
   "cell_type": "code",
   "execution_count": 107,
   "metadata": {},
   "outputs": [],
   "source": [
    "def y(*a, **b):\n",
    "    return a, b"
   ]
  },
  {
   "cell_type": "code",
   "execution_count": 108,
   "metadata": {},
   "outputs": [
    {
     "data": {
      "text/plain": [
       "((3, 2, 1), {'a': 1, 'b': 4, 'c': 8})"
      ]
     },
     "execution_count": 108,
     "metadata": {},
     "output_type": "execute_result"
    }
   ],
   "source": [
    "y(3,2,1,a=1,b=4,c=8)"
   ]
  },
  {
   "cell_type": "markdown",
   "metadata": {},
   "source": [
    "> - 가변 포지셔널과 가변 키워드를 동시에 사용할 수 있다.\n",
    "- 가변 포지셔널은 리턴이 튜플, 가변 키워드는 리턴이 딕셔너리로 나온다\n",
    "- 단, 포지셔널과 키워드는 순서를 바꿀 수 없다."
   ]
  },
  {
   "cell_type": "code",
   "execution_count": 110,
   "metadata": {},
   "outputs": [
    {
     "data": {
      "text/plain": [
       "[<matplotlib.lines.Line2D at 0x1d99bc683c8>]"
      ]
     },
     "execution_count": 110,
     "metadata": {},
     "output_type": "execute_result"
    },
    {
     "data": {
      "image/png": "[encoded data removed]",
      "text/plain": [
       "<Figure size 432x288 with 1 Axes>"
      ]
     },
     "metadata": {
      "needs_background": "light"
     },
     "output_type": "display_data"
    }
   ],
   "source": [
    "# shift + tab을 눌러서 Signature를 보고 어떻게 인자를 넣어야할지 생각해봅시다.\n",
    "# docstring에서 Call Signature를 보면 [x]가 있는데, 이는 리스트라는 뜻이 아니라 옵션이라는 뜻이다.\n",
    "\n",
    "import matplotlib.pyplot as plt\n",
    "plt.plot([1,2,3],[4,5,6])"
   ]
  },
  {
   "cell_type": "code",
   "execution_count": 111,
   "metadata": {},
   "outputs": [],
   "source": [
    "def x(*a):\n",
    "    return a"
   ]
  },
  {
   "cell_type": "code",
   "execution_count": 112,
   "metadata": {},
   "outputs": [
    {
     "data": {
      "text/plain": [
       "([1, 2, 3, 4],)"
      ]
     },
     "execution_count": 112,
     "metadata": {},
     "output_type": "execute_result"
    }
   ],
   "source": [
    "x([1,2,3,4])"
   ]
  },
  {
   "cell_type": "code",
   "execution_count": 113,
   "metadata": {},
   "outputs": [
    {
     "data": {
      "text/plain": [
       "(1, 2, 3, 4)"
      ]
     },
     "execution_count": 113,
     "metadata": {},
     "output_type": "execute_result"
    }
   ],
   "source": [
    "x(*[1,2,3,4])"
   ]
  },
  {
   "cell_type": "markdown",
   "metadata": {},
   "source": [
    "> - 인자에 `*`이 붙으면 unpacking이다.\n",
    "- list를 하나의 객체로 받는 것이 아니라 풀어서 값을 하나씩 따로 받았다."
   ]
  },
  {
   "cell_type": "code",
   "execution_count": 114,
   "metadata": {},
   "outputs": [],
   "source": [
    "def x(**a):\n",
    "    return a"
   ]
  },
  {
   "cell_type": "code",
   "execution_count": 115,
   "metadata": {},
   "outputs": [],
   "source": [
    "t = {\"a\":3, \"b\":4, \"c\":5}"
   ]
  },
  {
   "cell_type": "code",
   "execution_count": 117,
   "metadata": {},
   "outputs": [
    {
     "ename": "TypeError",
     "evalue": "x() takes 0 positional arguments but 1 was given",
     "output_type": "error",
     "traceback": [
      "\u001b[1;31m---------------------------------------------------------------------------\u001b[0m",
      "\u001b[1;31mTypeError\u001b[0m                                 Traceback (most recent call last)",
      "\u001b[1;32m<ipython-input-117-944669f12bb7>\u001b[0m in \u001b[0;36m<module>\u001b[1;34m\u001b[0m\n\u001b[1;32m----> 1\u001b[1;33m \u001b[0mx\u001b[0m\u001b[1;33m(\u001b[0m\u001b[0mt\u001b[0m\u001b[1;33m)\u001b[0m\u001b[1;33m\u001b[0m\u001b[1;33m\u001b[0m\u001b[0m\n\u001b[0m",
      "\u001b[1;31mTypeError\u001b[0m: x() takes 0 positional arguments but 1 was given"
     ]
    }
   ],
   "source": [
    "# Error\n",
    "# 함수에서 parameter가 **이 붙으면 키워드 인자만 받기 때문이다.\n",
    "\n",
    "x(t)"
   ]
  },
  {
   "cell_type": "code",
   "execution_count": 118,
   "metadata": {},
   "outputs": [
    {
     "data": {
      "text/plain": [
       "{'a': 3, 'b': 4, 'c': 5}"
      ]
     },
     "execution_count": 118,
     "metadata": {},
     "output_type": "execute_result"
    }
   ],
   "source": [
    "x(**t)"
   ]
  },
  {
   "cell_type": "markdown",
   "metadata": {},
   "source": [
    "> - 딕셔너리를 인자로 전달할 때, `**`가 붙으면 딕셔너리의 키와 밸류를 키워드 형식으로 전달한다.\n",
    "- 딕셔너리 언팩킹"
   ]
  },
  {
   "cell_type": "code",
   "execution_count": 124,
   "metadata": {},
   "outputs": [],
   "source": [
    "def x(*a):\n",
    "    return a"
   ]
  },
  {
   "cell_type": "code",
   "execution_count": 125,
   "metadata": {},
   "outputs": [],
   "source": [
    "t = {\"a\":3, \"b\":4, \"c\":5}"
   ]
  },
  {
   "cell_type": "code",
   "execution_count": 126,
   "metadata": {},
   "outputs": [
    {
     "data": {
      "text/plain": [
       "('a', 'b', 'c')"
      ]
     },
     "execution_count": 126,
     "metadata": {},
     "output_type": "execute_result"
    }
   ],
   "source": [
    "x(*t)"
   ]
  },
  {
   "cell_type": "markdown",
   "metadata": {},
   "source": [
    "> - 딕셔너리를 언팩킹할 때 `*`를 쓰면 key만 전달한다."
   ]
  },
  {
   "cell_type": "code",
   "execution_count": 142,
   "metadata": {},
   "outputs": [],
   "source": [
    "?sum\n",
    "\n",
    "# Signature: sum(iterable, start=0, /)"
   ]
  },
  {
   "cell_type": "markdown",
   "metadata": {},
   "source": [
    "> - Signature의 `/`는 positional 인자를 강제한다는 뜻이다."
   ]
  },
  {
   "cell_type": "markdown",
   "metadata": {},
   "source": [
    "#  파라미터의 7가지 (공식문서에는 5가지 사용법이 있지만 선생님은 더 세분화)\n",
    "1. positional 방식\n",
    "2. keyword 방식\n",
    "7. default 값을 주는 방식\n",
    "3. positional only 방식\n",
    "4. keword only 방식\n",
    "5. 가변 keyword 방식\n",
    "6. 가변 positional 방식\n",
    "  \n",
    "(정확하는 기억이 나지 않음...)"
   ]
  },
  {
   "cell_type": "code",
   "execution_count": 133,
   "metadata": {},
   "outputs": [],
   "source": [
    "def x(aa:int) -> int :\n",
    "    return aa"
   ]
  },
  {
   "cell_type": "code",
   "execution_count": 134,
   "metadata": {},
   "outputs": [],
   "source": [
    "?x # 또는 shift + tab"
   ]
  },
  {
   "cell_type": "code",
   "execution_count": 135,
   "metadata": {},
   "outputs": [
    {
     "data": {
      "text/plain": [
       "3"
      ]
     },
     "execution_count": 135,
     "metadata": {},
     "output_type": "execute_result"
    }
   ],
   "source": [
    "x(3)"
   ]
  },
  {
   "cell_type": "code",
   "execution_count": 136,
   "metadata": {},
   "outputs": [
    {
     "data": {
      "text/plain": [
       "'hello'"
      ]
     },
     "execution_count": 136,
     "metadata": {},
     "output_type": "execute_result"
    }
   ],
   "source": [
    "x('hello')"
   ]
  },
  {
   "cell_type": "markdown",
   "metadata": {},
   "source": [
    "> - Signature를 보면 입력 데이터 타입과 출력 데이터 타입에 대한 설명이 된다.\n",
    "- `def fn(param: input type) -> output type:`의 형태로 사용한다.\n",
    "- 이것은 강제효과는 없기 때문에 무시해도 실행하는데는 지장이 없다."
   ]
  },
  {
   "cell_type": "markdown",
   "metadata": {},
   "source": [
    "# higher order function\n",
    "다음 두가지를 동시에 만족하면 higher order function이라고 한다.\n",
    "    1. argument를 funtion으로 쓸 수 있다.\n",
    "    2. return을 function으로 쓸 수 있다."
   ]
  },
  {
   "cell_type": "code",
   "execution_count": 137,
   "metadata": {},
   "outputs": [],
   "source": [
    "# 함수를 인자로 받는 경우\n",
    "\n",
    "def x(f): \n",
    "    f(\"문근영\")"
   ]
  },
  {
   "cell_type": "code",
   "execution_count": 138,
   "metadata": {},
   "outputs": [
    {
     "name": "stdout",
     "output_type": "stream",
     "text": [
      "문근영\n"
     ]
    }
   ],
   "source": [
    "x(print)"
   ]
  },
  {
   "cell_type": "markdown",
   "metadata": {},
   "source": [
    "> - 파이썬에서 `()`괄호를 붙일 수 있는 3가지 경우\n",
    "    - 함수\n",
    "    - 클래스\n",
    "    - `__call__`이 정의된 인스턴스\n",
    "- `callable`은 `()`를 쓸 수 있는 객체인지를 확인하는 함수이다.\n",
    "\n",
    "> - 괄호가 안 붙은 것만 함수라고 한다. 헷갈리지 쉬움.\n",
    "    - x -> 함수\n",
    "    - x() -> 리턴값  "
   ]
  },
  {
   "cell_type": "code",
   "execution_count": 139,
   "metadata": {},
   "outputs": [],
   "source": [
    "# 함수를 인자로 받아서 함수를 리턴하는 경우\n",
    "\n",
    "def x(f):\n",
    "    return f"
   ]
  },
  {
   "cell_type": "code",
   "execution_count": 140,
   "metadata": {},
   "outputs": [
    {
     "name": "stdout",
     "output_type": "stream",
     "text": [
      "문근영\n"
     ]
    }
   ],
   "source": [
    "x(print)(\"문근영\")"
   ]
  },
  {
   "cell_type": "markdown",
   "metadata": {},
   "source": [
    "# for를 쓰지 않는 방법\n",
    "내부적으로 vectorization을 해서 속도가 for문보다 훨씬 빠르다.  \n",
    "reduction한다.\n",
    "1. map\n",
    "2. filter\n",
    "3. reduce"
   ]
  },
  {
   "cell_type": "code",
   "execution_count": 141,
   "metadata": {},
   "outputs": [],
   "source": [
    "# map에서 함수를 인자로 받는 기능이 유용하다.\n",
    "# map(func, *iterables) --> map object\n",
    "\n",
    "?map"
   ]
  },
  {
   "cell_type": "code",
   "execution_count": 143,
   "metadata": {},
   "outputs": [
    {
     "data": {
      "text/plain": [
       "[3, 4, 5, 6]"
      ]
     },
     "execution_count": 143,
     "metadata": {},
     "output_type": "execute_result"
    }
   ],
   "source": [
    "# 익명함수 lambda\n",
    "\n",
    "list(map(lambda x:x+1, [2,3,4,5]))"
   ]
  },
  {
   "cell_type": "code",
   "execution_count": 147,
   "metadata": {},
   "outputs": [
    {
     "data": {
      "text/plain": [
       "[4, 5, 6]"
      ]
     },
     "execution_count": 147,
     "metadata": {},
     "output_type": "execute_result"
    }
   ],
   "source": [
    "list(filter(lambda x:x>3, [2,3,4,5,6]))"
   ]
  },
  {
   "cell_type": "code",
   "execution_count": 144,
   "metadata": {},
   "outputs": [],
   "source": [
    "from functools import reduce"
   ]
  },
  {
   "cell_type": "code",
   "execution_count": 145,
   "metadata": {},
   "outputs": [
    {
     "data": {
      "text/plain": [
       "15"
      ]
     },
     "execution_count": 145,
     "metadata": {},
     "output_type": "execute_result"
    }
   ],
   "source": [
    "reduce(lambda x,y:x+y, [1,2,3,4,5])"
   ]
  },
  {
   "cell_type": "code",
   "execution_count": 148,
   "metadata": {},
   "outputs": [
    {
     "name": "stdout",
     "output_type": "stream",
     "text": [
      "1.32 s ± 15.9 ms per loop (mean ± std. dev. of 7 runs, 1 loop each)\n"
     ]
    }
   ],
   "source": [
    "%%timeit\n",
    "temp = []\n",
    "for i in range(10000000):\n",
    "    temp.append(i+1)"
   ]
  },
  {
   "cell_type": "code",
   "execution_count": 149,
   "metadata": {},
   "outputs": [
    {
     "name": "stdout",
     "output_type": "stream",
     "text": [
      "498 ns ± 20.7 ns per loop (mean ± std. dev. of 7 runs, 1000000 loops each)\n"
     ]
    }
   ],
   "source": [
    "%%timeit\n",
    "map(lambda x:x+1, range(10000000))"
   ]
  },
  {
   "cell_type": "markdown",
   "metadata": {},
   "source": [
    "# first-class function\n",
    "- 프로그래밍에서는 값이 제일 중요하다.\n",
    "- 함수를 값처럼 쓸 수 있다.\n",
    "- java는 higher order function이지만 first-class function은 아니기 때문에 파이썬과 차이가 있다."
   ]
  },
  {
   "cell_type": "code",
   "execution_count": 150,
   "metadata": {},
   "outputs": [],
   "source": [
    "x = print"
   ]
  },
  {
   "cell_type": "code",
   "execution_count": 151,
   "metadata": {},
   "outputs": [
    {
     "name": "stdout",
     "output_type": "stream",
     "text": [
      "문근영\n"
     ]
    }
   ],
   "source": [
    "x(\"문근영\")"
   ]
  },
  {
   "cell_type": "code",
   "execution_count": 152,
   "metadata": {},
   "outputs": [],
   "source": [
    "x = [print, sum]"
   ]
  },
  {
   "cell_type": "code",
   "execution_count": 153,
   "metadata": {},
   "outputs": [
    {
     "name": "stdout",
     "output_type": "stream",
     "text": [
      "문근영\n"
     ]
    }
   ],
   "source": [
    "x[0](\"문근영\")"
   ]
  },
  {
   "cell_type": "code",
   "execution_count": null,
   "metadata": {},
   "outputs": [],
   "source": []
  }
 ],
 "metadata": {
  "kernelspec": {
   "display_name": "Python 3",
   "language": "python",
   "name": "python3"
  },
  "language_info": {
   "codemirror_mode": {
    "name": "ipython",
    "version": 3
   },
   "file_extension": ".py",
   "mimetype": "text/x-python",
   "name": "python",
   "nbconvert_exporter": "python",
   "pygments_lexer": "ipython3",
   "version": "3.7.3"
  }
 },
 "nbformat": 4,
 "nbformat_minor": 2
}
