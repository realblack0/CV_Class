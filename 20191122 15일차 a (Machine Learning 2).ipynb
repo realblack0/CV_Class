{
 "cells": [
  {
   "cell_type": "code",
   "execution_count": 88,
   "metadata": {},
   "outputs": [],
   "source": [
    "from sklearn.datasets import fetch_openml"
   ]
  },
  {
   "cell_type": "code",
   "execution_count": null,
   "metadata": {},
   "outputs": [],
   "source": [
    "fetch_openml()"
   ]
  },
  {
   "cell_type": "markdown",
   "metadata": {},
   "source": [
    "> - openml이라는 사이트에서 데이터 가져오는 함수.\n",
    "- 연습용 데이터 구하기에 좋다\n",
    "- 참고용"
   ]
  },
  {
   "cell_type": "code",
   "execution_count": 25,
   "metadata": {},
   "outputs": [
    {
     "name": "stderr",
     "output_type": "stream",
     "text": [
      "C:\\Users\\JINHYO\\Anaconda3\\lib\\importlib\\_bootstrap.py:219: RuntimeWarning: numpy.ufunc size changed, may indicate binary incompatibility. Expected 192 from C header, got 216 from PyObject\n",
      "  return f(*args, **kwds)\n",
      "C:\\Users\\JINHYO\\Anaconda3\\lib\\importlib\\_bootstrap.py:219: RuntimeWarning: numpy.ufunc size changed, may indicate binary incompatibility. Expected 192 from C header, got 216 from PyObject\n",
      "  return f(*args, **kwds)\n"
     ]
    }
   ],
   "source": [
    "import seaborn as sns"
   ]
  },
  {
   "cell_type": "code",
   "execution_count": 28,
   "metadata": {},
   "outputs": [],
   "source": [
    "mpg = sns.load_dataset(\"mpg\")"
   ]
  },
  {
   "cell_type": "code",
   "execution_count": 32,
   "metadata": {},
   "outputs": [
    {
     "data": {
      "text/html": [
       "<div>\n",
       "<style scoped>\n",
       "    .dataframe tbody tr th:only-of-type {\n",
       "        vertical-align: middle;\n",
       "    }\n",
       "\n",
       "    .dataframe tbody tr th {\n",
       "        vertical-align: top;\n",
       "    }\n",
       "\n",
       "    .dataframe thead th {\n",
       "        text-align: right;\n",
       "    }\n",
       "</style>\n",
       "<table border=\"1\" class=\"dataframe\">\n",
       "  <thead>\n",
       "    <tr style=\"text-align: right;\">\n",
       "      <th></th>\n",
       "      <th>mpg</th>\n",
       "      <th>cylinders</th>\n",
       "      <th>displacement</th>\n",
       "      <th>horsepower</th>\n",
       "      <th>weight</th>\n",
       "      <th>acceleration</th>\n",
       "      <th>model_year</th>\n",
       "      <th>origin</th>\n",
       "      <th>name</th>\n",
       "    </tr>\n",
       "  </thead>\n",
       "  <tbody>\n",
       "    <tr>\n",
       "      <th>0</th>\n",
       "      <td>18.0</td>\n",
       "      <td>8</td>\n",
       "      <td>307.0</td>\n",
       "      <td>130.0</td>\n",
       "      <td>3504</td>\n",
       "      <td>12.0</td>\n",
       "      <td>70</td>\n",
       "      <td>usa</td>\n",
       "      <td>chevrolet chevelle malibu</td>\n",
       "    </tr>\n",
       "    <tr>\n",
       "      <th>1</th>\n",
       "      <td>15.0</td>\n",
       "      <td>8</td>\n",
       "      <td>350.0</td>\n",
       "      <td>165.0</td>\n",
       "      <td>3693</td>\n",
       "      <td>11.5</td>\n",
       "      <td>70</td>\n",
       "      <td>usa</td>\n",
       "      <td>buick skylark 320</td>\n",
       "    </tr>\n",
       "    <tr>\n",
       "      <th>2</th>\n",
       "      <td>18.0</td>\n",
       "      <td>8</td>\n",
       "      <td>318.0</td>\n",
       "      <td>150.0</td>\n",
       "      <td>3436</td>\n",
       "      <td>11.0</td>\n",
       "      <td>70</td>\n",
       "      <td>usa</td>\n",
       "      <td>plymouth satellite</td>\n",
       "    </tr>\n",
       "    <tr>\n",
       "      <th>3</th>\n",
       "      <td>16.0</td>\n",
       "      <td>8</td>\n",
       "      <td>304.0</td>\n",
       "      <td>150.0</td>\n",
       "      <td>3433</td>\n",
       "      <td>12.0</td>\n",
       "      <td>70</td>\n",
       "      <td>usa</td>\n",
       "      <td>amc rebel sst</td>\n",
       "    </tr>\n",
       "    <tr>\n",
       "      <th>4</th>\n",
       "      <td>17.0</td>\n",
       "      <td>8</td>\n",
       "      <td>302.0</td>\n",
       "      <td>140.0</td>\n",
       "      <td>3449</td>\n",
       "      <td>10.5</td>\n",
       "      <td>70</td>\n",
       "      <td>usa</td>\n",
       "      <td>ford torino</td>\n",
       "    </tr>\n",
       "    <tr>\n",
       "      <th>...</th>\n",
       "      <td>...</td>\n",
       "      <td>...</td>\n",
       "      <td>...</td>\n",
       "      <td>...</td>\n",
       "      <td>...</td>\n",
       "      <td>...</td>\n",
       "      <td>...</td>\n",
       "      <td>...</td>\n",
       "      <td>...</td>\n",
       "    </tr>\n",
       "    <tr>\n",
       "      <th>393</th>\n",
       "      <td>27.0</td>\n",
       "      <td>4</td>\n",
       "      <td>140.0</td>\n",
       "      <td>86.0</td>\n",
       "      <td>2790</td>\n",
       "      <td>15.6</td>\n",
       "      <td>82</td>\n",
       "      <td>usa</td>\n",
       "      <td>ford mustang gl</td>\n",
       "    </tr>\n",
       "    <tr>\n",
       "      <th>394</th>\n",
       "      <td>44.0</td>\n",
       "      <td>4</td>\n",
       "      <td>97.0</td>\n",
       "      <td>52.0</td>\n",
       "      <td>2130</td>\n",
       "      <td>24.6</td>\n",
       "      <td>82</td>\n",
       "      <td>europe</td>\n",
       "      <td>vw pickup</td>\n",
       "    </tr>\n",
       "    <tr>\n",
       "      <th>395</th>\n",
       "      <td>32.0</td>\n",
       "      <td>4</td>\n",
       "      <td>135.0</td>\n",
       "      <td>84.0</td>\n",
       "      <td>2295</td>\n",
       "      <td>11.6</td>\n",
       "      <td>82</td>\n",
       "      <td>usa</td>\n",
       "      <td>dodge rampage</td>\n",
       "    </tr>\n",
       "    <tr>\n",
       "      <th>396</th>\n",
       "      <td>28.0</td>\n",
       "      <td>4</td>\n",
       "      <td>120.0</td>\n",
       "      <td>79.0</td>\n",
       "      <td>2625</td>\n",
       "      <td>18.6</td>\n",
       "      <td>82</td>\n",
       "      <td>usa</td>\n",
       "      <td>ford ranger</td>\n",
       "    </tr>\n",
       "    <tr>\n",
       "      <th>397</th>\n",
       "      <td>31.0</td>\n",
       "      <td>4</td>\n",
       "      <td>119.0</td>\n",
       "      <td>82.0</td>\n",
       "      <td>2720</td>\n",
       "      <td>19.4</td>\n",
       "      <td>82</td>\n",
       "      <td>usa</td>\n",
       "      <td>chevy s-10</td>\n",
       "    </tr>\n",
       "  </tbody>\n",
       "</table>\n",
       "<p>398 rows × 9 columns</p>\n",
       "</div>"
      ],
      "text/plain": [
       "      mpg  cylinders  displacement  horsepower  weight  acceleration  \\\n",
       "0    18.0          8         307.0       130.0    3504          12.0   \n",
       "1    15.0          8         350.0       165.0    3693          11.5   \n",
       "2    18.0          8         318.0       150.0    3436          11.0   \n",
       "3    16.0          8         304.0       150.0    3433          12.0   \n",
       "4    17.0          8         302.0       140.0    3449          10.5   \n",
       "..    ...        ...           ...         ...     ...           ...   \n",
       "393  27.0          4         140.0        86.0    2790          15.6   \n",
       "394  44.0          4          97.0        52.0    2130          24.6   \n",
       "395  32.0          4         135.0        84.0    2295          11.6   \n",
       "396  28.0          4         120.0        79.0    2625          18.6   \n",
       "397  31.0          4         119.0        82.0    2720          19.4   \n",
       "\n",
       "     model_year  origin                       name  \n",
       "0            70     usa  chevrolet chevelle malibu  \n",
       "1            70     usa          buick skylark 320  \n",
       "2            70     usa         plymouth satellite  \n",
       "3            70     usa              amc rebel sst  \n",
       "4            70     usa                ford torino  \n",
       "..          ...     ...                        ...  \n",
       "393          82     usa            ford mustang gl  \n",
       "394          82  europe                  vw pickup  \n",
       "395          82     usa              dodge rampage  \n",
       "396          82     usa                ford ranger  \n",
       "397          82     usa                 chevy s-10  \n",
       "\n",
       "[398 rows x 9 columns]"
      ]
     },
     "execution_count": 32,
     "metadata": {},
     "output_type": "execute_result"
    }
   ],
   "source": [
    "mpg"
   ]
  },
  {
   "cell_type": "code",
   "execution_count": 31,
   "metadata": {},
   "outputs": [
    {
     "data": {
      "text/plain": [
       "<matplotlib.axes._subplots.AxesSubplot at 0x237ccf9fa90>"
      ]
     },
     "execution_count": 31,
     "metadata": {},
     "output_type": "execute_result"
    },
    {
     "data": {
      "image/png": "[encoded data removed]",
      "text/plain": [
       "<Figure size 432x288 with 1 Axes>"
      ]
     },
     "metadata": {
      "needs_background": "light"
     },
     "output_type": "display_data"
    }
   ],
   "source": [
    "mpg.boxplot()"
   ]
  },
  {
   "cell_type": "code",
   "execution_count": 33,
   "metadata": {},
   "outputs": [
    {
     "name": "stdout",
     "output_type": "stream",
     "text": [
      "<class 'pandas.core.frame.DataFrame'>\n",
      "RangeIndex: 398 entries, 0 to 397\n",
      "Data columns (total 9 columns):\n",
      "mpg             398 non-null float64\n",
      "cylinders       398 non-null int64\n",
      "displacement    398 non-null float64\n",
      "horsepower      392 non-null float64\n",
      "weight          398 non-null int64\n",
      "acceleration    398 non-null float64\n",
      "model_year      398 non-null int64\n",
      "origin          398 non-null object\n",
      "name            398 non-null object\n",
      "dtypes: float64(4), int64(3), object(2)\n",
      "memory usage: 28.1+ KB\n"
     ]
    }
   ],
   "source": [
    "mpg.info()"
   ]
  },
  {
   "cell_type": "code",
   "execution_count": 34,
   "metadata": {},
   "outputs": [
    {
     "data": {
      "text/html": [
       "<div>\n",
       "<style scoped>\n",
       "    .dataframe tbody tr th:only-of-type {\n",
       "        vertical-align: middle;\n",
       "    }\n",
       "\n",
       "    .dataframe tbody tr th {\n",
       "        vertical-align: top;\n",
       "    }\n",
       "\n",
       "    .dataframe thead th {\n",
       "        text-align: right;\n",
       "    }\n",
       "</style>\n",
       "<table border=\"1\" class=\"dataframe\">\n",
       "  <thead>\n",
       "    <tr style=\"text-align: right;\">\n",
       "      <th></th>\n",
       "      <th>mpg</th>\n",
       "      <th>cylinders</th>\n",
       "      <th>displacement</th>\n",
       "      <th>horsepower</th>\n",
       "      <th>weight</th>\n",
       "      <th>acceleration</th>\n",
       "      <th>model_year</th>\n",
       "    </tr>\n",
       "  </thead>\n",
       "  <tbody>\n",
       "    <tr>\n",
       "      <th>count</th>\n",
       "      <td>398.000000</td>\n",
       "      <td>398.000000</td>\n",
       "      <td>398.000000</td>\n",
       "      <td>392.000000</td>\n",
       "      <td>398.000000</td>\n",
       "      <td>398.000000</td>\n",
       "      <td>398.000000</td>\n",
       "    </tr>\n",
       "    <tr>\n",
       "      <th>mean</th>\n",
       "      <td>23.514573</td>\n",
       "      <td>5.454774</td>\n",
       "      <td>193.425879</td>\n",
       "      <td>104.469388</td>\n",
       "      <td>2970.424623</td>\n",
       "      <td>15.568090</td>\n",
       "      <td>76.010050</td>\n",
       "    </tr>\n",
       "    <tr>\n",
       "      <th>std</th>\n",
       "      <td>7.815984</td>\n",
       "      <td>1.701004</td>\n",
       "      <td>104.269838</td>\n",
       "      <td>38.491160</td>\n",
       "      <td>846.841774</td>\n",
       "      <td>2.757689</td>\n",
       "      <td>3.697627</td>\n",
       "    </tr>\n",
       "    <tr>\n",
       "      <th>min</th>\n",
       "      <td>9.000000</td>\n",
       "      <td>3.000000</td>\n",
       "      <td>68.000000</td>\n",
       "      <td>46.000000</td>\n",
       "      <td>1613.000000</td>\n",
       "      <td>8.000000</td>\n",
       "      <td>70.000000</td>\n",
       "    </tr>\n",
       "    <tr>\n",
       "      <th>25%</th>\n",
       "      <td>17.500000</td>\n",
       "      <td>4.000000</td>\n",
       "      <td>104.250000</td>\n",
       "      <td>75.000000</td>\n",
       "      <td>2223.750000</td>\n",
       "      <td>13.825000</td>\n",
       "      <td>73.000000</td>\n",
       "    </tr>\n",
       "    <tr>\n",
       "      <th>50%</th>\n",
       "      <td>23.000000</td>\n",
       "      <td>4.000000</td>\n",
       "      <td>148.500000</td>\n",
       "      <td>93.500000</td>\n",
       "      <td>2803.500000</td>\n",
       "      <td>15.500000</td>\n",
       "      <td>76.000000</td>\n",
       "    </tr>\n",
       "    <tr>\n",
       "      <th>75%</th>\n",
       "      <td>29.000000</td>\n",
       "      <td>8.000000</td>\n",
       "      <td>262.000000</td>\n",
       "      <td>126.000000</td>\n",
       "      <td>3608.000000</td>\n",
       "      <td>17.175000</td>\n",
       "      <td>79.000000</td>\n",
       "    </tr>\n",
       "    <tr>\n",
       "      <th>max</th>\n",
       "      <td>46.600000</td>\n",
       "      <td>8.000000</td>\n",
       "      <td>455.000000</td>\n",
       "      <td>230.000000</td>\n",
       "      <td>5140.000000</td>\n",
       "      <td>24.800000</td>\n",
       "      <td>82.000000</td>\n",
       "    </tr>\n",
       "  </tbody>\n",
       "</table>\n",
       "</div>"
      ],
      "text/plain": [
       "              mpg   cylinders  displacement  horsepower       weight  \\\n",
       "count  398.000000  398.000000    398.000000  392.000000   398.000000   \n",
       "mean    23.514573    5.454774    193.425879  104.469388  2970.424623   \n",
       "std      7.815984    1.701004    104.269838   38.491160   846.841774   \n",
       "min      9.000000    3.000000     68.000000   46.000000  1613.000000   \n",
       "25%     17.500000    4.000000    104.250000   75.000000  2223.750000   \n",
       "50%     23.000000    4.000000    148.500000   93.500000  2803.500000   \n",
       "75%     29.000000    8.000000    262.000000  126.000000  3608.000000   \n",
       "max     46.600000    8.000000    455.000000  230.000000  5140.000000   \n",
       "\n",
       "       acceleration  model_year  \n",
       "count    398.000000  398.000000  \n",
       "mean      15.568090   76.010050  \n",
       "std        2.757689    3.697627  \n",
       "min        8.000000   70.000000  \n",
       "25%       13.825000   73.000000  \n",
       "50%       15.500000   76.000000  \n",
       "75%       17.175000   79.000000  \n",
       "max       24.800000   82.000000  "
      ]
     },
     "execution_count": 34,
     "metadata": {},
     "output_type": "execute_result"
    }
   ],
   "source": [
    "mpg.describe()"
   ]
  },
  {
   "cell_type": "markdown",
   "metadata": {},
   "source": [
    "### 데이터 전처리"
   ]
  },
  {
   "cell_type": "code",
   "execution_count": 35,
   "metadata": {},
   "outputs": [],
   "source": [
    "mpg.dropna(inplace=True)"
   ]
  },
  {
   "cell_type": "code",
   "execution_count": 36,
   "metadata": {},
   "outputs": [],
   "source": [
    "from sklearn.preprocessing import MinMaxScaler, StandardScaler"
   ]
  },
  {
   "cell_type": "code",
   "execution_count": 37,
   "metadata": {},
   "outputs": [],
   "source": [
    "mm = MinMaxScaler()"
   ]
  },
  {
   "cell_type": "code",
   "execution_count": 38,
   "metadata": {},
   "outputs": [
    {
     "data": {
      "text/plain": [
       "array([[0.2393617 ],\n",
       "       [0.15957447],\n",
       "       [0.2393617 ],\n",
       "       [0.18617021],\n",
       "       [0.21276596],\n",
       "       [0.15957447],\n",
       "       [0.13297872],\n",
       "       [0.13297872],\n",
       "       [0.13297872],\n",
       "       [0.15957447],\n",
       "       [0.15957447],\n",
       "       [0.13297872],\n",
       "       [0.15957447],\n",
       "       [0.13297872],\n",
       "       [0.39893617],\n",
       "       [0.34574468],\n",
       "       [0.2393617 ],\n",
       "       [0.31914894],\n",
       "       [0.4787234 ],\n",
       "       [0.45212766],\n",
       "       [0.42553191],\n",
       "       [0.39893617],\n",
       "       [0.42553191],\n",
       "       [0.45212766],\n",
       "       [0.31914894],\n",
       "       [0.02659574],\n",
       "       [0.02659574],\n",
       "       [0.05319149],\n",
       "       [0.        ],\n",
       "       [0.4787234 ],\n",
       "       [0.50531915],\n",
       "       [0.42553191],\n",
       "       [0.26595745],\n",
       "       [0.18617021],\n",
       "       [0.21276596],\n",
       "       [0.26595745],\n",
       "       [0.2393617 ],\n",
       "       [0.13297872],\n",
       "       [0.13297872],\n",
       "       [0.13297872],\n",
       "       [0.13297872],\n",
       "       [0.07978723],\n",
       "       [0.10638298],\n",
       "       [0.10638298],\n",
       "       [0.2393617 ],\n",
       "       [0.34574468],\n",
       "       [0.26595745],\n",
       "       [0.2393617 ],\n",
       "       [0.37234043],\n",
       "       [0.50531915],\n",
       "       [0.55851064],\n",
       "       [0.55851064],\n",
       "       [0.58510638],\n",
       "       [0.69148936],\n",
       "       [0.4787234 ],\n",
       "       [0.45212766],\n",
       "       [0.39893617],\n",
       "       [0.42553191],\n",
       "       [0.37234043],\n",
       "       [0.29255319],\n",
       "       [0.31914894],\n",
       "       [0.10638298],\n",
       "       [0.13297872],\n",
       "       [0.15957447],\n",
       "       [0.13297872],\n",
       "       [0.21276596],\n",
       "       [0.05319149],\n",
       "       [0.10638298],\n",
       "       [0.07978723],\n",
       "       [0.10638298],\n",
       "       [0.26595745],\n",
       "       [0.15957447],\n",
       "       [0.10638298],\n",
       "       [0.10638298],\n",
       "       [0.13297872],\n",
       "       [0.2393617 ],\n",
       "       [0.34574468],\n",
       "       [0.31914894],\n",
       "       [0.45212766],\n",
       "       [0.34574468],\n",
       "       [0.50531915],\n",
       "       [0.37234043],\n",
       "       [0.50531915],\n",
       "       [0.4787234 ],\n",
       "       [0.10638298],\n",
       "       [0.13297872],\n",
       "       [0.10638298],\n",
       "       [0.13297872],\n",
       "       [0.15957447],\n",
       "       [0.07978723],\n",
       "       [0.10638298],\n",
       "       [0.10638298],\n",
       "       [0.13297872],\n",
       "       [0.10638298],\n",
       "       [0.07978723],\n",
       "       [0.10638298],\n",
       "       [0.2393617 ],\n",
       "       [0.18617021],\n",
       "       [0.2393617 ],\n",
       "       [0.2393617 ],\n",
       "       [0.37234043],\n",
       "       [0.45212766],\n",
       "       [0.05319149],\n",
       "       [0.07978723],\n",
       "       [0.10638298],\n",
       "       [0.07978723],\n",
       "       [0.2393617 ],\n",
       "       [0.29255319],\n",
       "       [0.31914894],\n",
       "       [0.34574468],\n",
       "       [0.2393617 ],\n",
       "       [0.26595745],\n",
       "       [0.31914894],\n",
       "       [0.45212766],\n",
       "       [0.15957447],\n",
       "       [0.18617021],\n",
       "       [0.53191489],\n",
       "       [0.39893617],\n",
       "       [0.29255319],\n",
       "       [0.26595745],\n",
       "       [0.15957447],\n",
       "       [0.39893617],\n",
       "       [0.29255319],\n",
       "       [0.05319149],\n",
       "       [0.29255319],\n",
       "       [0.26595745],\n",
       "       [0.15957447],\n",
       "       [0.58510638],\n",
       "       [0.45212766],\n",
       "       [0.61170213],\n",
       "       [0.42553191],\n",
       "       [0.18617021],\n",
       "       [0.18617021],\n",
       "       [0.2393617 ],\n",
       "       [0.18617021],\n",
       "       [0.10638298],\n",
       "       [0.13297872],\n",
       "       [0.13297872],\n",
       "       [0.13297872],\n",
       "       [0.53191489],\n",
       "       [0.45212766],\n",
       "       [0.45212766],\n",
       "       [0.58510638],\n",
       "       [0.61170213],\n",
       "       [0.50531915],\n",
       "       [0.39893617],\n",
       "       [0.45212766],\n",
       "       [0.39893617],\n",
       "       [0.45212766],\n",
       "       [0.58510638],\n",
       "       [0.26595745],\n",
       "       [0.2393617 ],\n",
       "       [0.15957447],\n",
       "       [0.15957447],\n",
       "       [0.18617021],\n",
       "       [0.15957447],\n",
       "       [0.18617021],\n",
       "       [0.13297872],\n",
       "       [0.21276596],\n",
       "       [0.18617021],\n",
       "       [0.15957447],\n",
       "       [0.2393617 ],\n",
       "       [0.31914894],\n",
       "       [0.29255319],\n",
       "       [0.10638298],\n",
       "       [0.53191489],\n",
       "       [0.37234043],\n",
       "       [0.29255319],\n",
       "       [0.37234043],\n",
       "       [0.39893617],\n",
       "       [0.42553191],\n",
       "       [0.39893617],\n",
       "       [0.2393617 ],\n",
       "       [0.53191489],\n",
       "       [0.26595745],\n",
       "       [0.37234043],\n",
       "       [0.37234043],\n",
       "       [0.34574468],\n",
       "       [0.42553191],\n",
       "       [0.63829787],\n",
       "       [0.50531915],\n",
       "       [0.42553191],\n",
       "       [0.42553191],\n",
       "       [0.45212766],\n",
       "       [0.4787234 ],\n",
       "       [0.22606383],\n",
       "       [0.18617021],\n",
       "       [0.17287234],\n",
       "       [0.1462766 ],\n",
       "       [0.34574468],\n",
       "       [0.34574468],\n",
       "       [0.39893617],\n",
       "       [0.35904255],\n",
       "       [0.53191489],\n",
       "       [0.41223404],\n",
       "       [0.53191489],\n",
       "       [0.63829787],\n",
       "       [0.29255319],\n",
       "       [0.2393617 ],\n",
       "       [0.25265957],\n",
       "       [0.22606383],\n",
       "       [0.54521277],\n",
       "       [0.61170213],\n",
       "       [0.50531915],\n",
       "       [0.46542553],\n",
       "       [0.29255319],\n",
       "       [0.10638298],\n",
       "       [0.26595745],\n",
       "       [0.26595745],\n",
       "       [0.19946809],\n",
       "       [0.19946809],\n",
       "       [0.10638298],\n",
       "       [0.10638298],\n",
       "       [0.10638298],\n",
       "       [0.59840426],\n",
       "       [0.55851064],\n",
       "       [0.71808511],\n",
       "       [0.43882979],\n",
       "       [0.65159574],\n",
       "       [0.22606383],\n",
       "       [0.21276596],\n",
       "       [0.17287234],\n",
       "       [0.15957447],\n",
       "       [0.22606383],\n",
       "       [0.30585106],\n",
       "       [0.26595745],\n",
       "       [0.25265957],\n",
       "       [0.18617021],\n",
       "       [0.17287234],\n",
       "       [0.17287234],\n",
       "       [0.18617021],\n",
       "       [0.53191489],\n",
       "       [0.41223404],\n",
       "       [0.45212766],\n",
       "       [0.43882979],\n",
       "       [0.57180851],\n",
       "       [0.65159574],\n",
       "       [0.55851064],\n",
       "       [0.57180851],\n",
       "       [0.34574468],\n",
       "       [0.33244681],\n",
       "       [0.33244681],\n",
       "       [0.90691489],\n",
       "       [0.72074468],\n",
       "       [0.63297872],\n",
       "       [0.80851064],\n",
       "       [0.72074468],\n",
       "       [0.28989362],\n",
       "       [0.27659574],\n",
       "       [0.29787234],\n",
       "       [0.2712766 ],\n",
       "       [0.30585106],\n",
       "       [0.29787234],\n",
       "       [0.42819149],\n",
       "       [0.30585106],\n",
       "       [0.27659574],\n",
       "       [0.30851064],\n",
       "       [0.31382979],\n",
       "       [0.25531915],\n",
       "       [0.24202128],\n",
       "       [0.2712766 ],\n",
       "       [0.23138298],\n",
       "       [0.24202128],\n",
       "       [0.22606383],\n",
       "       [0.55851064],\n",
       "       [0.49202128],\n",
       "       [0.48404255],\n",
       "       [0.58244681],\n",
       "       [0.32180851],\n",
       "       [0.37765957],\n",
       "       [0.39361702],\n",
       "       [0.3962766 ],\n",
       "       [0.30053191],\n",
       "       [0.21276596],\n",
       "       [0.33510638],\n",
       "       [0.19148936],\n",
       "       [0.59840426],\n",
       "       [0.54521277],\n",
       "       [0.33244681],\n",
       "       [0.28723404],\n",
       "       [0.3537234 ],\n",
       "       [0.29787234],\n",
       "       [0.30851064],\n",
       "       [0.21276596],\n",
       "       [0.2287234 ],\n",
       "       [0.19946809],\n",
       "       [0.24468085],\n",
       "       [0.21010638],\n",
       "       [0.17287234],\n",
       "       [0.2712766 ],\n",
       "       [0.25265957],\n",
       "       [0.60904255],\n",
       "       [0.66755319],\n",
       "       [0.71010638],\n",
       "       [0.4893617 ],\n",
       "       [0.43617021],\n",
       "       [0.37234043],\n",
       "       [0.48404255],\n",
       "       [0.3962766 ],\n",
       "       [0.67021277],\n",
       "       [0.67819149],\n",
       "       [0.60638298],\n",
       "       [0.75265957],\n",
       "       [0.51595745],\n",
       "       [0.52659574],\n",
       "       [0.47340426],\n",
       "       [0.65159574],\n",
       "       [0.8643617 ],\n",
       "       [0.77393617],\n",
       "       [0.6143617 ],\n",
       "       [0.75      ],\n",
       "       [0.50531915],\n",
       "       [0.46276596],\n",
       "       [0.40691489],\n",
       "       [0.26861702],\n",
       "       [0.67287234],\n",
       "       [0.55319149],\n",
       "       [0.59308511],\n",
       "       [0.74468085],\n",
       "       [0.61702128],\n",
       "       [1.        ],\n",
       "       [0.50265957],\n",
       "       [0.84574468],\n",
       "       [0.93882979],\n",
       "       [0.91489362],\n",
       "       [0.7287234 ],\n",
       "       [0.55851064],\n",
       "       [0.94680851],\n",
       "       [0.65957447],\n",
       "       [0.55319149],\n",
       "       [0.63031915],\n",
       "       [0.39095745],\n",
       "       [0.69148936],\n",
       "       [0.62234043],\n",
       "       [0.48404255],\n",
       "       [0.46808511],\n",
       "       [0.44680851],\n",
       "       [0.3856383 ],\n",
       "       [0.55851064],\n",
       "       [0.80053191],\n",
       "       [0.79787234],\n",
       "       [0.69414894],\n",
       "       [0.61968085],\n",
       "       [0.74468085],\n",
       "       [0.76329787],\n",
       "       [0.66755319],\n",
       "       [0.68351064],\n",
       "       [0.67553191],\n",
       "       [0.55585106],\n",
       "       [0.63829787],\n",
       "       [0.65691489],\n",
       "       [0.62234043],\n",
       "       [0.6356383 ],\n",
       "       [0.60106383],\n",
       "       [0.50797872],\n",
       "       [0.57712766],\n",
       "       [0.43617021],\n",
       "       [0.40425532],\n",
       "       [0.35638298],\n",
       "       [0.46808511],\n",
       "       [0.29787234],\n",
       "       [0.2287234 ],\n",
       "       [0.50531915],\n",
       "       [0.4787234 ],\n",
       "       [0.66489362],\n",
       "       [0.58510638],\n",
       "       [0.53191489],\n",
       "       [0.4787234 ],\n",
       "       [0.39893617],\n",
       "       [0.71808511],\n",
       "       [0.74468085],\n",
       "       [0.58510638],\n",
       "       [0.7712766 ],\n",
       "       [0.71808511],\n",
       "       [0.71808511],\n",
       "       [0.71808511],\n",
       "       [0.66489362],\n",
       "       [0.7712766 ],\n",
       "       [0.61170213],\n",
       "       [0.7712766 ],\n",
       "       [0.42553191],\n",
       "       [0.7712766 ],\n",
       "       [0.45212766],\n",
       "       [0.34574468],\n",
       "       [0.61170213],\n",
       "       [0.71808511],\n",
       "       [0.4787234 ],\n",
       "       [0.4787234 ],\n",
       "       [0.93085106],\n",
       "       [0.61170213],\n",
       "       [0.50531915],\n",
       "       [0.58510638]])"
      ]
     },
     "execution_count": 38,
     "metadata": {},
     "output_type": "execute_result"
    }
   ],
   "source": [
    "# normailzation\n",
    "\n",
    "mm.fit_transform(mpg[[\"mpg\"]]) # fancy indexing"
   ]
  },
  {
   "cell_type": "code",
   "execution_count": 39,
   "metadata": {},
   "outputs": [
    {
     "data": {
      "text/plain": [
       "array([[0.2393617 ],\n",
       "       [0.15957447],\n",
       "       [0.2393617 ],\n",
       "       [0.18617021],\n",
       "       [0.21276596],\n",
       "       [0.15957447],\n",
       "       [0.13297872],\n",
       "       [0.13297872],\n",
       "       [0.13297872],\n",
       "       [0.15957447],\n",
       "       [0.15957447],\n",
       "       [0.13297872],\n",
       "       [0.15957447],\n",
       "       [0.13297872],\n",
       "       [0.39893617],\n",
       "       [0.34574468],\n",
       "       [0.2393617 ],\n",
       "       [0.31914894],\n",
       "       [0.4787234 ],\n",
       "       [0.45212766],\n",
       "       [0.42553191],\n",
       "       [0.39893617],\n",
       "       [0.42553191],\n",
       "       [0.45212766],\n",
       "       [0.31914894],\n",
       "       [0.02659574],\n",
       "       [0.02659574],\n",
       "       [0.05319149],\n",
       "       [0.        ],\n",
       "       [0.4787234 ],\n",
       "       [0.50531915],\n",
       "       [0.42553191],\n",
       "       [0.26595745],\n",
       "       [0.18617021],\n",
       "       [0.21276596],\n",
       "       [0.26595745],\n",
       "       [0.2393617 ],\n",
       "       [0.13297872],\n",
       "       [0.13297872],\n",
       "       [0.13297872],\n",
       "       [0.13297872],\n",
       "       [0.07978723],\n",
       "       [0.10638298],\n",
       "       [0.10638298],\n",
       "       [0.2393617 ],\n",
       "       [0.34574468],\n",
       "       [0.26595745],\n",
       "       [0.2393617 ],\n",
       "       [0.37234043],\n",
       "       [0.50531915],\n",
       "       [0.55851064],\n",
       "       [0.55851064],\n",
       "       [0.58510638],\n",
       "       [0.69148936],\n",
       "       [0.4787234 ],\n",
       "       [0.45212766],\n",
       "       [0.39893617],\n",
       "       [0.42553191],\n",
       "       [0.37234043],\n",
       "       [0.29255319],\n",
       "       [0.31914894],\n",
       "       [0.10638298],\n",
       "       [0.13297872],\n",
       "       [0.15957447],\n",
       "       [0.13297872],\n",
       "       [0.21276596],\n",
       "       [0.05319149],\n",
       "       [0.10638298],\n",
       "       [0.07978723],\n",
       "       [0.10638298],\n",
       "       [0.26595745],\n",
       "       [0.15957447],\n",
       "       [0.10638298],\n",
       "       [0.10638298],\n",
       "       [0.13297872],\n",
       "       [0.2393617 ],\n",
       "       [0.34574468],\n",
       "       [0.31914894],\n",
       "       [0.45212766],\n",
       "       [0.34574468],\n",
       "       [0.50531915],\n",
       "       [0.37234043],\n",
       "       [0.50531915],\n",
       "       [0.4787234 ],\n",
       "       [0.10638298],\n",
       "       [0.13297872],\n",
       "       [0.10638298],\n",
       "       [0.13297872],\n",
       "       [0.15957447],\n",
       "       [0.07978723],\n",
       "       [0.10638298],\n",
       "       [0.10638298],\n",
       "       [0.13297872],\n",
       "       [0.10638298],\n",
       "       [0.07978723],\n",
       "       [0.10638298],\n",
       "       [0.2393617 ],\n",
       "       [0.18617021],\n",
       "       [0.2393617 ],\n",
       "       [0.2393617 ],\n",
       "       [0.37234043],\n",
       "       [0.45212766],\n",
       "       [0.05319149],\n",
       "       [0.07978723],\n",
       "       [0.10638298],\n",
       "       [0.07978723],\n",
       "       [0.2393617 ],\n",
       "       [0.29255319],\n",
       "       [0.31914894],\n",
       "       [0.34574468],\n",
       "       [0.2393617 ],\n",
       "       [0.26595745],\n",
       "       [0.31914894],\n",
       "       [0.45212766],\n",
       "       [0.15957447],\n",
       "       [0.18617021],\n",
       "       [0.53191489],\n",
       "       [0.39893617],\n",
       "       [0.29255319],\n",
       "       [0.26595745],\n",
       "       [0.15957447],\n",
       "       [0.39893617],\n",
       "       [0.29255319],\n",
       "       [0.05319149],\n",
       "       [0.29255319],\n",
       "       [0.26595745],\n",
       "       [0.15957447],\n",
       "       [0.58510638],\n",
       "       [0.45212766],\n",
       "       [0.61170213],\n",
       "       [0.42553191],\n",
       "       [0.18617021],\n",
       "       [0.18617021],\n",
       "       [0.2393617 ],\n",
       "       [0.18617021],\n",
       "       [0.10638298],\n",
       "       [0.13297872],\n",
       "       [0.13297872],\n",
       "       [0.13297872],\n",
       "       [0.53191489],\n",
       "       [0.45212766],\n",
       "       [0.45212766],\n",
       "       [0.58510638],\n",
       "       [0.61170213],\n",
       "       [0.50531915],\n",
       "       [0.39893617],\n",
       "       [0.45212766],\n",
       "       [0.39893617],\n",
       "       [0.45212766],\n",
       "       [0.58510638],\n",
       "       [0.26595745],\n",
       "       [0.2393617 ],\n",
       "       [0.15957447],\n",
       "       [0.15957447],\n",
       "       [0.18617021],\n",
       "       [0.15957447],\n",
       "       [0.18617021],\n",
       "       [0.13297872],\n",
       "       [0.21276596],\n",
       "       [0.18617021],\n",
       "       [0.15957447],\n",
       "       [0.2393617 ],\n",
       "       [0.31914894],\n",
       "       [0.29255319],\n",
       "       [0.10638298],\n",
       "       [0.53191489],\n",
       "       [0.37234043],\n",
       "       [0.29255319],\n",
       "       [0.37234043],\n",
       "       [0.39893617],\n",
       "       [0.42553191],\n",
       "       [0.39893617],\n",
       "       [0.2393617 ],\n",
       "       [0.53191489],\n",
       "       [0.26595745],\n",
       "       [0.37234043],\n",
       "       [0.37234043],\n",
       "       [0.34574468],\n",
       "       [0.42553191],\n",
       "       [0.63829787],\n",
       "       [0.50531915],\n",
       "       [0.42553191],\n",
       "       [0.42553191],\n",
       "       [0.45212766],\n",
       "       [0.4787234 ],\n",
       "       [0.22606383],\n",
       "       [0.18617021],\n",
       "       [0.17287234],\n",
       "       [0.1462766 ],\n",
       "       [0.34574468],\n",
       "       [0.34574468],\n",
       "       [0.39893617],\n",
       "       [0.35904255],\n",
       "       [0.53191489],\n",
       "       [0.41223404],\n",
       "       [0.53191489],\n",
       "       [0.63829787],\n",
       "       [0.29255319],\n",
       "       [0.2393617 ],\n",
       "       [0.25265957],\n",
       "       [0.22606383],\n",
       "       [0.54521277],\n",
       "       [0.61170213],\n",
       "       [0.50531915],\n",
       "       [0.46542553],\n",
       "       [0.29255319],\n",
       "       [0.10638298],\n",
       "       [0.26595745],\n",
       "       [0.26595745],\n",
       "       [0.19946809],\n",
       "       [0.19946809],\n",
       "       [0.10638298],\n",
       "       [0.10638298],\n",
       "       [0.10638298],\n",
       "       [0.59840426],\n",
       "       [0.55851064],\n",
       "       [0.71808511],\n",
       "       [0.43882979],\n",
       "       [0.65159574],\n",
       "       [0.22606383],\n",
       "       [0.21276596],\n",
       "       [0.17287234],\n",
       "       [0.15957447],\n",
       "       [0.22606383],\n",
       "       [0.30585106],\n",
       "       [0.26595745],\n",
       "       [0.25265957],\n",
       "       [0.18617021],\n",
       "       [0.17287234],\n",
       "       [0.17287234],\n",
       "       [0.18617021],\n",
       "       [0.53191489],\n",
       "       [0.41223404],\n",
       "       [0.45212766],\n",
       "       [0.43882979],\n",
       "       [0.57180851],\n",
       "       [0.65159574],\n",
       "       [0.55851064],\n",
       "       [0.57180851],\n",
       "       [0.34574468],\n",
       "       [0.33244681],\n",
       "       [0.33244681],\n",
       "       [0.90691489],\n",
       "       [0.72074468],\n",
       "       [0.63297872],\n",
       "       [0.80851064],\n",
       "       [0.72074468],\n",
       "       [0.28989362],\n",
       "       [0.27659574],\n",
       "       [0.29787234],\n",
       "       [0.2712766 ],\n",
       "       [0.30585106],\n",
       "       [0.29787234],\n",
       "       [0.42819149],\n",
       "       [0.30585106],\n",
       "       [0.27659574],\n",
       "       [0.30851064],\n",
       "       [0.31382979],\n",
       "       [0.25531915],\n",
       "       [0.24202128],\n",
       "       [0.2712766 ],\n",
       "       [0.23138298],\n",
       "       [0.24202128],\n",
       "       [0.22606383],\n",
       "       [0.55851064],\n",
       "       [0.49202128],\n",
       "       [0.48404255],\n",
       "       [0.58244681],\n",
       "       [0.32180851],\n",
       "       [0.37765957],\n",
       "       [0.39361702],\n",
       "       [0.3962766 ],\n",
       "       [0.30053191],\n",
       "       [0.21276596],\n",
       "       [0.33510638],\n",
       "       [0.19148936],\n",
       "       [0.59840426],\n",
       "       [0.54521277],\n",
       "       [0.33244681],\n",
       "       [0.28723404],\n",
       "       [0.3537234 ],\n",
       "       [0.29787234],\n",
       "       [0.30851064],\n",
       "       [0.21276596],\n",
       "       [0.2287234 ],\n",
       "       [0.19946809],\n",
       "       [0.24468085],\n",
       "       [0.21010638],\n",
       "       [0.17287234],\n",
       "       [0.2712766 ],\n",
       "       [0.25265957],\n",
       "       [0.60904255],\n",
       "       [0.66755319],\n",
       "       [0.71010638],\n",
       "       [0.4893617 ],\n",
       "       [0.43617021],\n",
       "       [0.37234043],\n",
       "       [0.48404255],\n",
       "       [0.3962766 ],\n",
       "       [0.67021277],\n",
       "       [0.67819149],\n",
       "       [0.60638298],\n",
       "       [0.75265957],\n",
       "       [0.51595745],\n",
       "       [0.52659574],\n",
       "       [0.47340426],\n",
       "       [0.65159574],\n",
       "       [0.8643617 ],\n",
       "       [0.77393617],\n",
       "       [0.6143617 ],\n",
       "       [0.75      ],\n",
       "       [0.50531915],\n",
       "       [0.46276596],\n",
       "       [0.40691489],\n",
       "       [0.26861702],\n",
       "       [0.67287234],\n",
       "       [0.55319149],\n",
       "       [0.59308511],\n",
       "       [0.74468085],\n",
       "       [0.61702128],\n",
       "       [1.        ],\n",
       "       [0.50265957],\n",
       "       [0.84574468],\n",
       "       [0.93882979],\n",
       "       [0.91489362],\n",
       "       [0.7287234 ],\n",
       "       [0.55851064],\n",
       "       [0.94680851],\n",
       "       [0.65957447],\n",
       "       [0.55319149],\n",
       "       [0.63031915],\n",
       "       [0.39095745],\n",
       "       [0.69148936],\n",
       "       [0.62234043],\n",
       "       [0.48404255],\n",
       "       [0.46808511],\n",
       "       [0.44680851],\n",
       "       [0.3856383 ],\n",
       "       [0.55851064],\n",
       "       [0.80053191],\n",
       "       [0.79787234],\n",
       "       [0.69414894],\n",
       "       [0.61968085],\n",
       "       [0.74468085],\n",
       "       [0.76329787],\n",
       "       [0.66755319],\n",
       "       [0.68351064],\n",
       "       [0.67553191],\n",
       "       [0.55585106],\n",
       "       [0.63829787],\n",
       "       [0.65691489],\n",
       "       [0.62234043],\n",
       "       [0.6356383 ],\n",
       "       [0.60106383],\n",
       "       [0.50797872],\n",
       "       [0.57712766],\n",
       "       [0.43617021],\n",
       "       [0.40425532],\n",
       "       [0.35638298],\n",
       "       [0.46808511],\n",
       "       [0.29787234],\n",
       "       [0.2287234 ],\n",
       "       [0.50531915],\n",
       "       [0.4787234 ],\n",
       "       [0.66489362],\n",
       "       [0.58510638],\n",
       "       [0.53191489],\n",
       "       [0.4787234 ],\n",
       "       [0.39893617],\n",
       "       [0.71808511],\n",
       "       [0.74468085],\n",
       "       [0.58510638],\n",
       "       [0.7712766 ],\n",
       "       [0.71808511],\n",
       "       [0.71808511],\n",
       "       [0.71808511],\n",
       "       [0.66489362],\n",
       "       [0.7712766 ],\n",
       "       [0.61170213],\n",
       "       [0.7712766 ],\n",
       "       [0.42553191],\n",
       "       [0.7712766 ],\n",
       "       [0.45212766],\n",
       "       [0.34574468],\n",
       "       [0.61170213],\n",
       "       [0.71808511],\n",
       "       [0.4787234 ],\n",
       "       [0.4787234 ],\n",
       "       [0.93085106],\n",
       "       [0.61170213],\n",
       "       [0.50531915],\n",
       "       [0.58510638]])"
      ]
     },
     "execution_count": 39,
     "metadata": {},
     "output_type": "execute_result"
    }
   ],
   "source": [
    "mm.fit(mpg[[\"mpg\"]])\n",
    "mm.transform(mpg[[\"mpg\"]])"
   ]
  },
  {
   "cell_type": "markdown",
   "metadata": {},
   "source": [
    "> - scikit은 `fit`과 `transform`으로 동작하도록 디자인되었다.\n",
    "- 한번에 처리할 수 있게 `fit_transform`도 만들었다. 기능은 같다."
   ]
  },
  {
   "cell_type": "code",
   "execution_count": 62,
   "metadata": {},
   "outputs": [],
   "source": [
    "# 문자열 인코딩 대신 drop\n",
    "# 개념만 복습할거기 때문에 편의상...\n",
    "\n",
    "mpg.drop(columns=[\"name\", \"origin\"], inplace=True)"
   ]
  },
  {
   "cell_type": "markdown",
   "metadata": {},
   "source": [
    "### 학습"
   ]
  },
  {
   "cell_type": "code",
   "execution_count": 55,
   "metadata": {},
   "outputs": [],
   "source": [
    "from sklearn.neighbors import KNeighborsRegressor"
   ]
  },
  {
   "cell_type": "code",
   "execution_count": 56,
   "metadata": {},
   "outputs": [],
   "source": [
    "knn = KNeighborsRegressor()"
   ]
  },
  {
   "cell_type": "code",
   "execution_count": 61,
   "metadata": {},
   "outputs": [
    {
     "data": {
      "text/plain": [
       "{'algorithm': 'auto',\n",
       " 'leaf_size': 30,\n",
       " 'metric': 'minkowski',\n",
       " 'metric_params': None,\n",
       " 'n_jobs': None,\n",
       " 'n_neighbors': 5,\n",
       " 'p': 2,\n",
       " 'weights': 'uniform'}"
      ]
     },
     "execution_count": 61,
     "metadata": {},
     "output_type": "execute_result"
    }
   ],
   "source": [
    "knn.get_params()"
   ]
  },
  {
   "cell_type": "code",
   "execution_count": 60,
   "metadata": {},
   "outputs": [
    {
     "data": {
      "text/plain": [
       "{'n_neighbors': 5,\n",
       " 'radius': None,\n",
       " 'algorithm': 'auto',\n",
       " 'leaf_size': 30,\n",
       " 'metric': 'minkowski',\n",
       " 'metric_params': None,\n",
       " 'p': 2,\n",
       " 'n_jobs': None,\n",
       " 'weights': 'uniform'}"
      ]
     },
     "execution_count": 60,
     "metadata": {},
     "output_type": "execute_result"
    }
   ],
   "source": [
    "vars(knn)"
   ]
  },
  {
   "cell_type": "markdown",
   "metadata": {},
   "source": [
    "> - `get_params`나 `vars`나 비슷하다(아직은)"
   ]
  },
  {
   "cell_type": "code",
   "execution_count": 63,
   "metadata": {},
   "outputs": [
    {
     "data": {
      "text/plain": [
       "KNeighborsRegressor(algorithm='auto', leaf_size=30, metric='minkowski',\n",
       "                    metric_params=None, n_jobs=None, n_neighbors=5, p=2,\n",
       "                    weights='uniform')"
      ]
     },
     "execution_count": 63,
     "metadata": {},
     "output_type": "execute_result"
    }
   ],
   "source": [
    "knn.fit(mpg.iloc[:,1:], mpg.mpg)"
   ]
  },
  {
   "cell_type": "code",
   "execution_count": 64,
   "metadata": {},
   "outputs": [
    {
     "data": {
      "text/plain": [
       "{'n_neighbors': 5,\n",
       " 'radius': None,\n",
       " 'algorithm': 'auto',\n",
       " 'leaf_size': 30,\n",
       " 'metric': 'minkowski',\n",
       " 'metric_params': None,\n",
       " 'p': 2,\n",
       " 'n_jobs': None,\n",
       " 'weights': 'uniform',\n",
       " '_y': array([18. , 15. , 18. , 16. , 17. , 15. , 14. , 14. , 14. , 15. , 15. ,\n",
       "        14. , 15. , 14. , 24. , 22. , 18. , 21. , 27. , 26. , 25. , 24. ,\n",
       "        25. , 26. , 21. , 10. , 10. , 11. ,  9. , 27. , 28. , 25. , 19. ,\n",
       "        16. , 17. , 19. , 18. , 14. , 14. , 14. , 14. , 12. , 13. , 13. ,\n",
       "        18. , 22. , 19. , 18. , 23. , 28. , 30. , 30. , 31. , 35. , 27. ,\n",
       "        26. , 24. , 25. , 23. , 20. , 21. , 13. , 14. , 15. , 14. , 17. ,\n",
       "        11. , 13. , 12. , 13. , 19. , 15. , 13. , 13. , 14. , 18. , 22. ,\n",
       "        21. , 26. , 22. , 28. , 23. , 28. , 27. , 13. , 14. , 13. , 14. ,\n",
       "        15. , 12. , 13. , 13. , 14. , 13. , 12. , 13. , 18. , 16. , 18. ,\n",
       "        18. , 23. , 26. , 11. , 12. , 13. , 12. , 18. , 20. , 21. , 22. ,\n",
       "        18. , 19. , 21. , 26. , 15. , 16. , 29. , 24. , 20. , 19. , 15. ,\n",
       "        24. , 20. , 11. , 20. , 19. , 15. , 31. , 26. , 32. , 25. , 16. ,\n",
       "        16. , 18. , 16. , 13. , 14. , 14. , 14. , 29. , 26. , 26. , 31. ,\n",
       "        32. , 28. , 24. , 26. , 24. , 26. , 31. , 19. , 18. , 15. , 15. ,\n",
       "        16. , 15. , 16. , 14. , 17. , 16. , 15. , 18. , 21. , 20. , 13. ,\n",
       "        29. , 23. , 20. , 23. , 24. , 25. , 24. , 18. , 29. , 19. , 23. ,\n",
       "        23. , 22. , 25. , 33. , 28. , 25. , 25. , 26. , 27. , 17.5, 16. ,\n",
       "        15.5, 14.5, 22. , 22. , 24. , 22.5, 29. , 24.5, 29. , 33. , 20. ,\n",
       "        18. , 18.5, 17.5, 29.5, 32. , 28. , 26.5, 20. , 13. , 19. , 19. ,\n",
       "        16.5, 16.5, 13. , 13. , 13. , 31.5, 30. , 36. , 25.5, 33.5, 17.5,\n",
       "        17. , 15.5, 15. , 17.5, 20.5, 19. , 18.5, 16. , 15.5, 15.5, 16. ,\n",
       "        29. , 24.5, 26. , 25.5, 30.5, 33.5, 30. , 30.5, 22. , 21.5, 21.5,\n",
       "        43.1, 36.1, 32.8, 39.4, 36.1, 19.9, 19.4, 20.2, 19.2, 20.5, 20.2,\n",
       "        25.1, 20.5, 19.4, 20.6, 20.8, 18.6, 18.1, 19.2, 17.7, 18.1, 17.5,\n",
       "        30. , 27.5, 27.2, 30.9, 21.1, 23.2, 23.8, 23.9, 20.3, 17. , 21.6,\n",
       "        16.2, 31.5, 29.5, 21.5, 19.8, 22.3, 20.2, 20.6, 17. , 17.6, 16.5,\n",
       "        18.2, 16.9, 15.5, 19.2, 18.5, 31.9, 34.1, 35.7, 27.4, 25.4, 23. ,\n",
       "        27.2, 23.9, 34.2, 34.5, 31.8, 37.3, 28.4, 28.8, 26.8, 33.5, 41.5,\n",
       "        38.1, 32.1, 37.2, 28. , 26.4, 24.3, 19.1, 34.3, 29.8, 31.3, 37. ,\n",
       "        32.2, 46.6, 27.9, 40.8, 44.3, 43.4, 36.4, 30. , 44.6, 33.8, 29.8,\n",
       "        32.7, 23.7, 35. , 32.4, 27.2, 26.6, 25.8, 23.5, 30. , 39.1, 39. ,\n",
       "        35.1, 32.3, 37. , 37.7, 34.1, 34.7, 34.4, 29.9, 33. , 33.7, 32.4,\n",
       "        32.9, 31.6, 28.1, 30.7, 25.4, 24.2, 22.4, 26.6, 20.2, 17.6, 28. ,\n",
       "        27. , 34. , 31. , 29. , 27. , 24. , 36. , 37. , 31. , 38. , 36. ,\n",
       "        36. , 36. , 34. , 38. , 32. , 38. , 25. , 38. , 26. , 22. , 32. ,\n",
       "        36. , 27. , 27. , 44. , 32. , 28. , 31. ]),\n",
       " 'effective_metric_params_': {},\n",
       " 'effective_metric_': 'euclidean',\n",
       " '_fit_method': 'kd_tree',\n",
       " '_fit_X': array([[   8. ,  307. ,  130. , 3504. ,   12. ,   70. ],\n",
       "        [   8. ,  350. ,  165. , 3693. ,   11.5,   70. ],\n",
       "        [   8. ,  318. ,  150. , 3436. ,   11. ,   70. ],\n",
       "        ...,\n",
       "        [   4. ,  135. ,   84. , 2295. ,   11.6,   82. ],\n",
       "        [   4. ,  120. ,   79. , 2625. ,   18.6,   82. ],\n",
       "        [   4. ,  119. ,   82. , 2720. ,   19.4,   82. ]]),\n",
       " '_tree': <sklearn.neighbors.kd_tree.KDTree at 0x237c9eb50a8>}"
      ]
     },
     "execution_count": 64,
     "metadata": {},
     "output_type": "execute_result"
    }
   ],
   "source": [
    "vars(knn)"
   ]
  },
  {
   "cell_type": "markdown",
   "metadata": {},
   "source": [
    "> - 학습 후에 `vars`내용이 달라진다"
   ]
  },
  {
   "cell_type": "markdown",
   "metadata": {},
   "source": [
    "---"
   ]
  },
  {
   "cell_type": "markdown",
   "metadata": {},
   "source": [
    "### 이미지 데이터"
   ]
  },
  {
   "cell_type": "code",
   "execution_count": 40,
   "metadata": {},
   "outputs": [],
   "source": [
    "from sklearn.datasets import load_digits"
   ]
  },
  {
   "cell_type": "code",
   "execution_count": 45,
   "metadata": {},
   "outputs": [],
   "source": [
    "data = load_digits()"
   ]
  },
  {
   "cell_type": "code",
   "execution_count": 46,
   "metadata": {},
   "outputs": [
    {
     "data": {
      "text/plain": [
       "['DESCR', 'data', 'images', 'target', 'target_names']"
      ]
     },
     "execution_count": 46,
     "metadata": {},
     "output_type": "execute_result"
    }
   ],
   "source": [
    "dir(data)"
   ]
  },
  {
   "cell_type": "markdown",
   "metadata": {},
   "source": [
    "> - `dir`했는데 언더바로 시작하는 애들이 없는 이유?\n",
    "    - `__all__`과 관련이 있다."
   ]
  },
  {
   "cell_type": "code",
   "execution_count": 47,
   "metadata": {
    "scrolled": true
   },
   "outputs": [
    {
     "data": {
      "text/plain": [
       "{'data': array([[ 0.,  0.,  5., ...,  0.,  0.,  0.],\n",
       "        [ 0.,  0.,  0., ..., 10.,  0.,  0.],\n",
       "        [ 0.,  0.,  0., ..., 16.,  9.,  0.],\n",
       "        ...,\n",
       "        [ 0.,  0.,  1., ...,  6.,  0.,  0.],\n",
       "        [ 0.,  0.,  2., ..., 12.,  0.,  0.],\n",
       "        [ 0.,  0., 10., ..., 12.,  1.,  0.]]),\n",
       " 'target': array([0, 1, 2, ..., 8, 9, 8]),\n",
       " 'target_names': array([0, 1, 2, 3, 4, 5, 6, 7, 8, 9]),\n",
       " 'images': array([[[ 0.,  0.,  5., ...,  1.,  0.,  0.],\n",
       "         [ 0.,  0., 13., ..., 15.,  5.,  0.],\n",
       "         [ 0.,  3., 15., ..., 11.,  8.,  0.],\n",
       "         ...,\n",
       "         [ 0.,  4., 11., ..., 12.,  7.,  0.],\n",
       "         [ 0.,  2., 14., ..., 12.,  0.,  0.],\n",
       "         [ 0.,  0.,  6., ...,  0.,  0.,  0.]],\n",
       " \n",
       "        [[ 0.,  0.,  0., ...,  5.,  0.,  0.],\n",
       "         [ 0.,  0.,  0., ...,  9.,  0.,  0.],\n",
       "         [ 0.,  0.,  3., ...,  6.,  0.,  0.],\n",
       "         ...,\n",
       "         [ 0.,  0.,  1., ...,  6.,  0.,  0.],\n",
       "         [ 0.,  0.,  1., ...,  6.,  0.,  0.],\n",
       "         [ 0.,  0.,  0., ..., 10.,  0.,  0.]],\n",
       " \n",
       "        [[ 0.,  0.,  0., ..., 12.,  0.,  0.],\n",
       "         [ 0.,  0.,  3., ..., 14.,  0.,  0.],\n",
       "         [ 0.,  0.,  8., ..., 16.,  0.,  0.],\n",
       "         ...,\n",
       "         [ 0.,  9., 16., ...,  0.,  0.,  0.],\n",
       "         [ 0.,  3., 13., ..., 11.,  5.,  0.],\n",
       "         [ 0.,  0.,  0., ..., 16.,  9.,  0.]],\n",
       " \n",
       "        ...,\n",
       " \n",
       "        [[ 0.,  0.,  1., ...,  1.,  0.,  0.],\n",
       "         [ 0.,  0., 13., ...,  2.,  1.,  0.],\n",
       "         [ 0.,  0., 16., ..., 16.,  5.,  0.],\n",
       "         ...,\n",
       "         [ 0.,  0., 16., ..., 15.,  0.,  0.],\n",
       "         [ 0.,  0., 15., ..., 16.,  0.,  0.],\n",
       "         [ 0.,  0.,  2., ...,  6.,  0.,  0.]],\n",
       " \n",
       "        [[ 0.,  0.,  2., ...,  0.,  0.,  0.],\n",
       "         [ 0.,  0., 14., ..., 15.,  1.,  0.],\n",
       "         [ 0.,  4., 16., ..., 16.,  7.,  0.],\n",
       "         ...,\n",
       "         [ 0.,  0.,  0., ..., 16.,  2.,  0.],\n",
       "         [ 0.,  0.,  4., ..., 16.,  2.,  0.],\n",
       "         [ 0.,  0.,  5., ..., 12.,  0.,  0.]],\n",
       " \n",
       "        [[ 0.,  0., 10., ...,  1.,  0.,  0.],\n",
       "         [ 0.,  2., 16., ...,  1.,  0.,  0.],\n",
       "         [ 0.,  0., 15., ..., 15.,  0.,  0.],\n",
       "         ...,\n",
       "         [ 0.,  4., 16., ..., 16.,  6.,  0.],\n",
       "         [ 0.,  8., 16., ..., 16.,  8.,  0.],\n",
       "         [ 0.,  1.,  8., ..., 12.,  1.,  0.]]]),\n",
       " 'DESCR': \".. _digits_dataset:\\n\\nOptical recognition of handwritten digits dataset\\n--------------------------------------------------\\n\\n**Data Set Characteristics:**\\n\\n    :Number of Instances: 5620\\n    :Number of Attributes: 64\\n    :Attribute Information: 8x8 image of integer pixels in the range 0..16.\\n    :Missing Attribute Values: None\\n    :Creator: E. Alpaydin (alpaydin '@' boun.edu.tr)\\n    :Date: July; 1998\\n\\nThis is a copy of the test set of the UCI ML hand-written digits datasets\\nhttps://archive.ics.uci.edu/ml/datasets/Optical+Recognition+of+Handwritten+Digits\\n\\nThe data set contains images of hand-written digits: 10 classes where\\neach class refers to a digit.\\n\\nPreprocessing programs made available by NIST were used to extract\\nnormalized bitmaps of handwritten digits from a preprinted form. From a\\ntotal of 43 people, 30 contributed to the training set and different 13\\nto the test set. 32x32 bitmaps are divided into nonoverlapping blocks of\\n4x4 and the number of on pixels are counted in each block. This generates\\nan input matrix of 8x8 where each element is an integer in the range\\n0..16. This reduces dimensionality and gives invariance to small\\ndistortions.\\n\\nFor info on NIST preprocessing routines, see M. D. Garris, J. L. Blue, G.\\nT. Candela, D. L. Dimmick, J. Geist, P. J. Grother, S. A. Janet, and C.\\nL. Wilson, NIST Form-Based Handprint Recognition System, NISTIR 5469,\\n1994.\\n\\n.. topic:: References\\n\\n  - C. Kaynak (1995) Methods of Combining Multiple Classifiers and Their\\n    Applications to Handwritten Digit Recognition, MSc Thesis, Institute of\\n    Graduate Studies in Science and Engineering, Bogazici University.\\n  - E. Alpaydin, C. Kaynak (1998) Cascading Classifiers, Kybernetika.\\n  - Ken Tang and Ponnuthurai N. Suganthan and Xi Yao and A. Kai Qin.\\n    Linear dimensionalityreduction using relevance weighted LDA. School of\\n    Electrical and Electronic Engineering Nanyang Technological University.\\n    2005.\\n  - Claudio Gentile. A New Approximate Maximal Margin Classification\\n    Algorithm. NIPS. 2000.\"}"
      ]
     },
     "execution_count": 47,
     "metadata": {},
     "output_type": "execute_result"
    }
   ],
   "source": [
    "data"
   ]
  },
  {
   "cell_type": "code",
   "execution_count": 48,
   "metadata": {
    "scrolled": true
   },
   "outputs": [
    {
     "data": {
      "text/plain": [
       "array([[[ 0.,  0.,  5., ...,  1.,  0.,  0.],\n",
       "        [ 0.,  0., 13., ..., 15.,  5.,  0.],\n",
       "        [ 0.,  3., 15., ..., 11.,  8.,  0.],\n",
       "        ...,\n",
       "        [ 0.,  4., 11., ..., 12.,  7.,  0.],\n",
       "        [ 0.,  2., 14., ..., 12.,  0.,  0.],\n",
       "        [ 0.,  0.,  6., ...,  0.,  0.,  0.]],\n",
       "\n",
       "       [[ 0.,  0.,  0., ...,  5.,  0.,  0.],\n",
       "        [ 0.,  0.,  0., ...,  9.,  0.,  0.],\n",
       "        [ 0.,  0.,  3., ...,  6.,  0.,  0.],\n",
       "        ...,\n",
       "        [ 0.,  0.,  1., ...,  6.,  0.,  0.],\n",
       "        [ 0.,  0.,  1., ...,  6.,  0.,  0.],\n",
       "        [ 0.,  0.,  0., ..., 10.,  0.,  0.]],\n",
       "\n",
       "       [[ 0.,  0.,  0., ..., 12.,  0.,  0.],\n",
       "        [ 0.,  0.,  3., ..., 14.,  0.,  0.],\n",
       "        [ 0.,  0.,  8., ..., 16.,  0.,  0.],\n",
       "        ...,\n",
       "        [ 0.,  9., 16., ...,  0.,  0.,  0.],\n",
       "        [ 0.,  3., 13., ..., 11.,  5.,  0.],\n",
       "        [ 0.,  0.,  0., ..., 16.,  9.,  0.]],\n",
       "\n",
       "       ...,\n",
       "\n",
       "       [[ 0.,  0.,  1., ...,  1.,  0.,  0.],\n",
       "        [ 0.,  0., 13., ...,  2.,  1.,  0.],\n",
       "        [ 0.,  0., 16., ..., 16.,  5.,  0.],\n",
       "        ...,\n",
       "        [ 0.,  0., 16., ..., 15.,  0.,  0.],\n",
       "        [ 0.,  0., 15., ..., 16.,  0.,  0.],\n",
       "        [ 0.,  0.,  2., ...,  6.,  0.,  0.]],\n",
       "\n",
       "       [[ 0.,  0.,  2., ...,  0.,  0.,  0.],\n",
       "        [ 0.,  0., 14., ..., 15.,  1.,  0.],\n",
       "        [ 0.,  4., 16., ..., 16.,  7.,  0.],\n",
       "        ...,\n",
       "        [ 0.,  0.,  0., ..., 16.,  2.,  0.],\n",
       "        [ 0.,  0.,  4., ..., 16.,  2.,  0.],\n",
       "        [ 0.,  0.,  5., ..., 12.,  0.,  0.]],\n",
       "\n",
       "       [[ 0.,  0., 10., ...,  1.,  0.,  0.],\n",
       "        [ 0.,  2., 16., ...,  1.,  0.,  0.],\n",
       "        [ 0.,  0., 15., ..., 15.,  0.,  0.],\n",
       "        ...,\n",
       "        [ 0.,  4., 16., ..., 16.,  6.,  0.],\n",
       "        [ 0.,  8., 16., ..., 16.,  8.,  0.],\n",
       "        [ 0.,  1.,  8., ..., 12.,  1.,  0.]]])"
      ]
     },
     "execution_count": 48,
     "metadata": {},
     "output_type": "execute_result"
    }
   ],
   "source": [
    "data.images"
   ]
  },
  {
   "cell_type": "code",
   "execution_count": 52,
   "metadata": {},
   "outputs": [
    {
     "data": {
      "text/plain": [
       "(1797, 8, 8)"
      ]
     },
     "execution_count": 52,
     "metadata": {},
     "output_type": "execute_result"
    }
   ],
   "source": [
    "data.images.shape"
   ]
  },
  {
   "cell_type": "markdown",
   "metadata": {},
   "source": [
    "> - mnist dataset의 열화버전\n",
    "- 데이터는 더 적고, image 사이즈도 더 작음\n",
    "- 이 연습용 데이터는 성능이 좋다"
   ]
  },
  {
   "cell_type": "code",
   "execution_count": 53,
   "metadata": {},
   "outputs": [],
   "source": [
    "import matplotlib.pyplot as plt"
   ]
  },
  {
   "cell_type": "code",
   "execution_count": 54,
   "metadata": {},
   "outputs": [
    {
     "data": {
      "text/plain": [
       "<matplotlib.image.AxesImage at 0x237ce9b14e0>"
      ]
     },
     "execution_count": 54,
     "metadata": {},
     "output_type": "execute_result"
    },
    {
     "data": {
      "image/png": "[encoded data removed]",
      "text/plain": [
       "<Figure size 432x288 with 1 Axes>"
      ]
     },
     "metadata": {
      "needs_background": "light"
     },
     "output_type": "display_data"
    }
   ],
   "source": [
    "plt.imshow(data.images[0])"
   ]
  },
  {
   "cell_type": "markdown",
   "metadata": {},
   "source": [
    "### 전처리\n",
    "- scikit은 학습데이터를 2차원으로 만들어야한다.\n",
    "- 한 행씩 뽑아와서 관측치(observation)로 사용한다. \n",
    "- 관측치 -> 특정 y에 대응하는 feature 값"
   ]
  },
  {
   "cell_type": "code",
   "execution_count": 73,
   "metadata": {},
   "outputs": [],
   "source": [
    "X = data.images.reshape(data.images.shape[0],-1)"
   ]
  },
  {
   "cell_type": "code",
   "execution_count": 74,
   "metadata": {},
   "outputs": [
    {
     "data": {
      "text/plain": [
       "(1797, 64)"
      ]
     },
     "execution_count": 74,
     "metadata": {},
     "output_type": "execute_result"
    }
   ],
   "source": [
    "X.shape"
   ]
  },
  {
   "cell_type": "code",
   "execution_count": 76,
   "metadata": {},
   "outputs": [],
   "source": [
    "y = data.target"
   ]
  },
  {
   "cell_type": "code",
   "execution_count": 70,
   "metadata": {},
   "outputs": [
    {
     "data": {
      "text/plain": [
       "(1797,)"
      ]
     },
     "execution_count": 70,
     "metadata": {},
     "output_type": "execute_result"
    }
   ],
   "source": [
    "data.target.shape"
   ]
  },
  {
   "cell_type": "markdown",
   "metadata": {},
   "source": [
    "### 학습"
   ]
  },
  {
   "cell_type": "code",
   "execution_count": 71,
   "metadata": {},
   "outputs": [],
   "source": [
    "from sklearn.neighbors import KNeighborsClassifier"
   ]
  },
  {
   "cell_type": "code",
   "execution_count": 72,
   "metadata": {},
   "outputs": [],
   "source": [
    "knn = KNeighborsClassifier()"
   ]
  },
  {
   "cell_type": "code",
   "execution_count": 77,
   "metadata": {},
   "outputs": [
    {
     "data": {
      "text/plain": [
       "KNeighborsClassifier(algorithm='auto', leaf_size=30, metric='minkowski',\n",
       "                     metric_params=None, n_jobs=None, n_neighbors=5, p=2,\n",
       "                     weights='uniform')"
      ]
     },
     "execution_count": 77,
     "metadata": {},
     "output_type": "execute_result"
    }
   ],
   "source": [
    "knn.fit(X, y)"
   ]
  },
  {
   "cell_type": "markdown",
   "metadata": {},
   "source": [
    "### 성능 확인"
   ]
  },
  {
   "cell_type": "code",
   "execution_count": 79,
   "metadata": {},
   "outputs": [
    {
     "data": {
      "text/plain": [
       "array([4])"
      ]
     },
     "execution_count": 79,
     "metadata": {},
     "output_type": "execute_result"
    }
   ],
   "source": [
    "knn.predict([X[100]])"
   ]
  },
  {
   "cell_type": "code",
   "execution_count": 80,
   "metadata": {},
   "outputs": [
    {
     "data": {
      "text/plain": [
       "4"
      ]
     },
     "execution_count": 80,
     "metadata": {},
     "output_type": "execute_result"
    }
   ],
   "source": [
    "y[100]"
   ]
  },
  {
   "cell_type": "code",
   "execution_count": 81,
   "metadata": {},
   "outputs": [
    {
     "data": {
      "text/plain": [
       "0.9905397885364496"
      ]
     },
     "execution_count": 81,
     "metadata": {},
     "output_type": "execute_result"
    }
   ],
   "source": [
    "knn.score(X, y)"
   ]
  },
  {
   "cell_type": "markdown",
   "metadata": {},
   "source": [
    "### hold out 기법\n",
    "- 2way hold out: train, test\n",
    "- 3way hold out: train, validation, test"
   ]
  },
  {
   "cell_type": "code",
   "execution_count": 82,
   "metadata": {},
   "outputs": [],
   "source": [
    "from sklearn.model_selection import train_test_split"
   ]
  },
  {
   "cell_type": "code",
   "execution_count": 83,
   "metadata": {},
   "outputs": [
    {
     "data": {
      "text/plain": [
       "[array([[ 0.,  2., 16., ...,  1.,  0.,  0.],\n",
       "        [ 0.,  0.,  4., ...,  2.,  0.,  0.],\n",
       "        [ 0.,  0.,  4., ...,  1.,  0.,  0.],\n",
       "        ...,\n",
       "        [ 0.,  0.,  0., ...,  7.,  0.,  0.],\n",
       "        [ 0.,  1., 13., ..., 12.,  5.,  0.],\n",
       "        [ 0.,  0.,  0., ...,  6.,  0.,  0.]]),\n",
       " array([[0., 0., 0., ..., 0., 0., 0.],\n",
       "        [0., 0., 7., ..., 4., 6., 1.],\n",
       "        [0., 0., 0., ..., 2., 0., 0.],\n",
       "        ...,\n",
       "        [0., 0., 5., ..., 3., 0., 0.],\n",
       "        [0., 0., 4., ..., 6., 0., 0.],\n",
       "        [0., 0., 7., ..., 1., 0., 0.]])]"
      ]
     },
     "execution_count": 83,
     "metadata": {},
     "output_type": "execute_result"
    }
   ],
   "source": [
    "train_test_split(X)"
   ]
  },
  {
   "cell_type": "markdown",
   "metadata": {},
   "source": [
    "> - `train_test_split`은 random하게 split하므로 할때마다 다르다.\n",
    "- option들에 대해서 공부해보기 바란다.\n",
    "    - test_size : test셋의 비율을 정한다.\n",
    "    - train_size : train셋의 비율을 정한다.\n",
    "    - random_state : random seed로 동일한 결과 재현이 필요할 때 사용\n",
    "    - shuffle : 순서를 섞을지를 결정함\n",
    "    - stratify : 아래에서 설명함"
   ]
  },
  {
   "cell_type": "code",
   "execution_count": 84,
   "metadata": {},
   "outputs": [],
   "source": [
    "X_train, X_test = train_test_split(X)"
   ]
  },
  {
   "cell_type": "code",
   "execution_count": 85,
   "metadata": {},
   "outputs": [
    {
     "data": {
      "text/plain": [
       "(1347, 450)"
      ]
     },
     "execution_count": 85,
     "metadata": {},
     "output_type": "execute_result"
    }
   ],
   "source": [
    "len(X_train), len(X_test)"
   ]
  },
  {
   "cell_type": "code",
   "execution_count": 86,
   "metadata": {},
   "outputs": [
    {
     "name": "stderr",
     "output_type": "stream",
     "text": [
      "C:\\Users\\JINHYO\\Anaconda3\\lib\\importlib\\_bootstrap.py:219: RuntimeWarning: numpy.ufunc size changed, may indicate binary incompatibility. Expected 192 from C header, got 216 from PyObject\n",
      "  return f(*args, **kwds)\n"
     ]
    }
   ],
   "source": [
    "import mglearn"
   ]
  },
  {
   "cell_type": "code",
   "execution_count": 87,
   "metadata": {},
   "outputs": [
    {
     "data": {
      "image/png": "[encoded data removed]",
      "text/plain": [
       "<Figure size 864x360 with 2 Axes>"
      ]
     },
     "metadata": {
      "needs_background": "light"
     },
     "output_type": "display_data"
    }
   ],
   "source": [
    "mglearn.plot_cross_validation.plot_stratified_cross_validation()"
   ]
  },
  {
   "cell_type": "markdown",
   "metadata": {},
   "source": [
    "> - stritified는 거의 절대적으로 성능이 좋아진다.\n",
    "- 머신러닝은 IID(Independent Identical Distribution, 독립항등분포)를 기본 가정으로 한다.\n",
    "    - stratified는 IID를 만족시켜준다.\n",
    "- 데이터가 많으면 큰수의 법칙에 의해서 stratified를 쓰지 않아도 IID를 만족한다."
   ]
  },
  {
   "cell_type": "markdown",
   "metadata": {},
   "source": [
    "### cross val score\n",
    "- 편차가 크면 overfitting이 있다는 뜻이다."
   ]
  },
  {
   "cell_type": "code",
   "execution_count": 90,
   "metadata": {},
   "outputs": [],
   "source": [
    "from sklearn.model_selection import cross_val_score"
   ]
  },
  {
   "cell_type": "code",
   "execution_count": 91,
   "metadata": {},
   "outputs": [
    {
     "data": {
      "text/plain": [
       "array([0.92972973, 0.98907104, 0.97790055, 0.97777778, 0.96648045,\n",
       "       0.98324022, 0.98882682, 0.98314607, 0.97740113, 0.96590909])"
      ]
     },
     "execution_count": 91,
     "metadata": {},
     "output_type": "execute_result"
    }
   ],
   "source": [
    "cross_val_score(KNeighborsClassifier(), X, y, cv=10)"
   ]
  },
  {
   "cell_type": "code",
   "execution_count": 92,
   "metadata": {},
   "outputs": [],
   "source": [
    "from sklearn.ensemble import RandomForestClassifier"
   ]
  },
  {
   "cell_type": "code",
   "execution_count": 95,
   "metadata": {},
   "outputs": [
    {
     "name": "stderr",
     "output_type": "stream",
     "text": [
      "C:\\Users\\JINHYO\\Anaconda3\\lib\\site-packages\\sklearn\\ensemble\\forest.py:245: FutureWarning: The default value of n_estimators will change from 10 in version 0.20 to 100 in 0.22.\n",
      "  \"10 in version 0.20 to 100 in 0.22.\", FutureWarning)\n",
      "C:\\Users\\JINHYO\\Anaconda3\\lib\\site-packages\\sklearn\\ensemble\\forest.py:245: FutureWarning: The default value of n_estimators will change from 10 in version 0.20 to 100 in 0.22.\n",
      "  \"10 in version 0.20 to 100 in 0.22.\", FutureWarning)\n",
      "C:\\Users\\JINHYO\\Anaconda3\\lib\\site-packages\\sklearn\\ensemble\\forest.py:245: FutureWarning: The default value of n_estimators will change from 10 in version 0.20 to 100 in 0.22.\n",
      "  \"10 in version 0.20 to 100 in 0.22.\", FutureWarning)\n",
      "C:\\Users\\JINHYO\\Anaconda3\\lib\\site-packages\\sklearn\\ensemble\\forest.py:245: FutureWarning: The default value of n_estimators will change from 10 in version 0.20 to 100 in 0.22.\n",
      "  \"10 in version 0.20 to 100 in 0.22.\", FutureWarning)\n",
      "C:\\Users\\JINHYO\\Anaconda3\\lib\\site-packages\\sklearn\\ensemble\\forest.py:245: FutureWarning: The default value of n_estimators will change from 10 in version 0.20 to 100 in 0.22.\n",
      "  \"10 in version 0.20 to 100 in 0.22.\", FutureWarning)\n",
      "C:\\Users\\JINHYO\\Anaconda3\\lib\\site-packages\\sklearn\\ensemble\\forest.py:245: FutureWarning: The default value of n_estimators will change from 10 in version 0.20 to 100 in 0.22.\n",
      "  \"10 in version 0.20 to 100 in 0.22.\", FutureWarning)\n",
      "C:\\Users\\JINHYO\\Anaconda3\\lib\\site-packages\\sklearn\\ensemble\\forest.py:245: FutureWarning: The default value of n_estimators will change from 10 in version 0.20 to 100 in 0.22.\n",
      "  \"10 in version 0.20 to 100 in 0.22.\", FutureWarning)\n",
      "C:\\Users\\JINHYO\\Anaconda3\\lib\\site-packages\\sklearn\\ensemble\\forest.py:245: FutureWarning: The default value of n_estimators will change from 10 in version 0.20 to 100 in 0.22.\n",
      "  \"10 in version 0.20 to 100 in 0.22.\", FutureWarning)\n",
      "C:\\Users\\JINHYO\\Anaconda3\\lib\\site-packages\\sklearn\\ensemble\\forest.py:245: FutureWarning: The default value of n_estimators will change from 10 in version 0.20 to 100 in 0.22.\n",
      "  \"10 in version 0.20 to 100 in 0.22.\", FutureWarning)\n",
      "C:\\Users\\JINHYO\\Anaconda3\\lib\\site-packages\\sklearn\\ensemble\\forest.py:245: FutureWarning: The default value of n_estimators will change from 10 in version 0.20 to 100 in 0.22.\n",
      "  \"10 in version 0.20 to 100 in 0.22.\", FutureWarning)\n"
     ]
    },
    {
     "data": {
      "text/plain": [
       "array([0.88108108, 0.96721311, 0.91712707, 0.91111111, 0.93296089,\n",
       "       0.96648045, 0.94413408, 0.97191011, 0.87570621, 0.90909091])"
      ]
     },
     "execution_count": 95,
     "metadata": {},
     "output_type": "execute_result"
    }
   ],
   "source": [
    "cross_val_score(RandomForestClassifier(), X, y, cv=10)"
   ]
  },
  {
   "cell_type": "code",
   "execution_count": null,
   "metadata": {},
   "outputs": [],
   "source": []
  }
 ],
 "metadata": {
  "kernelspec": {
   "display_name": "Python 3",
   "language": "python",
   "name": "python3"
  },
  "language_info": {
   "codemirror_mode": {
    "name": "ipython",
    "version": 3
   },
   "file_extension": ".py",
   "mimetype": "text/x-python",
   "name": "python",
   "nbconvert_exporter": "python",
   "pygments_lexer": "ipython3",
   "version": "3.7.3"
  }
 },
 "nbformat": 4,
 "nbformat_minor": 2
}
