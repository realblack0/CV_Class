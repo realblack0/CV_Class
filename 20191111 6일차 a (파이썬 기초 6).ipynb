{
 "cells": [
  {
   "cell_type": "markdown",
   "metadata": {},
   "source": [
    "# 월요일 맞이 복습"
   ]
  },
  {
   "cell_type": "markdown",
   "metadata": {},
   "source": [
    "# 상속\n",
    "- 파이썬은 다중 상속을 지원한다.\n",
    "- `super`는 중복을 제거해준다.\n",
    "    - 부모 클래스의 내용을 사용하고 싶을때 사용한다.\n",
    "    - 부모의 `__init__`을 실행시킨다.\n",
    "    "
   ]
  },
  {
   "cell_type": "markdown",
   "metadata": {},
   "source": [
    "# Composition\n",
    "- 상속 받지 않고 다른 클래스의 기능 가져오는 방법\n",
    "- `__init__` 안에 가져올 기능을 정의한다.\n",
    "```python\n",
    "class Room:\n",
    "    def __init__(self, door):\n",
    "        self.door = door\n",
    "```"
   ]
  },
  {
   "cell_type": "markdown",
   "metadata": {},
   "source": [
    "# Duck typing\n",
    "- 파이썬은 상속을 받지 않고 다형성을 할 수 있다. \n",
    "    - Duck typing을 이용.\n",
    "- 상속을 받지 않아도, 해당하는 속성이 있으면 타입이 맞는 것으로 처리한다.\n",
    "- 상속 체계를 따르지 않아도 되지만, 우연히 같은 속성을 가지고 있는 경우 실행이 되는 side effect 문제가 있다.\n",
    "    - 실수하기 쉽다."
   ]
  },
  {
   "cell_type": "markdown",
   "metadata": {},
   "source": [
    "# 다형성\n",
    "- 이름은 같지만 다른 행동하는 것을 다형성이라고 한다."
   ]
  },
  {
   "cell_type": "code",
   "execution_count": 1,
   "metadata": {},
   "outputs": [
    {
     "name": "stdout",
     "output_type": "stream",
     "text": [
      "4\n",
      "5\n"
     ]
    }
   ],
   "source": [
    "print(len([1,2,3,4]))\n",
    "print(len(\"안녕하세요\"))"
   ]
  },
  {
   "cell_type": "markdown",
   "metadata": {},
   "source": [
    "> - `len`은 같은 이름이지만 (1)list의 길이를 세거나, (2)str의 길이를 세기도 한다.\n",
    "- `len`은 다형성의 한 예시"
   ]
  },
  {
   "cell_type": "markdown",
   "metadata": {},
   "source": [
    "# EFTP\n",
    "- 파이썬 교는 모든 것을 용서합니다.\n",
    "- side effect도 예외처리문으로 다시 용서할 수 있습니다. (?)"
   ]
  },
  {
   "cell_type": "markdown",
   "metadata": {},
   "source": [
    "# 메타클래스\n",
    "- 메타클래스는 클래스의 클래스이다. => 클래스를 만드는 클래스이다."
   ]
  },
  {
   "cell_type": "markdown",
   "metadata": {},
   "source": [
    "- `type`: 클래스를 어떻게 만드는가가 정의된 메타클래스이다.\n",
    "    - `object`는 메타클래스가 아니라 그냥 클래스이다.\n",
    "- `type`을 상속 받아서 만드는 클래스는 메타크래스이다."
   ]
  },
  {
   "cell_type": "code",
   "execution_count": 4,
   "metadata": {},
   "outputs": [],
   "source": [
    "# 인스턴스를 하나밖에 못 받게 만드는 방법\n",
    "# 입사희망자는 공부하라!\n",
    "\n",
    "class Singleton(type):\n",
    "    instance = None\n",
    "    def __call__(cls, *args, **kw): # 메타클래스에서는 관례상 cls를 쓴다.\n",
    "        if not cls.instance:\n",
    "             cls.instance = super(Singleton, cls).__call__(*args, **kw) # 여기서 super는 type이다.\n",
    "        return cls.instance"
   ]
  },
  {
   "cell_type": "code",
   "execution_count": 5,
   "metadata": {},
   "outputs": [],
   "source": [
    "# class 선언시 metaclass=type이 default 이다.\n",
    "# metaclass를 바꿔서 내 입맛대로 할 수 있다.\n",
    "\n",
    "class ASingleton(metaclass=Singleton):\n",
    "    pass"
   ]
  },
  {
   "cell_type": "code",
   "execution_count": 6,
   "metadata": {},
   "outputs": [
    {
     "data": {
      "text/plain": [
       "True"
      ]
     },
     "execution_count": 6,
     "metadata": {},
     "output_type": "execute_result"
    }
   ],
   "source": [
    "a = ASingleton()\n",
    "b = ASingleton()\n",
    "a is b"
   ]
  },
  {
   "cell_type": "code",
   "execution_count": 7,
   "metadata": {},
   "outputs": [
    {
     "data": {
      "text/plain": [
       "'0x26b562a9198'"
      ]
     },
     "execution_count": 7,
     "metadata": {},
     "output_type": "execute_result"
    }
   ],
   "source": [
    "hex(id(a))"
   ]
  },
  {
   "cell_type": "code",
   "execution_count": 8,
   "metadata": {},
   "outputs": [
    {
     "data": {
      "text/plain": [
       "'0x26b562a9198'"
      ]
     },
     "execution_count": 8,
     "metadata": {},
     "output_type": "execute_result"
    }
   ],
   "source": [
    "hex(id(b))"
   ]
  },
  {
   "cell_type": "code",
   "execution_count": 9,
   "metadata": {},
   "outputs": [],
   "source": [
    "a.x = 3"
   ]
  },
  {
   "cell_type": "code",
   "execution_count": 10,
   "metadata": {},
   "outputs": [
    {
     "data": {
      "text/plain": [
       "3"
      ]
     },
     "execution_count": 10,
     "metadata": {},
     "output_type": "execute_result"
    }
   ],
   "source": [
    "b.x"
   ]
  },
  {
   "cell_type": "markdown",
   "metadata": {},
   "source": [
    "> - singleton: 인스턴스를 하나밖에 못 만드는 방법\n",
    "- 네이버 같은데 가려면 중요하다."
   ]
  },
  {
   "cell_type": "markdown",
   "metadata": {},
   "source": [
    "# property"
   ]
  },
  {
   "cell_type": "code",
   "execution_count": 130,
   "metadata": {},
   "outputs": [],
   "source": [
    "class B:\n",
    "    def __init__(self, a):\n",
    "        self.y = a\n",
    "    @property\n",
    "    def x(self):\n",
    "        return self.y"
   ]
  },
  {
   "cell_type": "code",
   "execution_count": 132,
   "metadata": {},
   "outputs": [],
   "source": [
    "b = B(3)"
   ]
  },
  {
   "cell_type": "code",
   "execution_count": 133,
   "metadata": {},
   "outputs": [
    {
     "ename": "TypeError",
     "evalue": "'int' object is not callable",
     "output_type": "error",
     "traceback": [
      "\u001b[1;31m---------------------------------------------------------------------------\u001b[0m",
      "\u001b[1;31mTypeError\u001b[0m                                 Traceback (most recent call last)",
      "\u001b[1;32m<ipython-input-133-b0155deaf1eb>\u001b[0m in \u001b[0;36m<module>\u001b[1;34m\u001b[0m\n\u001b[1;32m----> 1\u001b[1;33m \u001b[0mb\u001b[0m\u001b[1;33m.\u001b[0m\u001b[0mx\u001b[0m\u001b[1;33m(\u001b[0m\u001b[1;33m)\u001b[0m\u001b[1;33m\u001b[0m\u001b[1;33m\u001b[0m\u001b[0m\n\u001b[0m",
      "\u001b[1;31mTypeError\u001b[0m: 'int' object is not callable"
     ]
    }
   ],
   "source": [
    "# Error\n",
    "\n",
    "b.x()"
   ]
  },
  {
   "cell_type": "code",
   "execution_count": 134,
   "metadata": {},
   "outputs": [
    {
     "data": {
      "text/plain": [
       "3"
      ]
     },
     "execution_count": 134,
     "metadata": {},
     "output_type": "execute_result"
    }
   ],
   "source": [
    "b.x"
   ]
  },
  {
   "cell_type": "markdown",
   "metadata": {},
   "source": [
    "> - `property`를 붙이면 메서드를 ()를 붙이지 않고 사용한다. \n",
    "- 디스크립터의 개념을 알아야하는데 워후.. 쉽지않다;"
   ]
  },
  {
   "cell_type": "code",
   "execution_count": null,
   "metadata": {},
   "outputs": [],
   "source": []
  }
 ],
 "metadata": {
  "kernelspec": {
   "display_name": "Python 3",
   "language": "python",
   "name": "python3"
  },
  "language_info": {
   "codemirror_mode": {
    "name": "ipython",
    "version": 3
   },
   "file_extension": ".py",
   "mimetype": "text/x-python",
   "name": "python",
   "nbconvert_exporter": "python",
   "pygments_lexer": "ipython3",
   "version": "3.7.3"
  }
 },
 "nbformat": 4,
 "nbformat_minor": 2
}
