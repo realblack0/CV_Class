{
 "cells": [
  {
   "cell_type": "markdown",
   "metadata": {},
   "source": [
    "## cross_val 시리즈 3형제"
   ]
  },
  {
   "cell_type": "code",
   "execution_count": 86,
   "metadata": {},
   "outputs": [],
   "source": [
    "from sklearn.model_selection import cross_val_score, cross_validate, cross_val_predict"
   ]
  },
  {
   "cell_type": "code",
   "execution_count": 93,
   "metadata": {},
   "outputs": [
    {
     "data": {
      "text/plain": [
       "array([1.        , 0.93333333, 1.        , 1.        , 0.86666667,\n",
       "       0.93333333, 0.93333333, 1.        , 1.        , 1.        ])"
      ]
     },
     "execution_count": 93,
     "metadata": {},
     "output_type": "execute_result"
    }
   ],
   "source": [
    "cross_val_score(KNeighborsClassifier(), iris.iloc[:,:-1], iris.target, cv=10)"
   ]
  },
  {
   "cell_type": "code",
   "execution_count": 88,
   "metadata": {},
   "outputs": [
    {
     "data": {
      "text/plain": [
       "{'fit_time': array([0.00300121, 0.00299835, 0.00200152, 0.00300074, 0.00299883,\n",
       "        0.00299716, 0.00299883, 0.00200152, 0.004179  , 0.00200033]),\n",
       " 'score_time': array([0.00399947, 0.00200009, 0.00199699, 0.00200081, 0.00200462,\n",
       "        0.00200057, 0.00199962, 0.00300169, 0.00285029, 0.0029757 ]),\n",
       " 'test_score': array([1.        , 0.93333333, 1.        , 1.        , 0.86666667,\n",
       "        0.93333333, 0.93333333, 1.        , 1.        , 1.        ])}"
      ]
     },
     "execution_count": 88,
     "metadata": {},
     "output_type": "execute_result"
    }
   ],
   "source": [
    "cross_validate(KNeighborsClassifier(), iris.iloc[:,:-1], iris.target, cv=10)"
   ]
  },
  {
   "cell_type": "code",
   "execution_count": 87,
   "metadata": {},
   "outputs": [
    {
     "data": {
      "text/plain": [
       "array([0, 0, 0, 0, 0, 0, 0, 0, 0, 0, 0, 0, 0, 0, 0, 0, 0, 0, 0, 0, 0, 0,\n",
       "       0, 0, 0, 0, 0, 0, 0, 0, 0, 0, 0, 0, 0, 0, 0, 0, 0, 0, 0, 0, 0, 0,\n",
       "       0, 0, 0, 0, 0, 0, 1, 1, 1, 1, 1, 1, 1, 1, 1, 1, 1, 1, 1, 1, 1, 1,\n",
       "       1, 1, 1, 1, 2, 1, 2, 1, 1, 1, 1, 2, 1, 1, 1, 1, 1, 2, 1, 1, 1, 1,\n",
       "       1, 1, 1, 1, 1, 1, 1, 1, 1, 1, 1, 1, 2, 2, 2, 2, 2, 2, 1, 2, 2, 2,\n",
       "       2, 2, 2, 2, 2, 2, 2, 2, 2, 2, 2, 2, 2, 2, 2, 2, 2, 2, 2, 2, 2, 2,\n",
       "       2, 2, 2, 2, 2, 2, 2, 2, 2, 2, 2, 2, 2, 2, 2, 2, 2, 2])"
      ]
     },
     "execution_count": 87,
     "metadata": {},
     "output_type": "execute_result"
    }
   ],
   "source": [
    "cross_val_predict(KNeighborsClassifier(), iris.iloc[:,:-1], iris.target, cv=10)"
   ]
  },
  {
   "cell_type": "markdown",
   "metadata": {},
   "source": [
    "> - cross_val_score\n",
    "    - scikit-learn에서 score는 accuracy를 의미한다.\n",
    "    - 데이터가 적을 때 대강의 성능 측정하기 위해서 사용한다.\n",
    "- cross_validate\n",
    "    - \"fit_time\", \"score_time\", \"test_score\"를 반환한다.\n",
    "        - test_score는 cross_val_score와 같다.\n",
    "        -  `return_estimator=True` 옵션으로 모델을 반환시킬 수도 있다.\n",
    "- cross_val_predict\n",
    "    - 각 cv 폴드마다 testset으로 predict한 결과를 합쳐서 반환한다.\n",
    "    - 즉, 자기를 제외하고 학습했던 cv 모델로 예측한 것들이다.\n",
    "    - 이 결과를 바로 scorer에 넣으면 `cross_validate`나 `cross_val_score`와는 결과가 다를 수 있다."
   ]
  },
  {
   "cell_type": "code",
   "execution_count": 1,
   "metadata": {},
   "outputs": [
    {
     "name": "stderr",
     "output_type": "stream",
     "text": [
      "C:\\Users\\JINHYO\\Anaconda3\\lib\\site-packages\\sklearn\\externals\\six.py:31: DeprecationWarning: The module is deprecated in version 0.21 and will be removed in version 0.23 since we've dropped support for Python 2.7. Please rely on the official version of six (https://pypi.org/project/six/).\n",
      "  \"(https://pypi.org/project/six/).\", DeprecationWarning)\n",
      "C:\\Users\\JINHYO\\Anaconda3\\lib\\site-packages\\sklearn\\externals\\joblib\\__init__.py:15: DeprecationWarning: sklearn.externals.joblib is deprecated in 0.21 and will be removed in 0.23. Please import this functionality directly from joblib, which can be installed with: pip install joblib. If this warning is raised when loading pickled models, you may need to re-serialize those models with scikit-learn 0.21+.\n",
      "  warnings.warn(msg, category=DeprecationWarning)\n"
     ]
    }
   ],
   "source": [
    "import mglearn"
   ]
  },
  {
   "cell_type": "code",
   "execution_count": 3,
   "metadata": {},
   "outputs": [
    {
     "data": {
      "image/png": "[encoded data removed]",
      "text/plain": [
       "<Figure size 720x144 with 1 Axes>"
      ]
     },
     "metadata": {
      "needs_background": "light"
     },
     "output_type": "display_data"
    }
   ],
   "source": [
    "mglearn.plot_cross_validation.plot_group_kfold()"
   ]
  },
  {
   "cell_type": "markdown",
   "metadata": {},
   "source": [
    "> - cross_val 시리즈에서 `groups`옵션의 의미는 위와 같다."
   ]
  },
  {
   "cell_type": "markdown",
   "metadata": {},
   "source": [
    "---"
   ]
  },
  {
   "cell_type": "markdown",
   "metadata": {},
   "source": [
    "# 데이터 불러오기"
   ]
  },
  {
   "cell_type": "code",
   "execution_count": 7,
   "metadata": {},
   "outputs": [],
   "source": [
    "import pandas as pd\n",
    "from sklearn.datasets import load_iris\n",
    "from sklearn.neighbors import KNeighborsClassifier"
   ]
  },
  {
   "cell_type": "code",
   "execution_count": 8,
   "metadata": {},
   "outputs": [],
   "source": [
    "data = load_iris()\n",
    "iris_x = pd.DataFrame(data.data, columns=data.feature_names)\n",
    "iris_y = pd.DataFrame(data.target, columns=[\"target\"])\n",
    "iris = pd.concat([iris_x, iris_y], axis=1)"
   ]
  },
  {
   "cell_type": "code",
   "execution_count": 11,
   "metadata": {},
   "outputs": [
    {
     "data": {
      "text/html": [
       "<div>\n",
       "<style scoped>\n",
       "    .dataframe tbody tr th:only-of-type {\n",
       "        vertical-align: middle;\n",
       "    }\n",
       "\n",
       "    .dataframe tbody tr th {\n",
       "        vertical-align: top;\n",
       "    }\n",
       "\n",
       "    .dataframe thead th {\n",
       "        text-align: right;\n",
       "    }\n",
       "</style>\n",
       "<table border=\"1\" class=\"dataframe\">\n",
       "  <thead>\n",
       "    <tr style=\"text-align: right;\">\n",
       "      <th></th>\n",
       "      <th>sepal length (cm)</th>\n",
       "      <th>sepal width (cm)</th>\n",
       "      <th>petal length (cm)</th>\n",
       "      <th>petal width (cm)</th>\n",
       "      <th>target</th>\n",
       "    </tr>\n",
       "  </thead>\n",
       "  <tbody>\n",
       "    <tr>\n",
       "      <th>0</th>\n",
       "      <td>5.1</td>\n",
       "      <td>3.5</td>\n",
       "      <td>1.4</td>\n",
       "      <td>0.2</td>\n",
       "      <td>0</td>\n",
       "    </tr>\n",
       "    <tr>\n",
       "      <th>1</th>\n",
       "      <td>4.9</td>\n",
       "      <td>3.0</td>\n",
       "      <td>1.4</td>\n",
       "      <td>0.2</td>\n",
       "      <td>0</td>\n",
       "    </tr>\n",
       "    <tr>\n",
       "      <th>2</th>\n",
       "      <td>4.7</td>\n",
       "      <td>3.2</td>\n",
       "      <td>1.3</td>\n",
       "      <td>0.2</td>\n",
       "      <td>0</td>\n",
       "    </tr>\n",
       "    <tr>\n",
       "      <th>3</th>\n",
       "      <td>4.6</td>\n",
       "      <td>3.1</td>\n",
       "      <td>1.5</td>\n",
       "      <td>0.2</td>\n",
       "      <td>0</td>\n",
       "    </tr>\n",
       "    <tr>\n",
       "      <th>4</th>\n",
       "      <td>5.0</td>\n",
       "      <td>3.6</td>\n",
       "      <td>1.4</td>\n",
       "      <td>0.2</td>\n",
       "      <td>0</td>\n",
       "    </tr>\n",
       "  </tbody>\n",
       "</table>\n",
       "</div>"
      ],
      "text/plain": [
       "   sepal length (cm)  sepal width (cm)  petal length (cm)  petal width (cm)  \\\n",
       "0                5.1               3.5                1.4               0.2   \n",
       "1                4.9               3.0                1.4               0.2   \n",
       "2                4.7               3.2                1.3               0.2   \n",
       "3                4.6               3.1                1.5               0.2   \n",
       "4                5.0               3.6                1.4               0.2   \n",
       "\n",
       "   target  \n",
       "0       0  \n",
       "1       0  \n",
       "2       0  \n",
       "3       0  \n",
       "4       0  "
      ]
     },
     "execution_count": 11,
     "metadata": {},
     "output_type": "execute_result"
    }
   ],
   "source": [
    "iris.head()"
   ]
  },
  {
   "cell_type": "code",
   "execution_count": 13,
   "metadata": {},
   "outputs": [],
   "source": [
    "knn = KNeighborsClassifier()"
   ]
  },
  {
   "cell_type": "code",
   "execution_count": 20,
   "metadata": {
    "scrolled": false
   },
   "outputs": [
    {
     "data": {
      "text/plain": [
       "array([1.        , 0.93333333, 1.        , 1.        , 0.86666667,\n",
       "       0.93333333, 0.93333333, 1.        , 1.        , 1.        ])"
      ]
     },
     "execution_count": 20,
     "metadata": {},
     "output_type": "execute_result"
    }
   ],
   "source": [
    "# 대강의 성능평가\n",
    "\n",
    "cross_val_score(knn, iris.iloc[:,:-1], iris.target, cv=10)"
   ]
  },
  {
   "cell_type": "markdown",
   "metadata": {},
   "source": [
    "# GridSearchCV\n",
    "하이퍼 파라미터를 찾아주는 녀석  \n",
    "무식하게 반복 노가다를 한다.(사람이 아니라 컴퓨터가!)"
   ]
  },
  {
   "cell_type": "code",
   "execution_count": 22,
   "metadata": {},
   "outputs": [],
   "source": [
    "from sklearn.model_selection import GridSearchCV"
   ]
  },
  {
   "cell_type": "code",
   "execution_count": 21,
   "metadata": {},
   "outputs": [
    {
     "data": {
      "text/plain": [
       "{'algorithm': 'auto',\n",
       " 'leaf_size': 30,\n",
       " 'metric': 'minkowski',\n",
       " 'metric_params': None,\n",
       " 'n_jobs': None,\n",
       " 'n_neighbors': 5,\n",
       " 'p': 2,\n",
       " 'weights': 'uniform'}"
      ]
     },
     "execution_count": 21,
     "metadata": {},
     "output_type": "execute_result"
    }
   ],
   "source": [
    "knn.get_params()"
   ]
  },
  {
   "cell_type": "code",
   "execution_count": 24,
   "metadata": {},
   "outputs": [],
   "source": [
    "grid = GridSearchCV(knn, {\"n_neighbors\":[i for i in range(2,19)]})"
   ]
  },
  {
   "cell_type": "markdown",
   "metadata": {},
   "source": [
    "> - 모델의 파라미터 이름과 하이퍼파라미터 후보군을 딕셔너리 형태로 넣어준다.\n",
    "- 하이퍼파라미터 후보군은 리스트로 묶어준다."
   ]
  },
  {
   "cell_type": "code",
   "execution_count": 25,
   "metadata": {},
   "outputs": [
    {
     "name": "stderr",
     "output_type": "stream",
     "text": [
      "C:\\Users\\JINHYO\\Anaconda3\\lib\\site-packages\\sklearn\\model_selection\\_split.py:1978: FutureWarning: The default value of cv will change from 3 to 5 in version 0.22. Specify it explicitly to silence this warning.\n",
      "  warnings.warn(CV_WARNING, FutureWarning)\n",
      "C:\\Users\\JINHYO\\Anaconda3\\lib\\site-packages\\sklearn\\model_selection\\_search.py:814: DeprecationWarning: The default of the `iid` parameter will change from True to False in version 0.22 and will be removed in 0.24. This will change numeric results when test-set sizes are unequal.\n",
      "  DeprecationWarning)\n"
     ]
    },
    {
     "data": {
      "text/plain": [
       "GridSearchCV(cv='warn', error_score='raise-deprecating',\n",
       "             estimator=KNeighborsClassifier(algorithm='auto', leaf_size=30,\n",
       "                                            metric='minkowski',\n",
       "                                            metric_params=None, n_jobs=None,\n",
       "                                            n_neighbors=5, p=2,\n",
       "                                            weights='uniform'),\n",
       "             iid='warn', n_jobs=None,\n",
       "             param_grid={'n_neighbors': [2, 3, 4, 5, 6, 7, 8, 9, 10, 11, 12, 13,\n",
       "                                         14, 15, 16, 17, 18]},\n",
       "             pre_dispatch='2*n_jobs', refit=True, return_train_score=False,\n",
       "             scoring=None, verbose=0)"
      ]
     },
     "execution_count": 25,
     "metadata": {},
     "output_type": "execute_result"
    }
   ],
   "source": [
    "# scikit은 언제나 fit\n",
    "\n",
    "grid.fit(iris.iloc[:,:-1], iris.target)"
   ]
  },
  {
   "cell_type": "code",
   "execution_count": 26,
   "metadata": {},
   "outputs": [
    {
     "data": {
      "text/plain": [
       "{'scoring': None,\n",
       " 'estimator': KNeighborsClassifier(algorithm='auto', leaf_size=30, metric='minkowski',\n",
       "                      metric_params=None, n_jobs=None, n_neighbors=5, p=2,\n",
       "                      weights='uniform'),\n",
       " 'n_jobs': None,\n",
       " 'iid': 'warn',\n",
       " 'refit': True,\n",
       " 'cv': 'warn',\n",
       " 'verbose': 0,\n",
       " 'pre_dispatch': '2*n_jobs',\n",
       " 'error_score': 'raise-deprecating',\n",
       " 'return_train_score': False,\n",
       " 'param_grid': {'n_neighbors': [2,\n",
       "   3,\n",
       "   4,\n",
       "   5,\n",
       "   6,\n",
       "   7,\n",
       "   8,\n",
       "   9,\n",
       "   10,\n",
       "   11,\n",
       "   12,\n",
       "   13,\n",
       "   14,\n",
       "   15,\n",
       "   16,\n",
       "   17,\n",
       "   18]},\n",
       " 'multimetric_': False,\n",
       " 'best_index_': 3,\n",
       " 'best_score_': 0.9866666666666667,\n",
       " 'best_params_': {'n_neighbors': 5},\n",
       " 'best_estimator_': KNeighborsClassifier(algorithm='auto', leaf_size=30, metric='minkowski',\n",
       "                      metric_params=None, n_jobs=None, n_neighbors=5, p=2,\n",
       "                      weights='uniform'),\n",
       " 'refit_time_': 0.0010111331939697266,\n",
       " 'scorer_': <function sklearn.metrics.scorer._passthrough_scorer(estimator, *args, **kwargs)>,\n",
       " 'cv_results_': {'mean_fit_time': array([0.00262411, 0.00200073, 0.00333198, 0.00234246, 0.0049994 ,\n",
       "         0.00200184, 0.00166647, 0.0013326 , 0.00233332, 0.00166837,\n",
       "         0.00200073, 0.00200137, 0.00200073, 0.0016671 , 0.00166893,\n",
       "         0.00123803, 0.00233332]),\n",
       "  'std_fit_time': array([5.11835043e-04, 8.16242927e-04, 4.71314409e-04, 4.65286670e-04,\n",
       "         3.56265463e-03, 1.38109105e-06, 4.71483750e-04, 4.71483388e-04,\n",
       "         4.71262827e-04, 4.72327939e-04, 8.16535434e-04, 6.83651389e-07,\n",
       "         1.12391596e-07, 4.71595177e-04, 4.73568242e-04, 5.51354166e-04,\n",
       "         4.71595177e-04]),\n",
       "  'mean_score_time': array([0.00369875, 0.00399836, 0.00400138, 0.00532365, 0.00433771,\n",
       "         0.00466442, 0.00466553, 0.00299978, 0.00366656, 0.00333285,\n",
       "         0.00366545, 0.00366489, 0.00299923, 0.00266616, 0.00299684,\n",
       "         0.00366672, 0.00300018]),\n",
       "  'std_score_time': array([4.96338785e-04, 8.16632263e-04, 8.15854025e-04, 9.54542143e-04,\n",
       "         1.25194050e-03, 9.39875574e-04, 2.35724530e-03, 1.27652315e-06,\n",
       "         9.41954147e-04, 1.24872273e-03, 4.74405566e-04, 9.42797752e-04,\n",
       "         2.97360213e-07, 4.71314168e-04, 2.97996732e-06, 9.44538973e-04,\n",
       "         8.17897969e-04]),\n",
       "  'param_n_neighbors': masked_array(data=[2, 3, 4, 5, 6, 7, 8, 9, 10, 11, 12, 13, 14, 15, 16, 17,\n",
       "                     18],\n",
       "               mask=[False, False, False, False, False, False, False, False,\n",
       "                     False, False, False, False, False, False, False, False,\n",
       "                     False],\n",
       "         fill_value='?',\n",
       "              dtype=object),\n",
       "  'params': [{'n_neighbors': 2},\n",
       "   {'n_neighbors': 3},\n",
       "   {'n_neighbors': 4},\n",
       "   {'n_neighbors': 5},\n",
       "   {'n_neighbors': 6},\n",
       "   {'n_neighbors': 7},\n",
       "   {'n_neighbors': 8},\n",
       "   {'n_neighbors': 9},\n",
       "   {'n_neighbors': 10},\n",
       "   {'n_neighbors': 11},\n",
       "   {'n_neighbors': 12},\n",
       "   {'n_neighbors': 13},\n",
       "   {'n_neighbors': 14},\n",
       "   {'n_neighbors': 15},\n",
       "   {'n_neighbors': 16},\n",
       "   {'n_neighbors': 17},\n",
       "   {'n_neighbors': 18}],\n",
       "  'split0_test_score': array([0.96078431, 0.98039216, 0.98039216, 0.98039216, 0.98039216,\n",
       "         0.98039216, 0.98039216, 0.96078431, 0.96078431, 0.96078431,\n",
       "         0.96078431, 0.96078431, 0.96078431, 0.96078431, 0.96078431,\n",
       "         0.96078431, 0.96078431]),\n",
       "  'split1_test_score': array([0.94117647, 0.96078431, 0.96078431, 0.98039216, 0.96078431,\n",
       "         0.96078431, 0.98039216, 0.98039216, 0.98039216, 0.96078431,\n",
       "         0.96078431, 0.94117647, 0.96078431, 0.94117647, 0.94117647,\n",
       "         0.94117647, 0.90196078]),\n",
       "  'split2_test_score': array([0.95833333, 1.        , 0.97916667, 1.        , 0.97916667,\n",
       "         0.97916667, 0.97916667, 0.97916667, 0.97916667, 1.        ,\n",
       "         0.97916667, 0.97916667, 0.97916667, 1.        , 0.97916667,\n",
       "         0.97916667, 0.97916667]),\n",
       "  'mean_test_score': array([0.95333333, 0.98      , 0.97333333, 0.98666667, 0.97333333,\n",
       "         0.97333333, 0.98      , 0.97333333, 0.97333333, 0.97333333,\n",
       "         0.96666667, 0.96      , 0.96666667, 0.96666667, 0.96      ,\n",
       "         0.96      , 0.94666667]),\n",
       "  'std_test_score': array([0.00878204, 0.01592466, 0.00902067, 0.00914659, 0.00902067,\n",
       "         0.00902067, 0.00057166, 0.00902067, 0.00902067, 0.01829318,\n",
       "         0.00857493, 0.01543487, 0.00857493, 0.02425356, 0.01543487,\n",
       "         0.01543487, 0.0329438 ]),\n",
       "  'rank_test_score': array([16,  2,  4,  1,  4,  4,  2,  4,  4,  4, 10, 13, 10, 10, 13, 13, 17])},\n",
       " 'n_splits_': 3}"
      ]
     },
     "execution_count": 26,
     "metadata": {},
     "output_type": "execute_result"
    }
   ],
   "source": [
    "vars(grid)"
   ]
  },
  {
   "cell_type": "markdown",
   "metadata": {},
   "source": [
    "> - grid 객체는 여러가지 정보를 담고 있다."
   ]
  },
  {
   "cell_type": "code",
   "execution_count": 29,
   "metadata": {},
   "outputs": [
    {
     "data": {
      "text/plain": [
       "3"
      ]
     },
     "execution_count": 29,
     "metadata": {},
     "output_type": "execute_result"
    }
   ],
   "source": [
    "grid.best_index_"
   ]
  },
  {
   "cell_type": "code",
   "execution_count": 27,
   "metadata": {},
   "outputs": [
    {
     "data": {
      "text/plain": [
       "{'n_neighbors': 5}"
      ]
     },
     "execution_count": 27,
     "metadata": {},
     "output_type": "execute_result"
    }
   ],
   "source": [
    "grid.best_params_"
   ]
  },
  {
   "cell_type": "code",
   "execution_count": 28,
   "metadata": {},
   "outputs": [
    {
     "data": {
      "text/plain": [
       "0.9866666666666667"
      ]
     },
     "execution_count": 28,
     "metadata": {},
     "output_type": "execute_result"
    }
   ],
   "source": [
    "grid.best_score_"
   ]
  },
  {
   "cell_type": "markdown",
   "metadata": {},
   "source": [
    "> - best로 시작하는 attributes는 GridSearchCV가 찾은 최고의 하이퍼 파라미터에 관련되어 있다."
   ]
  },
  {
   "cell_type": "code",
   "execution_count": 30,
   "metadata": {},
   "outputs": [
    {
     "data": {
      "text/plain": [
       "{'mean_fit_time': array([0.00262411, 0.00200073, 0.00333198, 0.00234246, 0.0049994 ,\n",
       "        0.00200184, 0.00166647, 0.0013326 , 0.00233332, 0.00166837,\n",
       "        0.00200073, 0.00200137, 0.00200073, 0.0016671 , 0.00166893,\n",
       "        0.00123803, 0.00233332]),\n",
       " 'std_fit_time': array([5.11835043e-04, 8.16242927e-04, 4.71314409e-04, 4.65286670e-04,\n",
       "        3.56265463e-03, 1.38109105e-06, 4.71483750e-04, 4.71483388e-04,\n",
       "        4.71262827e-04, 4.72327939e-04, 8.16535434e-04, 6.83651389e-07,\n",
       "        1.12391596e-07, 4.71595177e-04, 4.73568242e-04, 5.51354166e-04,\n",
       "        4.71595177e-04]),\n",
       " 'mean_score_time': array([0.00369875, 0.00399836, 0.00400138, 0.00532365, 0.00433771,\n",
       "        0.00466442, 0.00466553, 0.00299978, 0.00366656, 0.00333285,\n",
       "        0.00366545, 0.00366489, 0.00299923, 0.00266616, 0.00299684,\n",
       "        0.00366672, 0.00300018]),\n",
       " 'std_score_time': array([4.96338785e-04, 8.16632263e-04, 8.15854025e-04, 9.54542143e-04,\n",
       "        1.25194050e-03, 9.39875574e-04, 2.35724530e-03, 1.27652315e-06,\n",
       "        9.41954147e-04, 1.24872273e-03, 4.74405566e-04, 9.42797752e-04,\n",
       "        2.97360213e-07, 4.71314168e-04, 2.97996732e-06, 9.44538973e-04,\n",
       "        8.17897969e-04]),\n",
       " 'param_n_neighbors': masked_array(data=[2, 3, 4, 5, 6, 7, 8, 9, 10, 11, 12, 13, 14, 15, 16, 17,\n",
       "                    18],\n",
       "              mask=[False, False, False, False, False, False, False, False,\n",
       "                    False, False, False, False, False, False, False, False,\n",
       "                    False],\n",
       "        fill_value='?',\n",
       "             dtype=object),\n",
       " 'params': [{'n_neighbors': 2},\n",
       "  {'n_neighbors': 3},\n",
       "  {'n_neighbors': 4},\n",
       "  {'n_neighbors': 5},\n",
       "  {'n_neighbors': 6},\n",
       "  {'n_neighbors': 7},\n",
       "  {'n_neighbors': 8},\n",
       "  {'n_neighbors': 9},\n",
       "  {'n_neighbors': 10},\n",
       "  {'n_neighbors': 11},\n",
       "  {'n_neighbors': 12},\n",
       "  {'n_neighbors': 13},\n",
       "  {'n_neighbors': 14},\n",
       "  {'n_neighbors': 15},\n",
       "  {'n_neighbors': 16},\n",
       "  {'n_neighbors': 17},\n",
       "  {'n_neighbors': 18}],\n",
       " 'split0_test_score': array([0.96078431, 0.98039216, 0.98039216, 0.98039216, 0.98039216,\n",
       "        0.98039216, 0.98039216, 0.96078431, 0.96078431, 0.96078431,\n",
       "        0.96078431, 0.96078431, 0.96078431, 0.96078431, 0.96078431,\n",
       "        0.96078431, 0.96078431]),\n",
       " 'split1_test_score': array([0.94117647, 0.96078431, 0.96078431, 0.98039216, 0.96078431,\n",
       "        0.96078431, 0.98039216, 0.98039216, 0.98039216, 0.96078431,\n",
       "        0.96078431, 0.94117647, 0.96078431, 0.94117647, 0.94117647,\n",
       "        0.94117647, 0.90196078]),\n",
       " 'split2_test_score': array([0.95833333, 1.        , 0.97916667, 1.        , 0.97916667,\n",
       "        0.97916667, 0.97916667, 0.97916667, 0.97916667, 1.        ,\n",
       "        0.97916667, 0.97916667, 0.97916667, 1.        , 0.97916667,\n",
       "        0.97916667, 0.97916667]),\n",
       " 'mean_test_score': array([0.95333333, 0.98      , 0.97333333, 0.98666667, 0.97333333,\n",
       "        0.97333333, 0.98      , 0.97333333, 0.97333333, 0.97333333,\n",
       "        0.96666667, 0.96      , 0.96666667, 0.96666667, 0.96      ,\n",
       "        0.96      , 0.94666667]),\n",
       " 'std_test_score': array([0.00878204, 0.01592466, 0.00902067, 0.00914659, 0.00902067,\n",
       "        0.00902067, 0.00057166, 0.00902067, 0.00902067, 0.01829318,\n",
       "        0.00857493, 0.01543487, 0.00857493, 0.02425356, 0.01543487,\n",
       "        0.01543487, 0.0329438 ]),\n",
       " 'rank_test_score': array([16,  2,  4,  1,  4,  4,  2,  4,  4,  4, 10, 13, 10, 10, 13, 13, 17])}"
      ]
     },
     "execution_count": 30,
     "metadata": {},
     "output_type": "execute_result"
    }
   ],
   "source": [
    "grid.cv_results_"
   ]
  },
  {
   "cell_type": "markdown",
   "metadata": {},
   "source": [
    "> - `cv_results_`는 GridSearchCV가 노가다했던 모든 결과를 담고있다."
   ]
  },
  {
   "cell_type": "code",
   "execution_count": 32,
   "metadata": {},
   "outputs": [
    {
     "data": {
      "text/html": [
       "<div>\n",
       "<style scoped>\n",
       "    .dataframe tbody tr th:only-of-type {\n",
       "        vertical-align: middle;\n",
       "    }\n",
       "\n",
       "    .dataframe tbody tr th {\n",
       "        vertical-align: top;\n",
       "    }\n",
       "\n",
       "    .dataframe thead th {\n",
       "        text-align: right;\n",
       "    }\n",
       "</style>\n",
       "<table border=\"1\" class=\"dataframe\">\n",
       "  <thead>\n",
       "    <tr style=\"text-align: right;\">\n",
       "      <th></th>\n",
       "      <th>0</th>\n",
       "      <th>1</th>\n",
       "      <th>2</th>\n",
       "      <th>3</th>\n",
       "      <th>4</th>\n",
       "      <th>5</th>\n",
       "      <th>6</th>\n",
       "      <th>7</th>\n",
       "      <th>8</th>\n",
       "      <th>9</th>\n",
       "      <th>10</th>\n",
       "      <th>11</th>\n",
       "      <th>12</th>\n",
       "      <th>13</th>\n",
       "      <th>14</th>\n",
       "      <th>15</th>\n",
       "      <th>16</th>\n",
       "    </tr>\n",
       "  </thead>\n",
       "  <tbody>\n",
       "    <tr>\n",
       "      <th>mean_fit_time</th>\n",
       "      <td>0.00262411</td>\n",
       "      <td>0.00200073</td>\n",
       "      <td>0.00333198</td>\n",
       "      <td>0.00234246</td>\n",
       "      <td>0.0049994</td>\n",
       "      <td>0.00200184</td>\n",
       "      <td>0.00166647</td>\n",
       "      <td>0.0013326</td>\n",
       "      <td>0.00233332</td>\n",
       "      <td>0.00166837</td>\n",
       "      <td>0.00200073</td>\n",
       "      <td>0.00200137</td>\n",
       "      <td>0.00200073</td>\n",
       "      <td>0.0016671</td>\n",
       "      <td>0.00166893</td>\n",
       "      <td>0.00123803</td>\n",
       "      <td>0.00233332</td>\n",
       "    </tr>\n",
       "    <tr>\n",
       "      <th>std_fit_time</th>\n",
       "      <td>0.000511835</td>\n",
       "      <td>0.000816243</td>\n",
       "      <td>0.000471314</td>\n",
       "      <td>0.000465287</td>\n",
       "      <td>0.00356265</td>\n",
       "      <td>1.38109e-06</td>\n",
       "      <td>0.000471484</td>\n",
       "      <td>0.000471483</td>\n",
       "      <td>0.000471263</td>\n",
       "      <td>0.000472328</td>\n",
       "      <td>0.000816535</td>\n",
       "      <td>6.83651e-07</td>\n",
       "      <td>1.12392e-07</td>\n",
       "      <td>0.000471595</td>\n",
       "      <td>0.000473568</td>\n",
       "      <td>0.000551354</td>\n",
       "      <td>0.000471595</td>\n",
       "    </tr>\n",
       "    <tr>\n",
       "      <th>mean_score_time</th>\n",
       "      <td>0.00369875</td>\n",
       "      <td>0.00399836</td>\n",
       "      <td>0.00400138</td>\n",
       "      <td>0.00532365</td>\n",
       "      <td>0.00433771</td>\n",
       "      <td>0.00466442</td>\n",
       "      <td>0.00466553</td>\n",
       "      <td>0.00299978</td>\n",
       "      <td>0.00366656</td>\n",
       "      <td>0.00333285</td>\n",
       "      <td>0.00366545</td>\n",
       "      <td>0.00366489</td>\n",
       "      <td>0.00299923</td>\n",
       "      <td>0.00266616</td>\n",
       "      <td>0.00299684</td>\n",
       "      <td>0.00366672</td>\n",
       "      <td>0.00300018</td>\n",
       "    </tr>\n",
       "    <tr>\n",
       "      <th>std_score_time</th>\n",
       "      <td>0.000496339</td>\n",
       "      <td>0.000816632</td>\n",
       "      <td>0.000815854</td>\n",
       "      <td>0.000954542</td>\n",
       "      <td>0.00125194</td>\n",
       "      <td>0.000939876</td>\n",
       "      <td>0.00235725</td>\n",
       "      <td>1.27652e-06</td>\n",
       "      <td>0.000941954</td>\n",
       "      <td>0.00124872</td>\n",
       "      <td>0.000474406</td>\n",
       "      <td>0.000942798</td>\n",
       "      <td>2.9736e-07</td>\n",
       "      <td>0.000471314</td>\n",
       "      <td>2.97997e-06</td>\n",
       "      <td>0.000944539</td>\n",
       "      <td>0.000817898</td>\n",
       "    </tr>\n",
       "    <tr>\n",
       "      <th>param_n_neighbors</th>\n",
       "      <td>2</td>\n",
       "      <td>3</td>\n",
       "      <td>4</td>\n",
       "      <td>5</td>\n",
       "      <td>6</td>\n",
       "      <td>7</td>\n",
       "      <td>8</td>\n",
       "      <td>9</td>\n",
       "      <td>10</td>\n",
       "      <td>11</td>\n",
       "      <td>12</td>\n",
       "      <td>13</td>\n",
       "      <td>14</td>\n",
       "      <td>15</td>\n",
       "      <td>16</td>\n",
       "      <td>17</td>\n",
       "      <td>18</td>\n",
       "    </tr>\n",
       "    <tr>\n",
       "      <th>params</th>\n",
       "      <td>{'n_neighbors': 2}</td>\n",
       "      <td>{'n_neighbors': 3}</td>\n",
       "      <td>{'n_neighbors': 4}</td>\n",
       "      <td>{'n_neighbors': 5}</td>\n",
       "      <td>{'n_neighbors': 6}</td>\n",
       "      <td>{'n_neighbors': 7}</td>\n",
       "      <td>{'n_neighbors': 8}</td>\n",
       "      <td>{'n_neighbors': 9}</td>\n",
       "      <td>{'n_neighbors': 10}</td>\n",
       "      <td>{'n_neighbors': 11}</td>\n",
       "      <td>{'n_neighbors': 12}</td>\n",
       "      <td>{'n_neighbors': 13}</td>\n",
       "      <td>{'n_neighbors': 14}</td>\n",
       "      <td>{'n_neighbors': 15}</td>\n",
       "      <td>{'n_neighbors': 16}</td>\n",
       "      <td>{'n_neighbors': 17}</td>\n",
       "      <td>{'n_neighbors': 18}</td>\n",
       "    </tr>\n",
       "    <tr>\n",
       "      <th>split0_test_score</th>\n",
       "      <td>0.960784</td>\n",
       "      <td>0.980392</td>\n",
       "      <td>0.980392</td>\n",
       "      <td>0.980392</td>\n",
       "      <td>0.980392</td>\n",
       "      <td>0.980392</td>\n",
       "      <td>0.980392</td>\n",
       "      <td>0.960784</td>\n",
       "      <td>0.960784</td>\n",
       "      <td>0.960784</td>\n",
       "      <td>0.960784</td>\n",
       "      <td>0.960784</td>\n",
       "      <td>0.960784</td>\n",
       "      <td>0.960784</td>\n",
       "      <td>0.960784</td>\n",
       "      <td>0.960784</td>\n",
       "      <td>0.960784</td>\n",
       "    </tr>\n",
       "    <tr>\n",
       "      <th>split1_test_score</th>\n",
       "      <td>0.941176</td>\n",
       "      <td>0.960784</td>\n",
       "      <td>0.960784</td>\n",
       "      <td>0.980392</td>\n",
       "      <td>0.960784</td>\n",
       "      <td>0.960784</td>\n",
       "      <td>0.980392</td>\n",
       "      <td>0.980392</td>\n",
       "      <td>0.980392</td>\n",
       "      <td>0.960784</td>\n",
       "      <td>0.960784</td>\n",
       "      <td>0.941176</td>\n",
       "      <td>0.960784</td>\n",
       "      <td>0.941176</td>\n",
       "      <td>0.941176</td>\n",
       "      <td>0.941176</td>\n",
       "      <td>0.901961</td>\n",
       "    </tr>\n",
       "    <tr>\n",
       "      <th>split2_test_score</th>\n",
       "      <td>0.958333</td>\n",
       "      <td>1</td>\n",
       "      <td>0.979167</td>\n",
       "      <td>1</td>\n",
       "      <td>0.979167</td>\n",
       "      <td>0.979167</td>\n",
       "      <td>0.979167</td>\n",
       "      <td>0.979167</td>\n",
       "      <td>0.979167</td>\n",
       "      <td>1</td>\n",
       "      <td>0.979167</td>\n",
       "      <td>0.979167</td>\n",
       "      <td>0.979167</td>\n",
       "      <td>1</td>\n",
       "      <td>0.979167</td>\n",
       "      <td>0.979167</td>\n",
       "      <td>0.979167</td>\n",
       "    </tr>\n",
       "    <tr>\n",
       "      <th>mean_test_score</th>\n",
       "      <td>0.953333</td>\n",
       "      <td>0.98</td>\n",
       "      <td>0.973333</td>\n",
       "      <td>0.986667</td>\n",
       "      <td>0.973333</td>\n",
       "      <td>0.973333</td>\n",
       "      <td>0.98</td>\n",
       "      <td>0.973333</td>\n",
       "      <td>0.973333</td>\n",
       "      <td>0.973333</td>\n",
       "      <td>0.966667</td>\n",
       "      <td>0.96</td>\n",
       "      <td>0.966667</td>\n",
       "      <td>0.966667</td>\n",
       "      <td>0.96</td>\n",
       "      <td>0.96</td>\n",
       "      <td>0.946667</td>\n",
       "    </tr>\n",
       "    <tr>\n",
       "      <th>std_test_score</th>\n",
       "      <td>0.00878204</td>\n",
       "      <td>0.0159247</td>\n",
       "      <td>0.00902067</td>\n",
       "      <td>0.00914659</td>\n",
       "      <td>0.00902067</td>\n",
       "      <td>0.00902067</td>\n",
       "      <td>0.000571662</td>\n",
       "      <td>0.00902067</td>\n",
       "      <td>0.00902067</td>\n",
       "      <td>0.0182932</td>\n",
       "      <td>0.00857493</td>\n",
       "      <td>0.0154349</td>\n",
       "      <td>0.00857493</td>\n",
       "      <td>0.0242536</td>\n",
       "      <td>0.0154349</td>\n",
       "      <td>0.0154349</td>\n",
       "      <td>0.0329438</td>\n",
       "    </tr>\n",
       "    <tr>\n",
       "      <th>rank_test_score</th>\n",
       "      <td>16</td>\n",
       "      <td>2</td>\n",
       "      <td>4</td>\n",
       "      <td>1</td>\n",
       "      <td>4</td>\n",
       "      <td>4</td>\n",
       "      <td>2</td>\n",
       "      <td>4</td>\n",
       "      <td>4</td>\n",
       "      <td>4</td>\n",
       "      <td>10</td>\n",
       "      <td>13</td>\n",
       "      <td>10</td>\n",
       "      <td>10</td>\n",
       "      <td>13</td>\n",
       "      <td>13</td>\n",
       "      <td>17</td>\n",
       "    </tr>\n",
       "  </tbody>\n",
       "</table>\n",
       "</div>"
      ],
      "text/plain": [
       "                                    0                   1                   2  \\\n",
       "mean_fit_time              0.00262411          0.00200073          0.00333198   \n",
       "std_fit_time              0.000511835         0.000816243         0.000471314   \n",
       "mean_score_time            0.00369875          0.00399836          0.00400138   \n",
       "std_score_time            0.000496339         0.000816632         0.000815854   \n",
       "param_n_neighbors                   2                   3                   4   \n",
       "params             {'n_neighbors': 2}  {'n_neighbors': 3}  {'n_neighbors': 4}   \n",
       "split0_test_score            0.960784            0.980392            0.980392   \n",
       "split1_test_score            0.941176            0.960784            0.960784   \n",
       "split2_test_score            0.958333                   1            0.979167   \n",
       "mean_test_score              0.953333                0.98            0.973333   \n",
       "std_test_score             0.00878204           0.0159247          0.00902067   \n",
       "rank_test_score                    16                   2                   4   \n",
       "\n",
       "                                    3                   4                   5  \\\n",
       "mean_fit_time              0.00234246           0.0049994          0.00200184   \n",
       "std_fit_time              0.000465287          0.00356265         1.38109e-06   \n",
       "mean_score_time            0.00532365          0.00433771          0.00466442   \n",
       "std_score_time            0.000954542          0.00125194         0.000939876   \n",
       "param_n_neighbors                   5                   6                   7   \n",
       "params             {'n_neighbors': 5}  {'n_neighbors': 6}  {'n_neighbors': 7}   \n",
       "split0_test_score            0.980392            0.980392            0.980392   \n",
       "split1_test_score            0.980392            0.960784            0.960784   \n",
       "split2_test_score                   1            0.979167            0.979167   \n",
       "mean_test_score              0.986667            0.973333            0.973333   \n",
       "std_test_score             0.00914659          0.00902067          0.00902067   \n",
       "rank_test_score                     1                   4                   4   \n",
       "\n",
       "                                    6                   7  \\\n",
       "mean_fit_time              0.00166647           0.0013326   \n",
       "std_fit_time              0.000471484         0.000471483   \n",
       "mean_score_time            0.00466553          0.00299978   \n",
       "std_score_time             0.00235725         1.27652e-06   \n",
       "param_n_neighbors                   8                   9   \n",
       "params             {'n_neighbors': 8}  {'n_neighbors': 9}   \n",
       "split0_test_score            0.980392            0.960784   \n",
       "split1_test_score            0.980392            0.980392   \n",
       "split2_test_score            0.979167            0.979167   \n",
       "mean_test_score                  0.98            0.973333   \n",
       "std_test_score            0.000571662          0.00902067   \n",
       "rank_test_score                     2                   4   \n",
       "\n",
       "                                     8                    9  \\\n",
       "mean_fit_time               0.00233332           0.00166837   \n",
       "std_fit_time               0.000471263          0.000472328   \n",
       "mean_score_time             0.00366656           0.00333285   \n",
       "std_score_time             0.000941954           0.00124872   \n",
       "param_n_neighbors                   10                   11   \n",
       "params             {'n_neighbors': 10}  {'n_neighbors': 11}   \n",
       "split0_test_score             0.960784             0.960784   \n",
       "split1_test_score             0.980392             0.960784   \n",
       "split2_test_score             0.979167                    1   \n",
       "mean_test_score               0.973333             0.973333   \n",
       "std_test_score              0.00902067            0.0182932   \n",
       "rank_test_score                      4                    4   \n",
       "\n",
       "                                    10                   11  \\\n",
       "mean_fit_time               0.00200073           0.00200137   \n",
       "std_fit_time               0.000816535          6.83651e-07   \n",
       "mean_score_time             0.00366545           0.00366489   \n",
       "std_score_time             0.000474406          0.000942798   \n",
       "param_n_neighbors                   12                   13   \n",
       "params             {'n_neighbors': 12}  {'n_neighbors': 13}   \n",
       "split0_test_score             0.960784             0.960784   \n",
       "split1_test_score             0.960784             0.941176   \n",
       "split2_test_score             0.979167             0.979167   \n",
       "mean_test_score               0.966667                 0.96   \n",
       "std_test_score              0.00857493            0.0154349   \n",
       "rank_test_score                     10                   13   \n",
       "\n",
       "                                    12                   13  \\\n",
       "mean_fit_time               0.00200073            0.0016671   \n",
       "std_fit_time               1.12392e-07          0.000471595   \n",
       "mean_score_time             0.00299923           0.00266616   \n",
       "std_score_time              2.9736e-07          0.000471314   \n",
       "param_n_neighbors                   14                   15   \n",
       "params             {'n_neighbors': 14}  {'n_neighbors': 15}   \n",
       "split0_test_score             0.960784             0.960784   \n",
       "split1_test_score             0.960784             0.941176   \n",
       "split2_test_score             0.979167                    1   \n",
       "mean_test_score               0.966667             0.966667   \n",
       "std_test_score              0.00857493            0.0242536   \n",
       "rank_test_score                     10                   10   \n",
       "\n",
       "                                    14                   15  \\\n",
       "mean_fit_time               0.00166893           0.00123803   \n",
       "std_fit_time               0.000473568          0.000551354   \n",
       "mean_score_time             0.00299684           0.00366672   \n",
       "std_score_time             2.97997e-06          0.000944539   \n",
       "param_n_neighbors                   16                   17   \n",
       "params             {'n_neighbors': 16}  {'n_neighbors': 17}   \n",
       "split0_test_score             0.960784             0.960784   \n",
       "split1_test_score             0.941176             0.941176   \n",
       "split2_test_score             0.979167             0.979167   \n",
       "mean_test_score                   0.96                 0.96   \n",
       "std_test_score               0.0154349            0.0154349   \n",
       "rank_test_score                     13                   13   \n",
       "\n",
       "                                    16  \n",
       "mean_fit_time               0.00233332  \n",
       "std_fit_time               0.000471595  \n",
       "mean_score_time             0.00300018  \n",
       "std_score_time             0.000817898  \n",
       "param_n_neighbors                   18  \n",
       "params             {'n_neighbors': 18}  \n",
       "split0_test_score             0.960784  \n",
       "split1_test_score             0.901961  \n",
       "split2_test_score             0.979167  \n",
       "mean_test_score               0.946667  \n",
       "std_test_score               0.0329438  \n",
       "rank_test_score                     17  "
      ]
     },
     "execution_count": 32,
     "metadata": {},
     "output_type": "execute_result"
    }
   ],
   "source": [
    "pd.DataFrame(grid.cv_results_).T"
   ]
  },
  {
   "cell_type": "markdown",
   "metadata": {},
   "source": [
    "> - pandas DataFrame형태로 바꾸면 깔끔한 보고서 형식으로 볼 수 있다."
   ]
  },
  {
   "cell_type": "markdown",
   "metadata": {},
   "source": [
    "# RandomSearchCV\n",
    "하이퍼 파라미터를 찾는 또 다른 방법"
   ]
  },
  {
   "cell_type": "code",
   "execution_count": 33,
   "metadata": {},
   "outputs": [],
   "source": [
    "from sklearn.model_selection import RandomizedSearchCV"
   ]
  },
  {
   "cell_type": "markdown",
   "metadata": {},
   "source": [
    "> - GridSearchCV는 오래 걸린다...  = 비용이 많이 든다.\n",
    "- random하게 찾는 기법이다.\n",
    "    - 좀 더 빨리 찾을 확률이 있다."
   ]
  },
  {
   "cell_type": "code",
   "execution_count": 106,
   "metadata": {},
   "outputs": [],
   "source": [
    "rd = RandomizedSearchCV(knn, {\"n_neighbors\":[i for i in range(2,10)], \"leaf_size\":range(10,50,10)})"
   ]
  },
  {
   "cell_type": "markdown",
   "metadata": {},
   "source": [
    "> 사용법은 GridSearchCV와 같다."
   ]
  },
  {
   "cell_type": "code",
   "execution_count": 107,
   "metadata": {},
   "outputs": [
    {
     "name": "stderr",
     "output_type": "stream",
     "text": [
      "C:\\Users\\JINHYO\\Anaconda3\\lib\\site-packages\\sklearn\\model_selection\\_split.py:1978: FutureWarning: The default value of cv will change from 3 to 5 in version 0.22. Specify it explicitly to silence this warning.\n",
      "  warnings.warn(CV_WARNING, FutureWarning)\n",
      "C:\\Users\\JINHYO\\Anaconda3\\lib\\site-packages\\sklearn\\model_selection\\_search.py:814: DeprecationWarning: The default of the `iid` parameter will change from True to False in version 0.22 and will be removed in 0.24. This will change numeric results when test-set sizes are unequal.\n",
      "  DeprecationWarning)\n"
     ]
    },
    {
     "data": {
      "text/plain": [
       "RandomizedSearchCV(cv='warn', error_score='raise-deprecating',\n",
       "                   estimator=KNeighborsClassifier(algorithm='auto',\n",
       "                                                  leaf_size=30,\n",
       "                                                  metric='minkowski',\n",
       "                                                  metric_params=None,\n",
       "                                                  n_jobs=None, n_neighbors=5,\n",
       "                                                  p=2, weights='uniform'),\n",
       "                   iid='warn', n_iter=10, n_jobs=None,\n",
       "                   param_distributions={'leaf_size': range(10, 50, 10),\n",
       "                                        'n_neighbors': [2, 3, 4, 5, 6, 7, 8,\n",
       "                                                        9]},\n",
       "                   pre_dispatch='2*n_jobs', random_state=None, refit=True,\n",
       "                   return_train_score=False, scoring=None, verbose=0)"
      ]
     },
     "execution_count": 107,
     "metadata": {},
     "output_type": "execute_result"
    }
   ],
   "source": [
    "rd.fit(iris.iloc[:,:-1], iris.target)"
   ]
  },
  {
   "cell_type": "code",
   "execution_count": 108,
   "metadata": {},
   "outputs": [
    {
     "data": {
      "text/plain": [
       "{'param_distributions': {'n_neighbors': [2, 3, 4, 5, 6, 7, 8, 9],\n",
       "  'leaf_size': range(10, 50, 10)},\n",
       " 'n_iter': 10,\n",
       " 'random_state': None,\n",
       " 'scoring': None,\n",
       " 'estimator': KNeighborsClassifier(algorithm='auto', leaf_size=30, metric='minkowski',\n",
       "                      metric_params=None, n_jobs=None, n_neighbors=5, p=2,\n",
       "                      weights='uniform'),\n",
       " 'n_jobs': None,\n",
       " 'iid': 'warn',\n",
       " 'refit': True,\n",
       " 'cv': 'warn',\n",
       " 'verbose': 0,\n",
       " 'pre_dispatch': '2*n_jobs',\n",
       " 'error_score': 'raise-deprecating',\n",
       " 'return_train_score': False,\n",
       " 'multimetric_': False,\n",
       " 'best_index_': 3,\n",
       " 'best_score_': 0.9866666666666667,\n",
       " 'best_params_': {'n_neighbors': 5, 'leaf_size': 20},\n",
       " 'best_estimator_': KNeighborsClassifier(algorithm='auto', leaf_size=20, metric='minkowski',\n",
       "                      metric_params=None, n_jobs=None, n_neighbors=5, p=2,\n",
       "                      weights='uniform'),\n",
       " 'refit_time_': 0.001998424530029297,\n",
       " 'scorer_': <function sklearn.metrics.scorer._passthrough_scorer(estimator, *args, **kwargs)>,\n",
       " 'cv_results_': {'mean_fit_time': array([0.00284251, 0.00334517, 0.00199874, 0.00231632, 0.0029846 ,\n",
       "         0.00299962, 0.002985  , 0.00299899, 0.00362126, 0.00266774]),\n",
       "  'std_fit_time': array([2.25292508e-04, 9.23151614e-04, 3.97205321e-06, 4.50591533e-04,\n",
       "         8.18148963e-04, 8.16340116e-04, 1.99541775e-05, 1.57348234e-06,\n",
       "         5.31335202e-04, 4.71089385e-04]),\n",
       "  'mean_score_time': array([0.00433183, 0.00498398, 0.00434717, 0.00334859, 0.00466673,\n",
       "         0.00534924, 0.00466514, 0.00433437, 0.00504367, 0.00466577]),\n",
       "  'std_score_time': array([0.00047205, 0.00144206, 0.00048768, 0.00046232, 0.00094315,\n",
       "         0.00049054, 0.00047054, 0.00047059, 0.00087286, 0.00047132]),\n",
       "  'param_n_neighbors': masked_array(data=[4, 2, 3, 5, 8, 4, 6, 7, 4, 2],\n",
       "               mask=[False, False, False, False, False, False, False, False,\n",
       "                     False, False],\n",
       "         fill_value='?',\n",
       "              dtype=object),\n",
       "  'param_leaf_size': masked_array(data=[30, 40, 40, 20, 10, 20, 30, 10, 10, 10],\n",
       "               mask=[False, False, False, False, False, False, False, False,\n",
       "                     False, False],\n",
       "         fill_value='?',\n",
       "              dtype=object),\n",
       "  'params': [{'n_neighbors': 4, 'leaf_size': 30},\n",
       "   {'n_neighbors': 2, 'leaf_size': 40},\n",
       "   {'n_neighbors': 3, 'leaf_size': 40},\n",
       "   {'n_neighbors': 5, 'leaf_size': 20},\n",
       "   {'n_neighbors': 8, 'leaf_size': 10},\n",
       "   {'n_neighbors': 4, 'leaf_size': 20},\n",
       "   {'n_neighbors': 6, 'leaf_size': 30},\n",
       "   {'n_neighbors': 7, 'leaf_size': 10},\n",
       "   {'n_neighbors': 4, 'leaf_size': 10},\n",
       "   {'n_neighbors': 2, 'leaf_size': 10}],\n",
       "  'split0_test_score': array([0.98039216, 0.96078431, 0.98039216, 0.98039216, 0.98039216,\n",
       "         0.98039216, 0.98039216, 0.98039216, 0.98039216, 0.96078431]),\n",
       "  'split1_test_score': array([0.96078431, 0.94117647, 0.96078431, 0.98039216, 0.98039216,\n",
       "         0.96078431, 0.96078431, 0.96078431, 0.96078431, 0.94117647]),\n",
       "  'split2_test_score': array([0.97916667, 0.95833333, 1.        , 1.        , 0.97916667,\n",
       "         0.97916667, 0.97916667, 0.97916667, 0.97916667, 0.95833333]),\n",
       "  'mean_test_score': array([0.97333333, 0.95333333, 0.98      , 0.98666667, 0.98      ,\n",
       "         0.97333333, 0.97333333, 0.97333333, 0.97333333, 0.95333333]),\n",
       "  'std_test_score': array([0.00902067, 0.00878204, 0.01592466, 0.00914659, 0.00057166,\n",
       "         0.00902067, 0.00902067, 0.00902067, 0.00902067, 0.00878204]),\n",
       "  'rank_test_score': array([4, 9, 2, 1, 2, 4, 4, 4, 4, 9])},\n",
       " 'n_splits_': 3}"
      ]
     },
     "execution_count": 108,
     "metadata": {},
     "output_type": "execute_result"
    }
   ],
   "source": [
    "vars(rd)"
   ]
  },
  {
   "cell_type": "code",
   "execution_count": 109,
   "metadata": {},
   "outputs": [
    {
     "data": {
      "text/plain": [
       "(3, 0.9866666666666667, {'n_neighbors': 5, 'leaf_size': 20})"
      ]
     },
     "execution_count": 109,
     "metadata": {},
     "output_type": "execute_result"
    }
   ],
   "source": [
    "rd.best_index_, rd.best_score_, rd.best_params_"
   ]
  },
  {
   "cell_type": "code",
   "execution_count": 110,
   "metadata": {},
   "outputs": [
    {
     "data": {
      "text/html": [
       "<div>\n",
       "<style scoped>\n",
       "    .dataframe tbody tr th:only-of-type {\n",
       "        vertical-align: middle;\n",
       "    }\n",
       "\n",
       "    .dataframe tbody tr th {\n",
       "        vertical-align: top;\n",
       "    }\n",
       "\n",
       "    .dataframe thead th {\n",
       "        text-align: right;\n",
       "    }\n",
       "</style>\n",
       "<table border=\"1\" class=\"dataframe\">\n",
       "  <thead>\n",
       "    <tr style=\"text-align: right;\">\n",
       "      <th></th>\n",
       "      <th>0</th>\n",
       "      <th>1</th>\n",
       "      <th>2</th>\n",
       "      <th>3</th>\n",
       "      <th>4</th>\n",
       "      <th>5</th>\n",
       "      <th>6</th>\n",
       "      <th>7</th>\n",
       "      <th>8</th>\n",
       "      <th>9</th>\n",
       "    </tr>\n",
       "  </thead>\n",
       "  <tbody>\n",
       "    <tr>\n",
       "      <th>mean_fit_time</th>\n",
       "      <td>0.00284251</td>\n",
       "      <td>0.00334517</td>\n",
       "      <td>0.00199874</td>\n",
       "      <td>0.00231632</td>\n",
       "      <td>0.0029846</td>\n",
       "      <td>0.00299962</td>\n",
       "      <td>0.002985</td>\n",
       "      <td>0.00299899</td>\n",
       "      <td>0.00362126</td>\n",
       "      <td>0.00266774</td>\n",
       "    </tr>\n",
       "    <tr>\n",
       "      <th>std_fit_time</th>\n",
       "      <td>0.000225293</td>\n",
       "      <td>0.000923152</td>\n",
       "      <td>3.97205e-06</td>\n",
       "      <td>0.000450592</td>\n",
       "      <td>0.000818149</td>\n",
       "      <td>0.00081634</td>\n",
       "      <td>1.99542e-05</td>\n",
       "      <td>1.57348e-06</td>\n",
       "      <td>0.000531335</td>\n",
       "      <td>0.000471089</td>\n",
       "    </tr>\n",
       "    <tr>\n",
       "      <th>mean_score_time</th>\n",
       "      <td>0.00433183</td>\n",
       "      <td>0.00498398</td>\n",
       "      <td>0.00434717</td>\n",
       "      <td>0.00334859</td>\n",
       "      <td>0.00466673</td>\n",
       "      <td>0.00534924</td>\n",
       "      <td>0.00466514</td>\n",
       "      <td>0.00433437</td>\n",
       "      <td>0.00504367</td>\n",
       "      <td>0.00466577</td>\n",
       "    </tr>\n",
       "    <tr>\n",
       "      <th>std_score_time</th>\n",
       "      <td>0.000472053</td>\n",
       "      <td>0.00144206</td>\n",
       "      <td>0.000487677</td>\n",
       "      <td>0.000462323</td>\n",
       "      <td>0.000943147</td>\n",
       "      <td>0.000490537</td>\n",
       "      <td>0.000470536</td>\n",
       "      <td>0.000470588</td>\n",
       "      <td>0.000872863</td>\n",
       "      <td>0.000471316</td>\n",
       "    </tr>\n",
       "    <tr>\n",
       "      <th>param_n_neighbors</th>\n",
       "      <td>4</td>\n",
       "      <td>2</td>\n",
       "      <td>3</td>\n",
       "      <td>5</td>\n",
       "      <td>8</td>\n",
       "      <td>4</td>\n",
       "      <td>6</td>\n",
       "      <td>7</td>\n",
       "      <td>4</td>\n",
       "      <td>2</td>\n",
       "    </tr>\n",
       "    <tr>\n",
       "      <th>param_leaf_size</th>\n",
       "      <td>30</td>\n",
       "      <td>40</td>\n",
       "      <td>40</td>\n",
       "      <td>20</td>\n",
       "      <td>10</td>\n",
       "      <td>20</td>\n",
       "      <td>30</td>\n",
       "      <td>10</td>\n",
       "      <td>10</td>\n",
       "      <td>10</td>\n",
       "    </tr>\n",
       "    <tr>\n",
       "      <th>params</th>\n",
       "      <td>{'n_neighbors': 4, 'leaf_size': 30}</td>\n",
       "      <td>{'n_neighbors': 2, 'leaf_size': 40}</td>\n",
       "      <td>{'n_neighbors': 3, 'leaf_size': 40}</td>\n",
       "      <td>{'n_neighbors': 5, 'leaf_size': 20}</td>\n",
       "      <td>{'n_neighbors': 8, 'leaf_size': 10}</td>\n",
       "      <td>{'n_neighbors': 4, 'leaf_size': 20}</td>\n",
       "      <td>{'n_neighbors': 6, 'leaf_size': 30}</td>\n",
       "      <td>{'n_neighbors': 7, 'leaf_size': 10}</td>\n",
       "      <td>{'n_neighbors': 4, 'leaf_size': 10}</td>\n",
       "      <td>{'n_neighbors': 2, 'leaf_size': 10}</td>\n",
       "    </tr>\n",
       "    <tr>\n",
       "      <th>split0_test_score</th>\n",
       "      <td>0.980392</td>\n",
       "      <td>0.960784</td>\n",
       "      <td>0.980392</td>\n",
       "      <td>0.980392</td>\n",
       "      <td>0.980392</td>\n",
       "      <td>0.980392</td>\n",
       "      <td>0.980392</td>\n",
       "      <td>0.980392</td>\n",
       "      <td>0.980392</td>\n",
       "      <td>0.960784</td>\n",
       "    </tr>\n",
       "    <tr>\n",
       "      <th>split1_test_score</th>\n",
       "      <td>0.960784</td>\n",
       "      <td>0.941176</td>\n",
       "      <td>0.960784</td>\n",
       "      <td>0.980392</td>\n",
       "      <td>0.980392</td>\n",
       "      <td>0.960784</td>\n",
       "      <td>0.960784</td>\n",
       "      <td>0.960784</td>\n",
       "      <td>0.960784</td>\n",
       "      <td>0.941176</td>\n",
       "    </tr>\n",
       "    <tr>\n",
       "      <th>split2_test_score</th>\n",
       "      <td>0.979167</td>\n",
       "      <td>0.958333</td>\n",
       "      <td>1</td>\n",
       "      <td>1</td>\n",
       "      <td>0.979167</td>\n",
       "      <td>0.979167</td>\n",
       "      <td>0.979167</td>\n",
       "      <td>0.979167</td>\n",
       "      <td>0.979167</td>\n",
       "      <td>0.958333</td>\n",
       "    </tr>\n",
       "    <tr>\n",
       "      <th>mean_test_score</th>\n",
       "      <td>0.973333</td>\n",
       "      <td>0.953333</td>\n",
       "      <td>0.98</td>\n",
       "      <td>0.986667</td>\n",
       "      <td>0.98</td>\n",
       "      <td>0.973333</td>\n",
       "      <td>0.973333</td>\n",
       "      <td>0.973333</td>\n",
       "      <td>0.973333</td>\n",
       "      <td>0.953333</td>\n",
       "    </tr>\n",
       "    <tr>\n",
       "      <th>std_test_score</th>\n",
       "      <td>0.00902067</td>\n",
       "      <td>0.00878204</td>\n",
       "      <td>0.0159247</td>\n",
       "      <td>0.00914659</td>\n",
       "      <td>0.000571662</td>\n",
       "      <td>0.00902067</td>\n",
       "      <td>0.00902067</td>\n",
       "      <td>0.00902067</td>\n",
       "      <td>0.00902067</td>\n",
       "      <td>0.00878204</td>\n",
       "    </tr>\n",
       "    <tr>\n",
       "      <th>rank_test_score</th>\n",
       "      <td>4</td>\n",
       "      <td>9</td>\n",
       "      <td>2</td>\n",
       "      <td>1</td>\n",
       "      <td>2</td>\n",
       "      <td>4</td>\n",
       "      <td>4</td>\n",
       "      <td>4</td>\n",
       "      <td>4</td>\n",
       "      <td>9</td>\n",
       "    </tr>\n",
       "  </tbody>\n",
       "</table>\n",
       "</div>"
      ],
      "text/plain": [
       "                                                     0  \\\n",
       "mean_fit_time                               0.00284251   \n",
       "std_fit_time                               0.000225293   \n",
       "mean_score_time                             0.00433183   \n",
       "std_score_time                             0.000472053   \n",
       "param_n_neighbors                                    4   \n",
       "param_leaf_size                                     30   \n",
       "params             {'n_neighbors': 4, 'leaf_size': 30}   \n",
       "split0_test_score                             0.980392   \n",
       "split1_test_score                             0.960784   \n",
       "split2_test_score                             0.979167   \n",
       "mean_test_score                               0.973333   \n",
       "std_test_score                              0.00902067   \n",
       "rank_test_score                                      4   \n",
       "\n",
       "                                                     1  \\\n",
       "mean_fit_time                               0.00334517   \n",
       "std_fit_time                               0.000923152   \n",
       "mean_score_time                             0.00498398   \n",
       "std_score_time                              0.00144206   \n",
       "param_n_neighbors                                    2   \n",
       "param_leaf_size                                     40   \n",
       "params             {'n_neighbors': 2, 'leaf_size': 40}   \n",
       "split0_test_score                             0.960784   \n",
       "split1_test_score                             0.941176   \n",
       "split2_test_score                             0.958333   \n",
       "mean_test_score                               0.953333   \n",
       "std_test_score                              0.00878204   \n",
       "rank_test_score                                      9   \n",
       "\n",
       "                                                     2  \\\n",
       "mean_fit_time                               0.00199874   \n",
       "std_fit_time                               3.97205e-06   \n",
       "mean_score_time                             0.00434717   \n",
       "std_score_time                             0.000487677   \n",
       "param_n_neighbors                                    3   \n",
       "param_leaf_size                                     40   \n",
       "params             {'n_neighbors': 3, 'leaf_size': 40}   \n",
       "split0_test_score                             0.980392   \n",
       "split1_test_score                             0.960784   \n",
       "split2_test_score                                    1   \n",
       "mean_test_score                                   0.98   \n",
       "std_test_score                               0.0159247   \n",
       "rank_test_score                                      2   \n",
       "\n",
       "                                                     3  \\\n",
       "mean_fit_time                               0.00231632   \n",
       "std_fit_time                               0.000450592   \n",
       "mean_score_time                             0.00334859   \n",
       "std_score_time                             0.000462323   \n",
       "param_n_neighbors                                    5   \n",
       "param_leaf_size                                     20   \n",
       "params             {'n_neighbors': 5, 'leaf_size': 20}   \n",
       "split0_test_score                             0.980392   \n",
       "split1_test_score                             0.980392   \n",
       "split2_test_score                                    1   \n",
       "mean_test_score                               0.986667   \n",
       "std_test_score                              0.00914659   \n",
       "rank_test_score                                      1   \n",
       "\n",
       "                                                     4  \\\n",
       "mean_fit_time                                0.0029846   \n",
       "std_fit_time                               0.000818149   \n",
       "mean_score_time                             0.00466673   \n",
       "std_score_time                             0.000943147   \n",
       "param_n_neighbors                                    8   \n",
       "param_leaf_size                                     10   \n",
       "params             {'n_neighbors': 8, 'leaf_size': 10}   \n",
       "split0_test_score                             0.980392   \n",
       "split1_test_score                             0.980392   \n",
       "split2_test_score                             0.979167   \n",
       "mean_test_score                                   0.98   \n",
       "std_test_score                             0.000571662   \n",
       "rank_test_score                                      2   \n",
       "\n",
       "                                                     5  \\\n",
       "mean_fit_time                               0.00299962   \n",
       "std_fit_time                                0.00081634   \n",
       "mean_score_time                             0.00534924   \n",
       "std_score_time                             0.000490537   \n",
       "param_n_neighbors                                    4   \n",
       "param_leaf_size                                     20   \n",
       "params             {'n_neighbors': 4, 'leaf_size': 20}   \n",
       "split0_test_score                             0.980392   \n",
       "split1_test_score                             0.960784   \n",
       "split2_test_score                             0.979167   \n",
       "mean_test_score                               0.973333   \n",
       "std_test_score                              0.00902067   \n",
       "rank_test_score                                      4   \n",
       "\n",
       "                                                     6  \\\n",
       "mean_fit_time                                 0.002985   \n",
       "std_fit_time                               1.99542e-05   \n",
       "mean_score_time                             0.00466514   \n",
       "std_score_time                             0.000470536   \n",
       "param_n_neighbors                                    6   \n",
       "param_leaf_size                                     30   \n",
       "params             {'n_neighbors': 6, 'leaf_size': 30}   \n",
       "split0_test_score                             0.980392   \n",
       "split1_test_score                             0.960784   \n",
       "split2_test_score                             0.979167   \n",
       "mean_test_score                               0.973333   \n",
       "std_test_score                              0.00902067   \n",
       "rank_test_score                                      4   \n",
       "\n",
       "                                                     7  \\\n",
       "mean_fit_time                               0.00299899   \n",
       "std_fit_time                               1.57348e-06   \n",
       "mean_score_time                             0.00433437   \n",
       "std_score_time                             0.000470588   \n",
       "param_n_neighbors                                    7   \n",
       "param_leaf_size                                     10   \n",
       "params             {'n_neighbors': 7, 'leaf_size': 10}   \n",
       "split0_test_score                             0.980392   \n",
       "split1_test_score                             0.960784   \n",
       "split2_test_score                             0.979167   \n",
       "mean_test_score                               0.973333   \n",
       "std_test_score                              0.00902067   \n",
       "rank_test_score                                      4   \n",
       "\n",
       "                                                     8  \\\n",
       "mean_fit_time                               0.00362126   \n",
       "std_fit_time                               0.000531335   \n",
       "mean_score_time                             0.00504367   \n",
       "std_score_time                             0.000872863   \n",
       "param_n_neighbors                                    4   \n",
       "param_leaf_size                                     10   \n",
       "params             {'n_neighbors': 4, 'leaf_size': 10}   \n",
       "split0_test_score                             0.980392   \n",
       "split1_test_score                             0.960784   \n",
       "split2_test_score                             0.979167   \n",
       "mean_test_score                               0.973333   \n",
       "std_test_score                              0.00902067   \n",
       "rank_test_score                                      4   \n",
       "\n",
       "                                                     9  \n",
       "mean_fit_time                               0.00266774  \n",
       "std_fit_time                               0.000471089  \n",
       "mean_score_time                             0.00466577  \n",
       "std_score_time                             0.000471316  \n",
       "param_n_neighbors                                    2  \n",
       "param_leaf_size                                     10  \n",
       "params             {'n_neighbors': 2, 'leaf_size': 10}  \n",
       "split0_test_score                             0.960784  \n",
       "split1_test_score                             0.941176  \n",
       "split2_test_score                             0.958333  \n",
       "mean_test_score                               0.953333  \n",
       "std_test_score                              0.00878204  \n",
       "rank_test_score                                      9  "
      ]
     },
     "execution_count": 110,
     "metadata": {},
     "output_type": "execute_result"
    }
   ],
   "source": [
    "pd.DataFrame(rd.cv_results_).T"
   ]
  },
  {
   "cell_type": "markdown",
   "metadata": {},
   "source": [
    "> - 주어진 parameter를 랜덤한 조합으로 시도한 것을 알 수 있다."
   ]
  },
  {
   "cell_type": "markdown",
   "metadata": {},
   "source": [
    "# Pipeline"
   ]
  },
  {
   "cell_type": "code",
   "execution_count": 34,
   "metadata": {},
   "outputs": [],
   "source": [
    "from sklearn.pipeline import Pipeline"
   ]
  },
  {
   "cell_type": "code",
   "execution_count": 35,
   "metadata": {},
   "outputs": [],
   "source": [
    "from sklearn.preprocessing import StandardScaler"
   ]
  },
  {
   "cell_type": "code",
   "execution_count": 67,
   "metadata": {},
   "outputs": [],
   "source": [
    "pipe = Pipeline([('ss',StandardScaler()), ('knn',KNeighborsClassifier())])"
   ]
  },
  {
   "cell_type": "markdown",
   "metadata": {},
   "source": [
    "> - pipeline은 전처리를 한번에 처리해준다.\n",
    "- list 안에 tuple을 넣어서 인자로 넘겨준다.\n",
    "- 마지막에는 estimator를 넣어줘야한다. (= model)"
   ]
  },
  {
   "cell_type": "code",
   "execution_count": 68,
   "metadata": {},
   "outputs": [
    {
     "data": {
      "text/plain": [
       "Pipeline(memory=None,\n",
       "         steps=[('ss',\n",
       "                 StandardScaler(copy=True, with_mean=True, with_std=True)),\n",
       "                ('knn',\n",
       "                 KNeighborsClassifier(algorithm='auto', leaf_size=30,\n",
       "                                      metric='minkowski', metric_params=None,\n",
       "                                      n_jobs=None, n_neighbors=5, p=2,\n",
       "                                      weights='uniform'))],\n",
       "         verbose=False)"
      ]
     },
     "execution_count": 68,
     "metadata": {},
     "output_type": "execute_result"
    }
   ],
   "source": [
    "# scikit은 언제나 fit!\n",
    "\n",
    "pipe.fit(iris.iloc[:,:-1], iris.target)"
   ]
  },
  {
   "cell_type": "code",
   "execution_count": 69,
   "metadata": {
    "scrolled": false
   },
   "outputs": [
    {
     "data": {
      "text/plain": [
       "{'memory': None,\n",
       " 'steps': [('ss', StandardScaler(copy=True, with_mean=True, with_std=True)),\n",
       "  ('knn',\n",
       "   KNeighborsClassifier(algorithm='auto', leaf_size=30, metric='minkowski',\n",
       "                        metric_params=None, n_jobs=None, n_neighbors=5, p=2,\n",
       "                        weights='uniform'))],\n",
       " 'verbose': False,\n",
       " 'ss': StandardScaler(copy=True, with_mean=True, with_std=True),\n",
       " 'knn': KNeighborsClassifier(algorithm='auto', leaf_size=30, metric='minkowski',\n",
       "                      metric_params=None, n_jobs=None, n_neighbors=5, p=2,\n",
       "                      weights='uniform'),\n",
       " 'ss__copy': True,\n",
       " 'ss__with_mean': True,\n",
       " 'ss__with_std': True,\n",
       " 'knn__algorithm': 'auto',\n",
       " 'knn__leaf_size': 30,\n",
       " 'knn__metric': 'minkowski',\n",
       " 'knn__metric_params': None,\n",
       " 'knn__n_jobs': None,\n",
       " 'knn__n_neighbors': 5,\n",
       " 'knn__p': 2,\n",
       " 'knn__weights': 'uniform'}"
      ]
     },
     "execution_count": 69,
     "metadata": {},
     "output_type": "execute_result"
    }
   ],
   "source": [
    "pipe.get_params()"
   ]
  },
  {
   "cell_type": "markdown",
   "metadata": {},
   "source": [
    "# GridSearchCV + Pipeline\n",
    "- GridSearchCV에 Pipeline을 넣음으로써 전처리와 하이퍼파라미터 찾기를 한번에 할 수 있다."
   ]
  },
  {
   "cell_type": "code",
   "execution_count": 43,
   "metadata": {},
   "outputs": [],
   "source": [
    "grid2 = GridSearchCV(pipe, {\"n_neighbors\":[i for i in range(2,19)]}, cv=10)"
   ]
  },
  {
   "cell_type": "markdown",
   "metadata": {},
   "source": [
    "> - `GridSearchCV`의 estimator에 `pipeline`을 넣을 수 있다."
   ]
  },
  {
   "cell_type": "code",
   "execution_count": 44,
   "metadata": {},
   "outputs": [
    {
     "ename": "ValueError",
     "evalue": "Invalid parameter n_neighbors for estimator Pipeline(memory=None,\n         steps=[('ss',\n                 StandardScaler(copy=True, with_mean=True, with_std=True)),\n                ('knn',\n                 KNeighborsClassifier(algorithm='auto', leaf_size=30,\n                                      metric='minkowski', metric_params=None,\n                                      n_jobs=None, n_neighbors=5, p=2,\n                                      weights='uniform'))],\n         verbose=False). Check the list of available parameters with `estimator.get_params().keys()`.",
     "output_type": "error",
     "traceback": [
      "\u001b[1;31m---------------------------------------------------------------------------\u001b[0m",
      "\u001b[1;31mValueError\u001b[0m                                Traceback (most recent call last)",
      "\u001b[1;32m<ipython-input-44-da5f4ba39477>\u001b[0m in \u001b[0;36m<module>\u001b[1;34m\u001b[0m\n\u001b[1;32m----> 1\u001b[1;33m \u001b[0mgrid2\u001b[0m\u001b[1;33m.\u001b[0m\u001b[0mfit\u001b[0m\u001b[1;33m(\u001b[0m\u001b[0miris\u001b[0m\u001b[1;33m.\u001b[0m\u001b[0miloc\u001b[0m\u001b[1;33m[\u001b[0m\u001b[1;33m:\u001b[0m\u001b[1;33m,\u001b[0m\u001b[1;33m:\u001b[0m\u001b[1;33m-\u001b[0m\u001b[1;36m1\u001b[0m\u001b[1;33m]\u001b[0m\u001b[1;33m,\u001b[0m \u001b[0miris\u001b[0m\u001b[1;33m.\u001b[0m\u001b[0mtarget\u001b[0m\u001b[1;33m)\u001b[0m\u001b[1;33m\u001b[0m\u001b[1;33m\u001b[0m\u001b[0m\n\u001b[0m",
      "\u001b[1;32m~\\Anaconda3\\lib\\site-packages\\sklearn\\model_selection\\_search.py\u001b[0m in \u001b[0;36mfit\u001b[1;34m(self, X, y, groups, **fit_params)\u001b[0m\n\u001b[0;32m    686\u001b[0m                 \u001b[1;32mreturn\u001b[0m \u001b[0mresults\u001b[0m\u001b[1;33m\u001b[0m\u001b[1;33m\u001b[0m\u001b[0m\n\u001b[0;32m    687\u001b[0m \u001b[1;33m\u001b[0m\u001b[0m\n\u001b[1;32m--> 688\u001b[1;33m             \u001b[0mself\u001b[0m\u001b[1;33m.\u001b[0m\u001b[0m_run_search\u001b[0m\u001b[1;33m(\u001b[0m\u001b[0mevaluate_candidates\u001b[0m\u001b[1;33m)\u001b[0m\u001b[1;33m\u001b[0m\u001b[1;33m\u001b[0m\u001b[0m\n\u001b[0m\u001b[0;32m    689\u001b[0m \u001b[1;33m\u001b[0m\u001b[0m\n\u001b[0;32m    690\u001b[0m         \u001b[1;31m# For multi-metric evaluation, store the best_index_, best_params_ and\u001b[0m\u001b[1;33m\u001b[0m\u001b[1;33m\u001b[0m\u001b[1;33m\u001b[0m\u001b[0m\n",
      "\u001b[1;32m~\\Anaconda3\\lib\\site-packages\\sklearn\\model_selection\\_search.py\u001b[0m in \u001b[0;36m_run_search\u001b[1;34m(self, evaluate_candidates)\u001b[0m\n\u001b[0;32m   1147\u001b[0m     \u001b[1;32mdef\u001b[0m \u001b[0m_run_search\u001b[0m\u001b[1;33m(\u001b[0m\u001b[0mself\u001b[0m\u001b[1;33m,\u001b[0m \u001b[0mevaluate_candidates\u001b[0m\u001b[1;33m)\u001b[0m\u001b[1;33m:\u001b[0m\u001b[1;33m\u001b[0m\u001b[1;33m\u001b[0m\u001b[0m\n\u001b[0;32m   1148\u001b[0m         \u001b[1;34m\"\"\"Search all candidates in param_grid\"\"\"\u001b[0m\u001b[1;33m\u001b[0m\u001b[1;33m\u001b[0m\u001b[0m\n\u001b[1;32m-> 1149\u001b[1;33m         \u001b[0mevaluate_candidates\u001b[0m\u001b[1;33m(\u001b[0m\u001b[0mParameterGrid\u001b[0m\u001b[1;33m(\u001b[0m\u001b[0mself\u001b[0m\u001b[1;33m.\u001b[0m\u001b[0mparam_grid\u001b[0m\u001b[1;33m)\u001b[0m\u001b[1;33m)\u001b[0m\u001b[1;33m\u001b[0m\u001b[1;33m\u001b[0m\u001b[0m\n\u001b[0m\u001b[0;32m   1150\u001b[0m \u001b[1;33m\u001b[0m\u001b[0m\n\u001b[0;32m   1151\u001b[0m \u001b[1;33m\u001b[0m\u001b[0m\n",
      "\u001b[1;32m~\\Anaconda3\\lib\\site-packages\\sklearn\\model_selection\\_search.py\u001b[0m in \u001b[0;36mevaluate_candidates\u001b[1;34m(candidate_params)\u001b[0m\n\u001b[0;32m    665\u001b[0m                                \u001b[1;32mfor\u001b[0m \u001b[0mparameters\u001b[0m\u001b[1;33m,\u001b[0m \u001b[1;33m(\u001b[0m\u001b[0mtrain\u001b[0m\u001b[1;33m,\u001b[0m \u001b[0mtest\u001b[0m\u001b[1;33m)\u001b[0m\u001b[1;33m\u001b[0m\u001b[1;33m\u001b[0m\u001b[0m\n\u001b[0;32m    666\u001b[0m                                in product(candidate_params,\n\u001b[1;32m--> 667\u001b[1;33m                                           cv.split(X, y, groups)))\n\u001b[0m\u001b[0;32m    668\u001b[0m \u001b[1;33m\u001b[0m\u001b[0m\n\u001b[0;32m    669\u001b[0m                 \u001b[1;32mif\u001b[0m \u001b[0mlen\u001b[0m\u001b[1;33m(\u001b[0m\u001b[0mout\u001b[0m\u001b[1;33m)\u001b[0m \u001b[1;33m<\u001b[0m \u001b[1;36m1\u001b[0m\u001b[1;33m:\u001b[0m\u001b[1;33m\u001b[0m\u001b[1;33m\u001b[0m\u001b[0m\n",
      "\u001b[1;32m~\\Anaconda3\\lib\\site-packages\\joblib\\parallel.py\u001b[0m in \u001b[0;36m__call__\u001b[1;34m(self, iterable)\u001b[0m\n\u001b[0;32m    919\u001b[0m             \u001b[1;31m# remaining jobs.\u001b[0m\u001b[1;33m\u001b[0m\u001b[1;33m\u001b[0m\u001b[1;33m\u001b[0m\u001b[0m\n\u001b[0;32m    920\u001b[0m             \u001b[0mself\u001b[0m\u001b[1;33m.\u001b[0m\u001b[0m_iterating\u001b[0m \u001b[1;33m=\u001b[0m \u001b[1;32mFalse\u001b[0m\u001b[1;33m\u001b[0m\u001b[1;33m\u001b[0m\u001b[0m\n\u001b[1;32m--> 921\u001b[1;33m             \u001b[1;32mif\u001b[0m \u001b[0mself\u001b[0m\u001b[1;33m.\u001b[0m\u001b[0mdispatch_one_batch\u001b[0m\u001b[1;33m(\u001b[0m\u001b[0miterator\u001b[0m\u001b[1;33m)\u001b[0m\u001b[1;33m:\u001b[0m\u001b[1;33m\u001b[0m\u001b[1;33m\u001b[0m\u001b[0m\n\u001b[0m\u001b[0;32m    922\u001b[0m                 \u001b[0mself\u001b[0m\u001b[1;33m.\u001b[0m\u001b[0m_iterating\u001b[0m \u001b[1;33m=\u001b[0m \u001b[0mself\u001b[0m\u001b[1;33m.\u001b[0m\u001b[0m_original_iterator\u001b[0m \u001b[1;32mis\u001b[0m \u001b[1;32mnot\u001b[0m \u001b[1;32mNone\u001b[0m\u001b[1;33m\u001b[0m\u001b[1;33m\u001b[0m\u001b[0m\n\u001b[0;32m    923\u001b[0m \u001b[1;33m\u001b[0m\u001b[0m\n",
      "\u001b[1;32m~\\Anaconda3\\lib\\site-packages\\joblib\\parallel.py\u001b[0m in \u001b[0;36mdispatch_one_batch\u001b[1;34m(self, iterator)\u001b[0m\n\u001b[0;32m    757\u001b[0m                 \u001b[1;32mreturn\u001b[0m \u001b[1;32mFalse\u001b[0m\u001b[1;33m\u001b[0m\u001b[1;33m\u001b[0m\u001b[0m\n\u001b[0;32m    758\u001b[0m             \u001b[1;32melse\u001b[0m\u001b[1;33m:\u001b[0m\u001b[1;33m\u001b[0m\u001b[1;33m\u001b[0m\u001b[0m\n\u001b[1;32m--> 759\u001b[1;33m                 \u001b[0mself\u001b[0m\u001b[1;33m.\u001b[0m\u001b[0m_dispatch\u001b[0m\u001b[1;33m(\u001b[0m\u001b[0mtasks\u001b[0m\u001b[1;33m)\u001b[0m\u001b[1;33m\u001b[0m\u001b[1;33m\u001b[0m\u001b[0m\n\u001b[0m\u001b[0;32m    760\u001b[0m                 \u001b[1;32mreturn\u001b[0m \u001b[1;32mTrue\u001b[0m\u001b[1;33m\u001b[0m\u001b[1;33m\u001b[0m\u001b[0m\n\u001b[0;32m    761\u001b[0m \u001b[1;33m\u001b[0m\u001b[0m\n",
      "\u001b[1;32m~\\Anaconda3\\lib\\site-packages\\joblib\\parallel.py\u001b[0m in \u001b[0;36m_dispatch\u001b[1;34m(self, batch)\u001b[0m\n\u001b[0;32m    714\u001b[0m         \u001b[1;32mwith\u001b[0m \u001b[0mself\u001b[0m\u001b[1;33m.\u001b[0m\u001b[0m_lock\u001b[0m\u001b[1;33m:\u001b[0m\u001b[1;33m\u001b[0m\u001b[1;33m\u001b[0m\u001b[0m\n\u001b[0;32m    715\u001b[0m             \u001b[0mjob_idx\u001b[0m \u001b[1;33m=\u001b[0m \u001b[0mlen\u001b[0m\u001b[1;33m(\u001b[0m\u001b[0mself\u001b[0m\u001b[1;33m.\u001b[0m\u001b[0m_jobs\u001b[0m\u001b[1;33m)\u001b[0m\u001b[1;33m\u001b[0m\u001b[1;33m\u001b[0m\u001b[0m\n\u001b[1;32m--> 716\u001b[1;33m             \u001b[0mjob\u001b[0m \u001b[1;33m=\u001b[0m \u001b[0mself\u001b[0m\u001b[1;33m.\u001b[0m\u001b[0m_backend\u001b[0m\u001b[1;33m.\u001b[0m\u001b[0mapply_async\u001b[0m\u001b[1;33m(\u001b[0m\u001b[0mbatch\u001b[0m\u001b[1;33m,\u001b[0m \u001b[0mcallback\u001b[0m\u001b[1;33m=\u001b[0m\u001b[0mcb\u001b[0m\u001b[1;33m)\u001b[0m\u001b[1;33m\u001b[0m\u001b[1;33m\u001b[0m\u001b[0m\n\u001b[0m\u001b[0;32m    717\u001b[0m             \u001b[1;31m# A job can complete so quickly than its callback is\u001b[0m\u001b[1;33m\u001b[0m\u001b[1;33m\u001b[0m\u001b[1;33m\u001b[0m\u001b[0m\n\u001b[0;32m    718\u001b[0m             \u001b[1;31m# called before we get here, causing self._jobs to\u001b[0m\u001b[1;33m\u001b[0m\u001b[1;33m\u001b[0m\u001b[1;33m\u001b[0m\u001b[0m\n",
      "\u001b[1;32m~\\Anaconda3\\lib\\site-packages\\joblib\\_parallel_backends.py\u001b[0m in \u001b[0;36mapply_async\u001b[1;34m(self, func, callback)\u001b[0m\n\u001b[0;32m    180\u001b[0m     \u001b[1;32mdef\u001b[0m \u001b[0mapply_async\u001b[0m\u001b[1;33m(\u001b[0m\u001b[0mself\u001b[0m\u001b[1;33m,\u001b[0m \u001b[0mfunc\u001b[0m\u001b[1;33m,\u001b[0m \u001b[0mcallback\u001b[0m\u001b[1;33m=\u001b[0m\u001b[1;32mNone\u001b[0m\u001b[1;33m)\u001b[0m\u001b[1;33m:\u001b[0m\u001b[1;33m\u001b[0m\u001b[1;33m\u001b[0m\u001b[0m\n\u001b[0;32m    181\u001b[0m         \u001b[1;34m\"\"\"Schedule a func to be run\"\"\"\u001b[0m\u001b[1;33m\u001b[0m\u001b[1;33m\u001b[0m\u001b[0m\n\u001b[1;32m--> 182\u001b[1;33m         \u001b[0mresult\u001b[0m \u001b[1;33m=\u001b[0m \u001b[0mImmediateResult\u001b[0m\u001b[1;33m(\u001b[0m\u001b[0mfunc\u001b[0m\u001b[1;33m)\u001b[0m\u001b[1;33m\u001b[0m\u001b[1;33m\u001b[0m\u001b[0m\n\u001b[0m\u001b[0;32m    183\u001b[0m         \u001b[1;32mif\u001b[0m \u001b[0mcallback\u001b[0m\u001b[1;33m:\u001b[0m\u001b[1;33m\u001b[0m\u001b[1;33m\u001b[0m\u001b[0m\n\u001b[0;32m    184\u001b[0m             \u001b[0mcallback\u001b[0m\u001b[1;33m(\u001b[0m\u001b[0mresult\u001b[0m\u001b[1;33m)\u001b[0m\u001b[1;33m\u001b[0m\u001b[1;33m\u001b[0m\u001b[0m\n",
      "\u001b[1;32m~\\Anaconda3\\lib\\site-packages\\joblib\\_parallel_backends.py\u001b[0m in \u001b[0;36m__init__\u001b[1;34m(self, batch)\u001b[0m\n\u001b[0;32m    547\u001b[0m         \u001b[1;31m# Don't delay the application, to avoid keeping the input\u001b[0m\u001b[1;33m\u001b[0m\u001b[1;33m\u001b[0m\u001b[1;33m\u001b[0m\u001b[0m\n\u001b[0;32m    548\u001b[0m         \u001b[1;31m# arguments in memory\u001b[0m\u001b[1;33m\u001b[0m\u001b[1;33m\u001b[0m\u001b[1;33m\u001b[0m\u001b[0m\n\u001b[1;32m--> 549\u001b[1;33m         \u001b[0mself\u001b[0m\u001b[1;33m.\u001b[0m\u001b[0mresults\u001b[0m \u001b[1;33m=\u001b[0m \u001b[0mbatch\u001b[0m\u001b[1;33m(\u001b[0m\u001b[1;33m)\u001b[0m\u001b[1;33m\u001b[0m\u001b[1;33m\u001b[0m\u001b[0m\n\u001b[0m\u001b[0;32m    550\u001b[0m \u001b[1;33m\u001b[0m\u001b[0m\n\u001b[0;32m    551\u001b[0m     \u001b[1;32mdef\u001b[0m \u001b[0mget\u001b[0m\u001b[1;33m(\u001b[0m\u001b[0mself\u001b[0m\u001b[1;33m)\u001b[0m\u001b[1;33m:\u001b[0m\u001b[1;33m\u001b[0m\u001b[1;33m\u001b[0m\u001b[0m\n",
      "\u001b[1;32m~\\Anaconda3\\lib\\site-packages\\joblib\\parallel.py\u001b[0m in \u001b[0;36m__call__\u001b[1;34m(self)\u001b[0m\n\u001b[0;32m    223\u001b[0m         \u001b[1;32mwith\u001b[0m \u001b[0mparallel_backend\u001b[0m\u001b[1;33m(\u001b[0m\u001b[0mself\u001b[0m\u001b[1;33m.\u001b[0m\u001b[0m_backend\u001b[0m\u001b[1;33m,\u001b[0m \u001b[0mn_jobs\u001b[0m\u001b[1;33m=\u001b[0m\u001b[0mself\u001b[0m\u001b[1;33m.\u001b[0m\u001b[0m_n_jobs\u001b[0m\u001b[1;33m)\u001b[0m\u001b[1;33m:\u001b[0m\u001b[1;33m\u001b[0m\u001b[1;33m\u001b[0m\u001b[0m\n\u001b[0;32m    224\u001b[0m             return [func(*args, **kwargs)\n\u001b[1;32m--> 225\u001b[1;33m                     for func, args, kwargs in self.items]\n\u001b[0m\u001b[0;32m    226\u001b[0m \u001b[1;33m\u001b[0m\u001b[0m\n\u001b[0;32m    227\u001b[0m     \u001b[1;32mdef\u001b[0m \u001b[0m__len__\u001b[0m\u001b[1;33m(\u001b[0m\u001b[0mself\u001b[0m\u001b[1;33m)\u001b[0m\u001b[1;33m:\u001b[0m\u001b[1;33m\u001b[0m\u001b[1;33m\u001b[0m\u001b[0m\n",
      "\u001b[1;32m~\\Anaconda3\\lib\\site-packages\\joblib\\parallel.py\u001b[0m in \u001b[0;36m<listcomp>\u001b[1;34m(.0)\u001b[0m\n\u001b[0;32m    223\u001b[0m         \u001b[1;32mwith\u001b[0m \u001b[0mparallel_backend\u001b[0m\u001b[1;33m(\u001b[0m\u001b[0mself\u001b[0m\u001b[1;33m.\u001b[0m\u001b[0m_backend\u001b[0m\u001b[1;33m,\u001b[0m \u001b[0mn_jobs\u001b[0m\u001b[1;33m=\u001b[0m\u001b[0mself\u001b[0m\u001b[1;33m.\u001b[0m\u001b[0m_n_jobs\u001b[0m\u001b[1;33m)\u001b[0m\u001b[1;33m:\u001b[0m\u001b[1;33m\u001b[0m\u001b[1;33m\u001b[0m\u001b[0m\n\u001b[0;32m    224\u001b[0m             return [func(*args, **kwargs)\n\u001b[1;32m--> 225\u001b[1;33m                     for func, args, kwargs in self.items]\n\u001b[0m\u001b[0;32m    226\u001b[0m \u001b[1;33m\u001b[0m\u001b[0m\n\u001b[0;32m    227\u001b[0m     \u001b[1;32mdef\u001b[0m \u001b[0m__len__\u001b[0m\u001b[1;33m(\u001b[0m\u001b[0mself\u001b[0m\u001b[1;33m)\u001b[0m\u001b[1;33m:\u001b[0m\u001b[1;33m\u001b[0m\u001b[1;33m\u001b[0m\u001b[0m\n",
      "\u001b[1;32m~\\Anaconda3\\lib\\site-packages\\sklearn\\model_selection\\_validation.py\u001b[0m in \u001b[0;36m_fit_and_score\u001b[1;34m(estimator, X, y, scorer, train, test, verbose, parameters, fit_params, return_train_score, return_parameters, return_n_test_samples, return_times, return_estimator, error_score)\u001b[0m\n\u001b[0;32m    501\u001b[0m     \u001b[0mtrain_scores\u001b[0m \u001b[1;33m=\u001b[0m \u001b[1;33m{\u001b[0m\u001b[1;33m}\u001b[0m\u001b[1;33m\u001b[0m\u001b[1;33m\u001b[0m\u001b[0m\n\u001b[0;32m    502\u001b[0m     \u001b[1;32mif\u001b[0m \u001b[0mparameters\u001b[0m \u001b[1;32mis\u001b[0m \u001b[1;32mnot\u001b[0m \u001b[1;32mNone\u001b[0m\u001b[1;33m:\u001b[0m\u001b[1;33m\u001b[0m\u001b[1;33m\u001b[0m\u001b[0m\n\u001b[1;32m--> 503\u001b[1;33m         \u001b[0mestimator\u001b[0m\u001b[1;33m.\u001b[0m\u001b[0mset_params\u001b[0m\u001b[1;33m(\u001b[0m\u001b[1;33m**\u001b[0m\u001b[0mparameters\u001b[0m\u001b[1;33m)\u001b[0m\u001b[1;33m\u001b[0m\u001b[1;33m\u001b[0m\u001b[0m\n\u001b[0m\u001b[0;32m    504\u001b[0m \u001b[1;33m\u001b[0m\u001b[0m\n\u001b[0;32m    505\u001b[0m     \u001b[0mstart_time\u001b[0m \u001b[1;33m=\u001b[0m \u001b[0mtime\u001b[0m\u001b[1;33m.\u001b[0m\u001b[0mtime\u001b[0m\u001b[1;33m(\u001b[0m\u001b[1;33m)\u001b[0m\u001b[1;33m\u001b[0m\u001b[1;33m\u001b[0m\u001b[0m\n",
      "\u001b[1;32m~\\Anaconda3\\lib\\site-packages\\sklearn\\pipeline.py\u001b[0m in \u001b[0;36mset_params\u001b[1;34m(self, **kwargs)\u001b[0m\n\u001b[0;32m    162\u001b[0m         \u001b[0mself\u001b[0m\u001b[1;33m\u001b[0m\u001b[1;33m\u001b[0m\u001b[0m\n\u001b[0;32m    163\u001b[0m         \"\"\"\n\u001b[1;32m--> 164\u001b[1;33m         \u001b[0mself\u001b[0m\u001b[1;33m.\u001b[0m\u001b[0m_set_params\u001b[0m\u001b[1;33m(\u001b[0m\u001b[1;34m'steps'\u001b[0m\u001b[1;33m,\u001b[0m \u001b[1;33m**\u001b[0m\u001b[0mkwargs\u001b[0m\u001b[1;33m)\u001b[0m\u001b[1;33m\u001b[0m\u001b[1;33m\u001b[0m\u001b[0m\n\u001b[0m\u001b[0;32m    165\u001b[0m         \u001b[1;32mreturn\u001b[0m \u001b[0mself\u001b[0m\u001b[1;33m\u001b[0m\u001b[1;33m\u001b[0m\u001b[0m\n\u001b[0;32m    166\u001b[0m \u001b[1;33m\u001b[0m\u001b[0m\n",
      "\u001b[1;32m~\\Anaconda3\\lib\\site-packages\\sklearn\\utils\\metaestimators.py\u001b[0m in \u001b[0;36m_set_params\u001b[1;34m(self, attr, **params)\u001b[0m\n\u001b[0;32m     48\u001b[0m                 \u001b[0mself\u001b[0m\u001b[1;33m.\u001b[0m\u001b[0m_replace_estimator\u001b[0m\u001b[1;33m(\u001b[0m\u001b[0mattr\u001b[0m\u001b[1;33m,\u001b[0m \u001b[0mname\u001b[0m\u001b[1;33m,\u001b[0m \u001b[0mparams\u001b[0m\u001b[1;33m.\u001b[0m\u001b[0mpop\u001b[0m\u001b[1;33m(\u001b[0m\u001b[0mname\u001b[0m\u001b[1;33m)\u001b[0m\u001b[1;33m)\u001b[0m\u001b[1;33m\u001b[0m\u001b[1;33m\u001b[0m\u001b[0m\n\u001b[0;32m     49\u001b[0m         \u001b[1;31m# 3. Step parameters and other initialisation arguments\u001b[0m\u001b[1;33m\u001b[0m\u001b[1;33m\u001b[0m\u001b[1;33m\u001b[0m\u001b[0m\n\u001b[1;32m---> 50\u001b[1;33m         \u001b[0msuper\u001b[0m\u001b[1;33m(\u001b[0m\u001b[1;33m)\u001b[0m\u001b[1;33m.\u001b[0m\u001b[0mset_params\u001b[0m\u001b[1;33m(\u001b[0m\u001b[1;33m**\u001b[0m\u001b[0mparams\u001b[0m\u001b[1;33m)\u001b[0m\u001b[1;33m\u001b[0m\u001b[1;33m\u001b[0m\u001b[0m\n\u001b[0m\u001b[0;32m     51\u001b[0m         \u001b[1;32mreturn\u001b[0m \u001b[0mself\u001b[0m\u001b[1;33m\u001b[0m\u001b[1;33m\u001b[0m\u001b[0m\n\u001b[0;32m     52\u001b[0m \u001b[1;33m\u001b[0m\u001b[0m\n",
      "\u001b[1;32m~\\Anaconda3\\lib\\site-packages\\sklearn\\base.py\u001b[0m in \u001b[0;36mset_params\u001b[1;34m(self, **params)\u001b[0m\n\u001b[0;32m    222\u001b[0m                                  \u001b[1;34m'Check the list of available parameters '\u001b[0m\u001b[1;33m\u001b[0m\u001b[1;33m\u001b[0m\u001b[0m\n\u001b[0;32m    223\u001b[0m                                  \u001b[1;34m'with `estimator.get_params().keys()`.'\u001b[0m \u001b[1;33m%\u001b[0m\u001b[1;33m\u001b[0m\u001b[1;33m\u001b[0m\u001b[0m\n\u001b[1;32m--> 224\u001b[1;33m                                  (key, self))\n\u001b[0m\u001b[0;32m    225\u001b[0m \u001b[1;33m\u001b[0m\u001b[0m\n\u001b[0;32m    226\u001b[0m             \u001b[1;32mif\u001b[0m \u001b[0mdelim\u001b[0m\u001b[1;33m:\u001b[0m\u001b[1;33m\u001b[0m\u001b[1;33m\u001b[0m\u001b[0m\n",
      "\u001b[1;31mValueError\u001b[0m: Invalid parameter n_neighbors for estimator Pipeline(memory=None,\n         steps=[('ss',\n                 StandardScaler(copy=True, with_mean=True, with_std=True)),\n                ('knn',\n                 KNeighborsClassifier(algorithm='auto', leaf_size=30,\n                                      metric='minkowski', metric_params=None,\n                                      n_jobs=None, n_neighbors=5, p=2,\n                                      weights='uniform'))],\n         verbose=False). Check the list of available parameters with `estimator.get_params().keys()`."
     ]
    }
   ],
   "source": [
    "# Error\n",
    "grid2.fit(iris.iloc[:,:-1], iris.target)"
   ]
  },
  {
   "cell_type": "markdown",
   "metadata": {},
   "source": [
    "> - 에러가 나는 이유는 이름 때문이다.\n",
    "    - `Pipleline`의 docstring을 보면 \\\"\\_\\_\\\"를 구분자로 넣으라는 말이 있다.\n",
    "        - The purpose of the pipeline is to assemble several steps that can be\n",
    "cross-validated together while setting different parameters.\n",
    "For this, it enables setting parameters of the various steps using their\n",
    "names and the parameter name separated by a \\'\\_\\_\\'"
   ]
  },
  {
   "cell_type": "code",
   "execution_count": 45,
   "metadata": {},
   "outputs": [],
   "source": [
    "grid3 = GridSearchCV(pipe, {\"knn__n_neighbors\":[i for i in range(2,19)]}, cv=10)"
   ]
  },
  {
   "cell_type": "markdown",
   "metadata": {},
   "source": [
    "> - 모델 이름은 Pipeline 만들 때 썼던 모델 이름을 써야한다.\n",
    "- `__`를 이용해서 모델 이름과 파라미터 이름을 구분한다."
   ]
  },
  {
   "cell_type": "code",
   "execution_count": 46,
   "metadata": {},
   "outputs": [
    {
     "data": {
      "text/plain": [
       "GridSearchCV(cv=10, error_score='raise-deprecating',\n",
       "             estimator=Pipeline(memory=None,\n",
       "                                steps=[('ss',\n",
       "                                        StandardScaler(copy=True,\n",
       "                                                       with_mean=True,\n",
       "                                                       with_std=True)),\n",
       "                                       ('knn',\n",
       "                                        KNeighborsClassifier(algorithm='auto',\n",
       "                                                             leaf_size=30,\n",
       "                                                             metric='minkowski',\n",
       "                                                             metric_params=None,\n",
       "                                                             n_jobs=None,\n",
       "                                                             n_neighbors=5, p=2,\n",
       "                                                             weights='uniform'))],\n",
       "                                verbose=False),\n",
       "             iid='warn', n_jobs=None,\n",
       "             param_grid={'knn__n_neighbors': [2, 3, 4, 5, 6, 7, 8, 9, 10, 11,\n",
       "                                              12, 13, 14, 15, 16, 17, 18]},\n",
       "             pre_dispatch='2*n_jobs', refit=True, return_train_score=False,\n",
       "             scoring=None, verbose=0)"
      ]
     },
     "execution_count": 46,
     "metadata": {},
     "output_type": "execute_result"
    }
   ],
   "source": [
    "# scikit은 언제나 fit!\n",
    "\n",
    "grid3.fit(iris.iloc[:,:-1], iris.target)"
   ]
  },
  {
   "cell_type": "markdown",
   "metadata": {},
   "source": [
    "> - 전처리 단계만 지정해주면 알아서 전처리가 적용되고, 전처리된 데이터에 대해서 하이퍼 파라미터도 찾아준다."
   ]
  },
  {
   "cell_type": "markdown",
   "metadata": {},
   "source": [
    "# 모델과 하이퍼파라미터를 동시에 찾는 꼼수!\n",
    "### GridSearchCV + Pipeline + Dummy\n",
    "- 원래 GridSearchCV는 하이퍼 파라미터를 찾는 용도이기 때문에 적합한 모델을 찾는 용도로 쓸 수 없다.\n",
    "- 꼼수를 통해서 GridSearchCV가 grid를 그려서 하이퍼파라미터 찾듯이 모델도 grid를 그려서 찾게할 수 있다."
   ]
  },
  {
   "cell_type": "code",
   "execution_count": 47,
   "metadata": {},
   "outputs": [],
   "source": [
    "from sklearn.dummy import DummyClassifier"
   ]
  },
  {
   "cell_type": "code",
   "execution_count": 48,
   "metadata": {},
   "outputs": [],
   "source": [
    "dummy = DummyClassifier()"
   ]
  },
  {
   "cell_type": "markdown",
   "metadata": {},
   "source": [
    "> - dummy는 바보 estimator이다.\n",
    "- dummy는 사람처럼 대충 class가 나올 확률을 기반으로 때려맞춘다.\n",
    "    - 이 동네에서 dummy(바보)란 사람을 뜻함..."
   ]
  },
  {
   "cell_type": "code",
   "execution_count": 71,
   "metadata": {},
   "outputs": [],
   "source": [
    "pipe2 = Pipeline([(\"clf\", DummyClassifier())])"
   ]
  },
  {
   "cell_type": "markdown",
   "metadata": {},
   "source": [
    "> - DummyClassifier로 Pipeline을 만든다.\n",
    "- clf는 classifier의 약자이다."
   ]
  },
  {
   "cell_type": "code",
   "execution_count": 72,
   "metadata": {},
   "outputs": [
    {
     "data": {
      "text/plain": [
       "{'memory': None,\n",
       " 'steps': [('clf',\n",
       "   DummyClassifier(constant=None, random_state=None, strategy='stratified'))],\n",
       " 'verbose': False,\n",
       " 'clf': DummyClassifier(constant=None, random_state=None, strategy='stratified'),\n",
       " 'clf__constant': None,\n",
       " 'clf__random_state': None,\n",
       " 'clf__strategy': 'stratified'}"
      ]
     },
     "execution_count": 72,
     "metadata": {},
     "output_type": "execute_result"
    }
   ],
   "source": [
    "pipe2.get_params()"
   ]
  },
  {
   "cell_type": "markdown",
   "metadata": {},
   "source": [
    "> - pipeline의 parmas를 보면 clf라는 이름의 파라미터에 Dummyclassifier가 있다.\n",
    "- 이걸 이용해서 꼼수를 부릴 수 있다.\n",
    "- `clf`라는 파라미터를 grid search 시키는 것이다."
   ]
  },
  {
   "cell_type": "code",
   "execution_count": 73,
   "metadata": {},
   "outputs": [],
   "source": [
    "grid4 = GridSearchCV(pipe2, [\n",
    "    {\"clf\":[DummyClassifier()], \"clf__strategy\":[\"stratified\", \"most_frequent\"]},\n",
    "    {\"clf\":[KNeighborsClassifier()], \"clf__n_neighbors\":[i for i in range(2,10)]}\n",
    "])"
   ]
  },
  {
   "cell_type": "markdown",
   "metadata": {},
   "source": [
    "> - clf가 파라미터인양 넣고 value에 해당하는 list에는 알고리즘을 넣었다.\n",
    "- `param_grid`옵션을 list로 했을 때는 list 안의 dictionary만 개별적으로 탐색한다.\n",
    "    - 파라미터 grid는 같은 dictionary 안에서만 그려진다.\n",
    "- GridSearchCV가 처음에 돌때는 DummyClassifer를 clf로 하고 clf_strategy를 바꿔가며 grid search한다.\n",
    "- 그 다음 clf를 KNeighborsClassifier로 하고 clf__n_neighbors를 바꿔가며 grid search한다."
   ]
  },
  {
   "cell_type": "code",
   "execution_count": 74,
   "metadata": {},
   "outputs": [
    {
     "data": {
      "text/plain": [
       "{'cv': 'warn',\n",
       " 'error_score': 'raise-deprecating',\n",
       " 'estimator__memory': None,\n",
       " 'estimator__steps': [('clf',\n",
       "   DummyClassifier(constant=None, random_state=None, strategy='stratified'))],\n",
       " 'estimator__verbose': False,\n",
       " 'estimator__clf': DummyClassifier(constant=None, random_state=None, strategy='stratified'),\n",
       " 'estimator__clf__constant': None,\n",
       " 'estimator__clf__random_state': None,\n",
       " 'estimator__clf__strategy': 'stratified',\n",
       " 'estimator': Pipeline(memory=None,\n",
       "          steps=[('clf',\n",
       "                  DummyClassifier(constant=None, random_state=None,\n",
       "                                  strategy='stratified'))],\n",
       "          verbose=False),\n",
       " 'iid': 'warn',\n",
       " 'n_jobs': None,\n",
       " 'param_grid': [{'clf': [DummyClassifier(constant=None, random_state=None, strategy='stratified')],\n",
       "   'clf__strategy': ['stratified', 'most_frequent']},\n",
       "  {'clf': [KNeighborsClassifier(algorithm='auto', leaf_size=30, metric='minkowski',\n",
       "                         metric_params=None, n_jobs=None, n_neighbors=5, p=2,\n",
       "                         weights='uniform')],\n",
       "   'clf__n_neighbors': [2, 3, 4, 5, 6, 7, 8, 9]}],\n",
       " 'pre_dispatch': '2*n_jobs',\n",
       " 'refit': True,\n",
       " 'return_train_score': False,\n",
       " 'scoring': None,\n",
       " 'verbose': 0}"
      ]
     },
     "execution_count": 74,
     "metadata": {},
     "output_type": "execute_result"
    }
   ],
   "source": [
    "grid4.get_params()"
   ]
  },
  {
   "cell_type": "markdown",
   "metadata": {},
   "source": [
    "> - 파라미터가 어떻게 저장되었나 보자.\n",
    "- 큰 의미는 없다."
   ]
  },
  {
   "cell_type": "code",
   "execution_count": 61,
   "metadata": {},
   "outputs": [
    {
     "name": "stderr",
     "output_type": "stream",
     "text": [
      "C:\\Users\\JINHYO\\Anaconda3\\lib\\site-packages\\sklearn\\model_selection\\_split.py:1978: FutureWarning: The default value of cv will change from 3 to 5 in version 0.22. Specify it explicitly to silence this warning.\n",
      "  warnings.warn(CV_WARNING, FutureWarning)\n",
      "C:\\Users\\JINHYO\\Anaconda3\\lib\\site-packages\\sklearn\\model_selection\\_search.py:814: DeprecationWarning: The default of the `iid` parameter will change from True to False in version 0.22 and will be removed in 0.24. This will change numeric results when test-set sizes are unequal.\n",
      "  DeprecationWarning)\n"
     ]
    },
    {
     "data": {
      "text/plain": [
       "GridSearchCV(cv='warn', error_score='raise-deprecating',\n",
       "             estimator=Pipeline(memory=None,\n",
       "                                steps=[('clf',\n",
       "                                        DummyClassifier(constant=None,\n",
       "                                                        random_state=None,\n",
       "                                                        strategy='stratified'))],\n",
       "                                verbose=False),\n",
       "             iid='warn', n_jobs=None,\n",
       "             param_grid=[{'clf': [DummyClassifier(constant=None,\n",
       "                                                  random_state=None,\n",
       "                                                  strategy='most_frequent')],\n",
       "                          'clf__strategy': ['stratified', 'most_frequent']},\n",
       "                         {'clf': [KNeighborsClassifier(algorithm='auto',\n",
       "                                                       leaf_size=30,\n",
       "                                                       metric='minkowski',\n",
       "                                                       metric_params=None,\n",
       "                                                       n_jobs=None,\n",
       "                                                       n_neighbors=5, p=2,\n",
       "                                                       weights='uniform')],\n",
       "                          'clf__n_neighbors': [2, 3, 4, 5, 6, 7, 8, 9]}],\n",
       "             pre_dispatch='2*n_jobs', refit=True, return_train_score=False,\n",
       "             scoring=None, verbose=0)"
      ]
     },
     "execution_count": 61,
     "metadata": {},
     "output_type": "execute_result"
    }
   ],
   "source": [
    "grid4.fit(iris.iloc[:,:-1], iris.target)"
   ]
  },
  {
   "cell_type": "code",
   "execution_count": 62,
   "metadata": {},
   "outputs": [
    {
     "data": {
      "text/html": [
       "<div>\n",
       "<style scoped>\n",
       "    .dataframe tbody tr th:only-of-type {\n",
       "        vertical-align: middle;\n",
       "    }\n",
       "\n",
       "    .dataframe tbody tr th {\n",
       "        vertical-align: top;\n",
       "    }\n",
       "\n",
       "    .dataframe thead th {\n",
       "        text-align: right;\n",
       "    }\n",
       "</style>\n",
       "<table border=\"1\" class=\"dataframe\">\n",
       "  <thead>\n",
       "    <tr style=\"text-align: right;\">\n",
       "      <th></th>\n",
       "      <th>0</th>\n",
       "      <th>1</th>\n",
       "      <th>2</th>\n",
       "      <th>3</th>\n",
       "      <th>4</th>\n",
       "      <th>5</th>\n",
       "      <th>6</th>\n",
       "      <th>7</th>\n",
       "      <th>8</th>\n",
       "      <th>9</th>\n",
       "    </tr>\n",
       "  </thead>\n",
       "  <tbody>\n",
       "    <tr>\n",
       "      <th>mean_fit_time</th>\n",
       "      <td>0.00233444</td>\n",
       "      <td>0.00200025</td>\n",
       "      <td>0.00200176</td>\n",
       "      <td>0.00266719</td>\n",
       "      <td>0.00200057</td>\n",
       "      <td>0.00266687</td>\n",
       "      <td>0.00333381</td>\n",
       "      <td>0.00266584</td>\n",
       "      <td>0.00200065</td>\n",
       "      <td>0.00133292</td>\n",
       "    </tr>\n",
       "    <tr>\n",
       "      <th>std_fit_time</th>\n",
       "      <td>0.000472495</td>\n",
       "      <td>2.643e-06</td>\n",
       "      <td>2.57521e-06</td>\n",
       "      <td>0.000471881</td>\n",
       "      <td>7.78672e-07</td>\n",
       "      <td>0.000471314</td>\n",
       "      <td>0.000465142</td>\n",
       "      <td>0.00047126</td>\n",
       "      <td>7.86741e-07</td>\n",
       "      <td>0.000471764</td>\n",
       "    </tr>\n",
       "    <tr>\n",
       "      <th>mean_score_time</th>\n",
       "      <td>0.000667651</td>\n",
       "      <td>0.000332832</td>\n",
       "      <td>0.00366505</td>\n",
       "      <td>0.00256817</td>\n",
       "      <td>0.00400035</td>\n",
       "      <td>0.00500584</td>\n",
       "      <td>0.00432928</td>\n",
       "      <td>0.00333412</td>\n",
       "      <td>0.00366767</td>\n",
       "      <td>0.00266631</td>\n",
       "    </tr>\n",
       "    <tr>\n",
       "      <th>std_score_time</th>\n",
       "      <td>0.000472101</td>\n",
       "      <td>0.000470696</td>\n",
       "      <td>0.00169784</td>\n",
       "      <td>0.00041922</td>\n",
       "      <td>0.00141299</td>\n",
       "      <td>0.0014121</td>\n",
       "      <td>0.000944483</td>\n",
       "      <td>0.000470473</td>\n",
       "      <td>0.000473286</td>\n",
       "      <td>0.000471595</td>\n",
       "    </tr>\n",
       "    <tr>\n",
       "      <th>param_clf</th>\n",
       "      <td>DummyClassifier(constant=None, random_state=No...</td>\n",
       "      <td>DummyClassifier(constant=None, random_state=No...</td>\n",
       "      <td>KNeighborsClassifier(algorithm='auto', leaf_si...</td>\n",
       "      <td>KNeighborsClassifier(algorithm='auto', leaf_si...</td>\n",
       "      <td>KNeighborsClassifier(algorithm='auto', leaf_si...</td>\n",
       "      <td>KNeighborsClassifier(algorithm='auto', leaf_si...</td>\n",
       "      <td>KNeighborsClassifier(algorithm='auto', leaf_si...</td>\n",
       "      <td>KNeighborsClassifier(algorithm='auto', leaf_si...</td>\n",
       "      <td>KNeighborsClassifier(algorithm='auto', leaf_si...</td>\n",
       "      <td>KNeighborsClassifier(algorithm='auto', leaf_si...</td>\n",
       "    </tr>\n",
       "    <tr>\n",
       "      <th>param_clf__strategy</th>\n",
       "      <td>stratified</td>\n",
       "      <td>most_frequent</td>\n",
       "      <td>NaN</td>\n",
       "      <td>NaN</td>\n",
       "      <td>NaN</td>\n",
       "      <td>NaN</td>\n",
       "      <td>NaN</td>\n",
       "      <td>NaN</td>\n",
       "      <td>NaN</td>\n",
       "      <td>NaN</td>\n",
       "    </tr>\n",
       "    <tr>\n",
       "      <th>param_clf__n_neighbors</th>\n",
       "      <td>NaN</td>\n",
       "      <td>NaN</td>\n",
       "      <td>2</td>\n",
       "      <td>3</td>\n",
       "      <td>4</td>\n",
       "      <td>5</td>\n",
       "      <td>6</td>\n",
       "      <td>7</td>\n",
       "      <td>8</td>\n",
       "      <td>9</td>\n",
       "    </tr>\n",
       "    <tr>\n",
       "      <th>params</th>\n",
       "      <td>{'clf': DummyClassifier(constant=None, random_...</td>\n",
       "      <td>{'clf': DummyClassifier(constant=None, random_...</td>\n",
       "      <td>{'clf': KNeighborsClassifier(algorithm='auto',...</td>\n",
       "      <td>{'clf': KNeighborsClassifier(algorithm='auto',...</td>\n",
       "      <td>{'clf': KNeighborsClassifier(algorithm='auto',...</td>\n",
       "      <td>{'clf': KNeighborsClassifier(algorithm='auto',...</td>\n",
       "      <td>{'clf': KNeighborsClassifier(algorithm='auto',...</td>\n",
       "      <td>{'clf': KNeighborsClassifier(algorithm='auto',...</td>\n",
       "      <td>{'clf': KNeighborsClassifier(algorithm='auto',...</td>\n",
       "      <td>{'clf': KNeighborsClassifier(algorithm='auto',...</td>\n",
       "    </tr>\n",
       "    <tr>\n",
       "      <th>split0_test_score</th>\n",
       "      <td>0.294118</td>\n",
       "      <td>0.333333</td>\n",
       "      <td>0.960784</td>\n",
       "      <td>0.980392</td>\n",
       "      <td>0.980392</td>\n",
       "      <td>0.980392</td>\n",
       "      <td>0.980392</td>\n",
       "      <td>0.980392</td>\n",
       "      <td>0.980392</td>\n",
       "      <td>0.960784</td>\n",
       "    </tr>\n",
       "    <tr>\n",
       "      <th>split1_test_score</th>\n",
       "      <td>0.333333</td>\n",
       "      <td>0.333333</td>\n",
       "      <td>0.941176</td>\n",
       "      <td>0.960784</td>\n",
       "      <td>0.960784</td>\n",
       "      <td>0.980392</td>\n",
       "      <td>0.960784</td>\n",
       "      <td>0.960784</td>\n",
       "      <td>0.980392</td>\n",
       "      <td>0.980392</td>\n",
       "    </tr>\n",
       "    <tr>\n",
       "      <th>split2_test_score</th>\n",
       "      <td>0.333333</td>\n",
       "      <td>0.333333</td>\n",
       "      <td>0.958333</td>\n",
       "      <td>1</td>\n",
       "      <td>0.979167</td>\n",
       "      <td>1</td>\n",
       "      <td>0.979167</td>\n",
       "      <td>0.979167</td>\n",
       "      <td>0.979167</td>\n",
       "      <td>0.979167</td>\n",
       "    </tr>\n",
       "    <tr>\n",
       "      <th>mean_test_score</th>\n",
       "      <td>0.32</td>\n",
       "      <td>0.333333</td>\n",
       "      <td>0.953333</td>\n",
       "      <td>0.98</td>\n",
       "      <td>0.973333</td>\n",
       "      <td>0.986667</td>\n",
       "      <td>0.973333</td>\n",
       "      <td>0.973333</td>\n",
       "      <td>0.98</td>\n",
       "      <td>0.973333</td>\n",
       "    </tr>\n",
       "    <tr>\n",
       "      <th>std_test_score</th>\n",
       "      <td>0.0185768</td>\n",
       "      <td>0</td>\n",
       "      <td>0.00878204</td>\n",
       "      <td>0.0159247</td>\n",
       "      <td>0.00902067</td>\n",
       "      <td>0.00914659</td>\n",
       "      <td>0.00902067</td>\n",
       "      <td>0.00902067</td>\n",
       "      <td>0.000571662</td>\n",
       "      <td>0.00902067</td>\n",
       "    </tr>\n",
       "    <tr>\n",
       "      <th>rank_test_score</th>\n",
       "      <td>10</td>\n",
       "      <td>9</td>\n",
       "      <td>8</td>\n",
       "      <td>2</td>\n",
       "      <td>4</td>\n",
       "      <td>1</td>\n",
       "      <td>4</td>\n",
       "      <td>4</td>\n",
       "      <td>2</td>\n",
       "      <td>4</td>\n",
       "    </tr>\n",
       "  </tbody>\n",
       "</table>\n",
       "</div>"
      ],
      "text/plain": [
       "                                                                        0  \\\n",
       "mean_fit_time                                                  0.00233444   \n",
       "std_fit_time                                                  0.000472495   \n",
       "mean_score_time                                               0.000667651   \n",
       "std_score_time                                                0.000472101   \n",
       "param_clf               DummyClassifier(constant=None, random_state=No...   \n",
       "param_clf__strategy                                            stratified   \n",
       "param_clf__n_neighbors                                                NaN   \n",
       "params                  {'clf': DummyClassifier(constant=None, random_...   \n",
       "split0_test_score                                                0.294118   \n",
       "split1_test_score                                                0.333333   \n",
       "split2_test_score                                                0.333333   \n",
       "mean_test_score                                                      0.32   \n",
       "std_test_score                                                  0.0185768   \n",
       "rank_test_score                                                        10   \n",
       "\n",
       "                                                                        1  \\\n",
       "mean_fit_time                                                  0.00200025   \n",
       "std_fit_time                                                    2.643e-06   \n",
       "mean_score_time                                               0.000332832   \n",
       "std_score_time                                                0.000470696   \n",
       "param_clf               DummyClassifier(constant=None, random_state=No...   \n",
       "param_clf__strategy                                         most_frequent   \n",
       "param_clf__n_neighbors                                                NaN   \n",
       "params                  {'clf': DummyClassifier(constant=None, random_...   \n",
       "split0_test_score                                                0.333333   \n",
       "split1_test_score                                                0.333333   \n",
       "split2_test_score                                                0.333333   \n",
       "mean_test_score                                                  0.333333   \n",
       "std_test_score                                                          0   \n",
       "rank_test_score                                                         9   \n",
       "\n",
       "                                                                        2  \\\n",
       "mean_fit_time                                                  0.00200176   \n",
       "std_fit_time                                                  2.57521e-06   \n",
       "mean_score_time                                                0.00366505   \n",
       "std_score_time                                                 0.00169784   \n",
       "param_clf               KNeighborsClassifier(algorithm='auto', leaf_si...   \n",
       "param_clf__strategy                                                   NaN   \n",
       "param_clf__n_neighbors                                                  2   \n",
       "params                  {'clf': KNeighborsClassifier(algorithm='auto',...   \n",
       "split0_test_score                                                0.960784   \n",
       "split1_test_score                                                0.941176   \n",
       "split2_test_score                                                0.958333   \n",
       "mean_test_score                                                  0.953333   \n",
       "std_test_score                                                 0.00878204   \n",
       "rank_test_score                                                         8   \n",
       "\n",
       "                                                                        3  \\\n",
       "mean_fit_time                                                  0.00266719   \n",
       "std_fit_time                                                  0.000471881   \n",
       "mean_score_time                                                0.00256817   \n",
       "std_score_time                                                 0.00041922   \n",
       "param_clf               KNeighborsClassifier(algorithm='auto', leaf_si...   \n",
       "param_clf__strategy                                                   NaN   \n",
       "param_clf__n_neighbors                                                  3   \n",
       "params                  {'clf': KNeighborsClassifier(algorithm='auto',...   \n",
       "split0_test_score                                                0.980392   \n",
       "split1_test_score                                                0.960784   \n",
       "split2_test_score                                                       1   \n",
       "mean_test_score                                                      0.98   \n",
       "std_test_score                                                  0.0159247   \n",
       "rank_test_score                                                         2   \n",
       "\n",
       "                                                                        4  \\\n",
       "mean_fit_time                                                  0.00200057   \n",
       "std_fit_time                                                  7.78672e-07   \n",
       "mean_score_time                                                0.00400035   \n",
       "std_score_time                                                 0.00141299   \n",
       "param_clf               KNeighborsClassifier(algorithm='auto', leaf_si...   \n",
       "param_clf__strategy                                                   NaN   \n",
       "param_clf__n_neighbors                                                  4   \n",
       "params                  {'clf': KNeighborsClassifier(algorithm='auto',...   \n",
       "split0_test_score                                                0.980392   \n",
       "split1_test_score                                                0.960784   \n",
       "split2_test_score                                                0.979167   \n",
       "mean_test_score                                                  0.973333   \n",
       "std_test_score                                                 0.00902067   \n",
       "rank_test_score                                                         4   \n",
       "\n",
       "                                                                        5  \\\n",
       "mean_fit_time                                                  0.00266687   \n",
       "std_fit_time                                                  0.000471314   \n",
       "mean_score_time                                                0.00500584   \n",
       "std_score_time                                                  0.0014121   \n",
       "param_clf               KNeighborsClassifier(algorithm='auto', leaf_si...   \n",
       "param_clf__strategy                                                   NaN   \n",
       "param_clf__n_neighbors                                                  5   \n",
       "params                  {'clf': KNeighborsClassifier(algorithm='auto',...   \n",
       "split0_test_score                                                0.980392   \n",
       "split1_test_score                                                0.980392   \n",
       "split2_test_score                                                       1   \n",
       "mean_test_score                                                  0.986667   \n",
       "std_test_score                                                 0.00914659   \n",
       "rank_test_score                                                         1   \n",
       "\n",
       "                                                                        6  \\\n",
       "mean_fit_time                                                  0.00333381   \n",
       "std_fit_time                                                  0.000465142   \n",
       "mean_score_time                                                0.00432928   \n",
       "std_score_time                                                0.000944483   \n",
       "param_clf               KNeighborsClassifier(algorithm='auto', leaf_si...   \n",
       "param_clf__strategy                                                   NaN   \n",
       "param_clf__n_neighbors                                                  6   \n",
       "params                  {'clf': KNeighborsClassifier(algorithm='auto',...   \n",
       "split0_test_score                                                0.980392   \n",
       "split1_test_score                                                0.960784   \n",
       "split2_test_score                                                0.979167   \n",
       "mean_test_score                                                  0.973333   \n",
       "std_test_score                                                 0.00902067   \n",
       "rank_test_score                                                         4   \n",
       "\n",
       "                                                                        7  \\\n",
       "mean_fit_time                                                  0.00266584   \n",
       "std_fit_time                                                   0.00047126   \n",
       "mean_score_time                                                0.00333412   \n",
       "std_score_time                                                0.000470473   \n",
       "param_clf               KNeighborsClassifier(algorithm='auto', leaf_si...   \n",
       "param_clf__strategy                                                   NaN   \n",
       "param_clf__n_neighbors                                                  7   \n",
       "params                  {'clf': KNeighborsClassifier(algorithm='auto',...   \n",
       "split0_test_score                                                0.980392   \n",
       "split1_test_score                                                0.960784   \n",
       "split2_test_score                                                0.979167   \n",
       "mean_test_score                                                  0.973333   \n",
       "std_test_score                                                 0.00902067   \n",
       "rank_test_score                                                         4   \n",
       "\n",
       "                                                                        8  \\\n",
       "mean_fit_time                                                  0.00200065   \n",
       "std_fit_time                                                  7.86741e-07   \n",
       "mean_score_time                                                0.00366767   \n",
       "std_score_time                                                0.000473286   \n",
       "param_clf               KNeighborsClassifier(algorithm='auto', leaf_si...   \n",
       "param_clf__strategy                                                   NaN   \n",
       "param_clf__n_neighbors                                                  8   \n",
       "params                  {'clf': KNeighborsClassifier(algorithm='auto',...   \n",
       "split0_test_score                                                0.980392   \n",
       "split1_test_score                                                0.980392   \n",
       "split2_test_score                                                0.979167   \n",
       "mean_test_score                                                      0.98   \n",
       "std_test_score                                                0.000571662   \n",
       "rank_test_score                                                         2   \n",
       "\n",
       "                                                                        9  \n",
       "mean_fit_time                                                  0.00133292  \n",
       "std_fit_time                                                  0.000471764  \n",
       "mean_score_time                                                0.00266631  \n",
       "std_score_time                                                0.000471595  \n",
       "param_clf               KNeighborsClassifier(algorithm='auto', leaf_si...  \n",
       "param_clf__strategy                                                   NaN  \n",
       "param_clf__n_neighbors                                                  9  \n",
       "params                  {'clf': KNeighborsClassifier(algorithm='auto',...  \n",
       "split0_test_score                                                0.960784  \n",
       "split1_test_score                                                0.980392  \n",
       "split2_test_score                                                0.979167  \n",
       "mean_test_score                                                  0.973333  \n",
       "std_test_score                                                 0.00902067  \n",
       "rank_test_score                                                         4  "
      ]
     },
     "execution_count": 62,
     "metadata": {},
     "output_type": "execute_result"
    }
   ],
   "source": [
    "pd.DataFrame(grid4.cv_results_).T"
   ]
  },
  {
   "cell_type": "markdown",
   "metadata": {},
   "source": [
    "> - `cv_results_`의 param_clf를 보면 알고리즘을 바꿔가면서 search한 것을 알 수 있다."
   ]
  },
  {
   "cell_type": "markdown",
   "metadata": {},
   "source": [
    "---"
   ]
  },
  {
   "cell_type": "markdown",
   "metadata": {},
   "source": [
    "# TPOT\n",
    "- genetic algorithm(유전자 알고리즘)\n",
    "- population 기반으로 하이퍼파라미터 찾아준다\n",
    "- 단점: 극악의 속도..."
   ]
  },
  {
   "cell_type": "code",
   "execution_count": 76,
   "metadata": {},
   "outputs": [
    {
     "name": "stdout",
     "output_type": "stream",
     "text": [
      "Collecting tpot\n",
      "  Downloading https://files.pythonhosted.org/packages/a5/29/f38a5751276cd901bca8f04ca9a98569a9d4eacd3236bc19a0bf0c834f74/TPOT-0.11.0.tar.gz (896kB)\n",
      "Requirement already satisfied: numpy>=1.16.3 in c:\\users\\jinhyo\\anaconda3\\lib\\site-packages (from tpot) (1.17.3)\n",
      "Requirement already satisfied: scipy>=1.3.1 in c:\\users\\jinhyo\\anaconda3\\lib\\site-packages (from tpot) (1.3.1)\n",
      "Requirement already satisfied: scikit-learn>=0.21.0 in c:\\users\\jinhyo\\anaconda3\\lib\\site-packages (from tpot) (0.21.3)\n",
      "Collecting deap>=1.2\n",
      "  Downloading https://files.pythonhosted.org/packages/59/1a/830bdaae9b629f1b7627eec5d0c4845fad83206d087fa0d896392451e64e/deap-1.3.0-cp37-cp37m-win_amd64.whl (109kB)\n",
      "Collecting update_checker>=0.16\n",
      "  Downloading https://files.pythonhosted.org/packages/17/c9/ab11855af164d03be0ff4fddd4c46a5bd44799a9ecc1770e01a669c21168/update_checker-0.16-py2.py3-none-any.whl\n",
      "Requirement already satisfied: tqdm>=4.36.1 in c:\\users\\jinhyo\\anaconda3\\lib\\site-packages (from tpot) (4.36.1)\n",
      "Collecting stopit>=1.1.1\n",
      "  Downloading https://files.pythonhosted.org/packages/35/58/e8bb0b0fb05baf07bbac1450c447d753da65f9701f551dca79823ce15d50/stopit-1.1.2.tar.gz\n",
      "Requirement already satisfied: pandas>=0.24.2 in c:\\users\\jinhyo\\anaconda3\\lib\\site-packages (from tpot) (0.25.3)\n",
      "Requirement already satisfied: joblib>=0.13.2 in c:\\users\\jinhyo\\anaconda3\\lib\\site-packages (from tpot) (0.13.2)\n",
      "Requirement already satisfied: requests>=2.3.0 in c:\\users\\jinhyo\\anaconda3\\lib\\site-packages (from update_checker>=0.16->tpot) (2.22.0)\n",
      "Requirement already satisfied: pytz>=2017.2 in c:\\users\\jinhyo\\anaconda3\\lib\\site-packages (from pandas>=0.24.2->tpot) (2019.3)\n",
      "Requirement already satisfied: python-dateutil>=2.6.1 in c:\\users\\jinhyo\\anaconda3\\lib\\site-packages (from pandas>=0.24.2->tpot) (2.8.1)\n",
      "Requirement already satisfied: certifi>=2017.4.17 in c:\\users\\jinhyo\\anaconda3\\lib\\site-packages (from requests>=2.3.0->update_checker>=0.16->tpot) (2019.9.11)\n",
      "Requirement already satisfied: idna<2.9,>=2.5 in c:\\users\\jinhyo\\anaconda3\\lib\\site-packages (from requests>=2.3.0->update_checker>=0.16->tpot) (2.8)\n",
      "Requirement already satisfied: chardet<3.1.0,>=3.0.2 in c:\\users\\jinhyo\\anaconda3\\lib\\site-packages (from requests>=2.3.0->update_checker>=0.16->tpot) (3.0.4)\n",
      "Requirement already satisfied: urllib3!=1.25.0,!=1.25.1,<1.26,>=1.21.1 in c:\\users\\jinhyo\\anaconda3\\lib\\site-packages (from requests>=2.3.0->update_checker>=0.16->tpot) (1.24.2)\n",
      "Requirement already satisfied: six>=1.5 in c:\\users\\jinhyo\\anaconda3\\lib\\site-packages (from python-dateutil>=2.6.1->pandas>=0.24.2->tpot) (1.12.0)\n",
      "Building wheels for collected packages: tpot, stopit\n",
      "  Building wheel for tpot (setup.py): started\n",
      "  Building wheel for tpot (setup.py): finished with status 'done'\n",
      "  Created wheel for tpot: filename=TPOT-0.11.0-cp37-none-any.whl size=75689 sha256=61019fe356788762696c42ddfdd7b4b656aa7f3764f21acd307e9820c38b28e4\n",
      "  Stored in directory: C:\\Users\\JINHYO\\AppData\\Local\\pip\\Cache\\wheels\\5e\\79\\3b\\49ccea9a29f28d0cdecbca22d71515c23bf45e1e65bc925cb8\n",
      "  Building wheel for stopit (setup.py): started\n",
      "  Building wheel for stopit (setup.py): finished with status 'done'\n",
      "  Created wheel for stopit: filename=stopit-1.1.2-cp37-none-any.whl size=11961 sha256=9164e4496c897cea7f1b9f74a32067f43a995a76452ccdbcd8b1cdce9fd649c9\n",
      "  Stored in directory: C:\\Users\\JINHYO\\AppData\\Local\\pip\\Cache\\wheels\\3c\\85\\2b\\2580190404636bfc63e8de3dff629c03bb795021e1983a6cc7\n",
      "Successfully built tpot stopit\n",
      "Installing collected packages: deap, update-checker, stopit, tpot\n",
      "Successfully installed deap-1.3.0 stopit-1.1.2 tpot-0.11.0 update-checker-0.16\n"
     ]
    }
   ],
   "source": [
    "!pip install tpot"
   ]
  },
  {
   "cell_type": "code",
   "execution_count": 77,
   "metadata": {},
   "outputs": [],
   "source": [
    "from tpot import TPOTClassifier"
   ]
  },
  {
   "cell_type": "code",
   "execution_count": 79,
   "metadata": {},
   "outputs": [],
   "source": [
    "tp = TPOTClassifier()"
   ]
  },
  {
   "cell_type": "code",
   "execution_count": 80,
   "metadata": {},
   "outputs": [
    {
     "data": {
      "text/plain": [
       "{'config_dict': None,\n",
       " 'crossover_rate': 0.1,\n",
       " 'cv': 5,\n",
       " 'disable_update_check': False,\n",
       " 'early_stop': None,\n",
       " 'generations': 100,\n",
       " 'max_eval_time_mins': 5,\n",
       " 'max_time_mins': None,\n",
       " 'memory': None,\n",
       " 'mutation_rate': 0.9,\n",
       " 'n_jobs': 1,\n",
       " 'offspring_size': None,\n",
       " 'periodic_checkpoint_folder': None,\n",
       " 'population_size': 100,\n",
       " 'random_state': None,\n",
       " 'scoring': None,\n",
       " 'subsample': 1.0,\n",
       " 'template': None,\n",
       " 'use_dask': False,\n",
       " 'verbosity': 0,\n",
       " 'warm_start': False}"
      ]
     },
     "execution_count": 80,
     "metadata": {},
     "output_type": "execute_result"
    }
   ],
   "source": [
    "tp.get_params()"
   ]
  },
  {
   "cell_type": "code",
   "execution_count": 81,
   "metadata": {},
   "outputs": [
    {
     "name": "stdout",
     "output_type": "stream",
     "text": [
      "Warning: xgboost.XGBClassifier is not available and will not be used by TPOT.\n"
     ]
    },
    {
     "data": {
      "text/plain": [
       "TPOTClassifier(config_dict=None, crossover_rate=0.1, cv=5,\n",
       "               disable_update_check=False, early_stop=None, generations=100,\n",
       "               max_eval_time_mins=5, max_time_mins=None, memory=None,\n",
       "               mutation_rate=0.9, n_jobs=1, offspring_size=None,\n",
       "               periodic_checkpoint_folder=None, population_size=100,\n",
       "               random_state=None, scoring=None, subsample=1.0, template=None,\n",
       "               use_dask=False, verbosity=0, warm_start=False)"
      ]
     },
     "execution_count": 81,
     "metadata": {},
     "output_type": "execute_result"
    }
   ],
   "source": [
    "tp.fit(iris.iloc[:,:-1], iris.target)"
   ]
  },
  {
   "cell_type": "code",
   "execution_count": null,
   "metadata": {},
   "outputs": [],
   "source": [
    "# 다음에 자세히 알아보자."
   ]
  },
  {
   "cell_type": "markdown",
   "metadata": {},
   "source": [
    "# Autokeras\n",
    "- https://autokeras.com/\n",
    "- 호환 라이브러리들을 버전이 낮은거를 쓴다."
   ]
  },
  {
   "cell_type": "code",
   "execution_count": null,
   "metadata": {},
   "outputs": [],
   "source": [
    "!pip install autokeras"
   ]
  },
  {
   "cell_type": "code",
   "execution_count": null,
   "metadata": {},
   "outputs": [],
   "source": [
    "import autokeras as ak"
   ]
  },
  {
   "cell_type": "code",
   "execution_count": null,
   "metadata": {},
   "outputs": [],
   "source": [
    "# 있다는 것만 알고 설치는 생략함."
   ]
  }
 ],
 "metadata": {
  "kernelspec": {
   "display_name": "Python 3",
   "language": "python",
   "name": "python3"
  },
  "language_info": {
   "codemirror_mode": {
    "name": "ipython",
    "version": 3
   },
   "file_extension": ".py",
   "mimetype": "text/x-python",
   "name": "python",
   "nbconvert_exporter": "python",
   "pygments_lexer": "ipython3",
   "version": "3.7.3"
  }
 },
 "nbformat": 4,
 "nbformat_minor": 2
}
