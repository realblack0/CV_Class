{
 "cells": [
  {
   "cell_type": "markdown",
   "metadata": {},
   "source": [
    "# 함수형 패러다임\n",
    "Functional Programing(FP)  \n",
    "공식문서: https://docs.python.org/ko/3.7/howto/functional.html\n",
    "- 수학에서의 함수와 같은 특성을 갖는다.\n",
    "    - 함수는 모든 정의역에 대응하는 값이 있다. (치역)\n",
    "    - 정의역의 값은 치역의 하나의 값만 대응한다. (하나의 입력(x)은 둘 이상의 결과값(y)을 동시에 가질 수 없다)\n",
    "    - 형식적으로 증명 가능해야 한다.\n",
    "- 모듈화\n",
    "    - 기능을 분리 가능하다.\n",
    "    - 분산 처리가 가능하다. \n",
    "        - 기존의 절차적 처리 방법은 실행시간이 오래 걸린다.\n",
    "        - 함수형 패러다임은 함수를 여러 cpu, gpu에 할당해서 동시에 처리할 수 있다.\n",
    "    - 디버깅이 용이하다.\n",
    "    - 분업이 가능하다.\n",
    "- 생산 속도가 빠르다.\n",
    "    - 수식을 코드로 바로 만들 수 있다.\n",
    "        - 데이터 사이언스, 이론, 수학 등을 바로 코드로 구현할 수 있다.\n",
    "    - 코드가 비교적 짧다."
   ]
  },
  {
   "cell_type": "markdown",
   "metadata": {},
   "source": [
    "#  for문의 단점\n",
    "- 코드가 길어질때 흐름을 찾기 어렵다.\n",
    "    - 명령형이 많아진다. \n",
    "- 속도가 느리다.\n",
    "    - 같은 코드를 100번 실행하는게 for문 100 loop 돌리는 것보다 빠르다.\n",
    "\n",
    "\n",
    "- 함수형 패러다임에서는 for문을 한정적으로 사용한다.\n",
    "- for문을 대체하는 녀석\n",
    "    1. map, filter, reduce\n",
    "    2. comprehension\n",
    "    3. iterator, generator\n",
    "    4. recursion"
   ]
  },
  {
   "cell_type": "markdown",
   "metadata": {},
   "source": [
    "# 컴프리헨션(Comprehension)\n",
    "- for문을 쓰지 않고 for 기능 하는 녀석\n",
    "- 코드가 for문보다 짧다.\n",
    "- 속도가 for문보다 빠르다.\n",
    "- for가 있지만 for문이 아니다.\n",
    "    - 코드에 for가 있지만 하스켈 문법에 대응하는 키워드가 없어서 for를 사용했을 뿐이다.\n",
    "    - 파이썬은 하스켈의 컴프리헨션 개념을 차용해왔다.\n",
    "    - comprehension은 식(expression)이다. 문(statement)이 아니다.\n",
    "- list, set, dict 만들 수 있다."
   ]
  },
  {
   "cell_type": "code",
   "execution_count": 1,
   "metadata": {},
   "outputs": [
    {
     "name": "stdout",
     "output_type": "stream",
     "text": [
      "10.4 ms ± 73 µs per loop (mean ± std. dev. of 7 runs, 100 loops each)\n"
     ]
    }
   ],
   "source": [
    "%%timeit\n",
    "temp = []\n",
    "for i in range(100000):\n",
    "    temp.append(i+1)"
   ]
  },
  {
   "cell_type": "code",
   "execution_count": 2,
   "metadata": {},
   "outputs": [
    {
     "name": "stdout",
     "output_type": "stream",
     "text": [
      "7 ms ± 59.3 µs per loop (mean ± std. dev. of 7 runs, 100 loops each)\n"
     ]
    }
   ],
   "source": [
    "%%timeit\n",
    "[i+1 for i in range(100000)]"
   ]
  },
  {
   "cell_type": "markdown",
   "metadata": {},
   "source": [
    "> - comprehension은 for 문보다 빠르다.\n",
    "- map이 comprehension이 더 빠르다."
   ]
  },
  {
   "cell_type": "code",
   "execution_count": 5,
   "metadata": {},
   "outputs": [
    {
     "data": {
      "text/plain": [
       "{'0', '2', '4', '6', '8'}"
      ]
     },
     "execution_count": 5,
     "metadata": {},
     "output_type": "execute_result"
    }
   ],
   "source": [
    "{str(i) for i in range(10) if i%2==0}"
   ]
  },
  {
   "cell_type": "markdown",
   "metadata": {},
   "source": [
    "> - comp 내에서 식을 쓸 수 있다.\n",
    "- 조건식도 쓸 수 있다."
   ]
  },
  {
   "cell_type": "markdown",
   "metadata": {},
   "source": [
    "# Iterator, Generator"
   ]
  },
  {
   "cell_type": "code",
   "execution_count": 7,
   "metadata": {},
   "outputs": [
    {
     "data": {
      "text/plain": [
       "<generator object <genexpr> at 0x000002C58CE662A0>"
      ]
     },
     "execution_count": 7,
     "metadata": {},
     "output_type": "execute_result"
    }
   ],
   "source": [
    "(i for i in range(10))"
   ]
  },
  {
   "cell_type": "markdown",
   "metadata": {},
   "source": [
    "> comprehension을 튜플로 만들면 Generator가 된다.\n",
    "\n",
    "Generator 개념을 이해하기 위해서 Iterator를 먼저 공부하자"
   ]
  },
  {
   "cell_type": "code",
   "execution_count": 8,
   "metadata": {},
   "outputs": [],
   "source": [
    "x = iter(range(10))"
   ]
  },
  {
   "cell_type": "markdown",
   "metadata": {},
   "source": [
    "> iter 함수로 iterable을 만들 수 있다.\n",
    "> iter 함수에는 iterable 객체만 받을 수 있다."
   ]
  },
  {
   "cell_type": "code",
   "execution_count": 22,
   "metadata": {},
   "outputs": [
    {
     "data": {
      "text/plain": [
       "0"
      ]
     },
     "execution_count": 22,
     "metadata": {},
     "output_type": "execute_result"
    }
   ],
   "source": [
    "next(x)"
   ]
  },
  {
   "cell_type": "markdown",
   "metadata": {},
   "source": [
    "> next는 iterator의 값을 하나씩 순서대로 반환한다."
   ]
  },
  {
   "cell_type": "code",
   "execution_count": 32,
   "metadata": {},
   "outputs": [
    {
     "ename": "StopIteration",
     "evalue": "",
     "output_type": "error",
     "traceback": [
      "\u001b[1;31m---------------------------------------------------------------------------\u001b[0m",
      "\u001b[1;31mStopIteration\u001b[0m                             Traceback (most recent call last)",
      "\u001b[1;32m<ipython-input-32-83cc43ced261>\u001b[0m in \u001b[0;36m<module>\u001b[1;34m\u001b[0m\n\u001b[0;32m      1\u001b[0m \u001b[1;31m# 이 코드를 10번 반복 실행하면 StopIteration Error가 발생한다.\u001b[0m\u001b[1;33m\u001b[0m\u001b[1;33m\u001b[0m\u001b[1;33m\u001b[0m\u001b[0m\n\u001b[0;32m      2\u001b[0m \u001b[1;33m\u001b[0m\u001b[0m\n\u001b[1;32m----> 3\u001b[1;33m \u001b[0mnext\u001b[0m\u001b[1;33m(\u001b[0m\u001b[0mx\u001b[0m\u001b[1;33m)\u001b[0m\u001b[1;33m\u001b[0m\u001b[1;33m\u001b[0m\u001b[0m\n\u001b[0m",
      "\u001b[1;31mStopIteration\u001b[0m: "
     ]
    }
   ],
   "source": [
    "# 이 코드를 10번 반복 실행하면 StopIteration Error가 발생한다.\n",
    "\n",
    "next(x)"
   ]
  },
  {
   "cell_type": "markdown",
   "metadata": {},
   "source": [
    "> iterator의 값을 모두 반환하고 나면 StopIteration 에러를 발생시킨다."
   ]
  },
  {
   "cell_type": "markdown",
   "metadata": {},
   "source": [
    "iterator는 할 수 있는 게 `next` 1개 밖에 없다.\n",
    "    - 메모리 효율적이다.\n",
    "generator는 iterator와 기능이 동일하다.\n",
    "    - 차이점은 만드는 방식이다.\n",
    "    - 두가지 방법으로 만들 수 있다.\n",
    "        - tuple comprehension\n",
    "        - yield"
   ]
  },
  {
   "cell_type": "code",
   "execution_count": 64,
   "metadata": {},
   "outputs": [],
   "source": [
    "def t():\n",
    "    yield 1\n",
    "    yield 2\n",
    "    yield 3"
   ]
  },
  {
   "cell_type": "code",
   "execution_count": 65,
   "metadata": {},
   "outputs": [],
   "source": [
    "a = t()"
   ]
  },
  {
   "cell_type": "code",
   "execution_count": 66,
   "metadata": {},
   "outputs": [
    {
     "data": {
      "text/plain": [
       "1"
      ]
     },
     "execution_count": 66,
     "metadata": {},
     "output_type": "execute_result"
    }
   ],
   "source": [
    "next(a)"
   ]
  },
  {
   "cell_type": "code",
   "execution_count": 61,
   "metadata": {},
   "outputs": [],
   "source": [
    "def x():\n",
    "    for i in range(10):\n",
    "        yield i+1"
   ]
  },
  {
   "cell_type": "code",
   "execution_count": 62,
   "metadata": {},
   "outputs": [],
   "source": [
    "r = x()"
   ]
  },
  {
   "cell_type": "code",
   "execution_count": 63,
   "metadata": {},
   "outputs": [
    {
     "data": {
      "text/plain": [
       "1"
      ]
     },
     "execution_count": 63,
     "metadata": {},
     "output_type": "execute_result"
    }
   ],
   "source": [
    "next(r)"
   ]
  },
  {
   "cell_type": "code",
   "execution_count": 89,
   "metadata": {},
   "outputs": [
    {
     "name": "stdout",
     "output_type": "stream",
     "text": [
      "Overwriting test.txt\n"
     ]
    }
   ],
   "source": [
    "%%writefile test.txt\n",
    "abcdefg\n",
    "123456\n",
    "1a2s3d3d"
   ]
  },
  {
   "cell_type": "code",
   "execution_count": 90,
   "metadata": {},
   "outputs": [],
   "source": [
    "# open도 generator로 만들어졌다.\n",
    "t = open(\"test.txt\", \"r\")"
   ]
  },
  {
   "cell_type": "code",
   "execution_count": 91,
   "metadata": {},
   "outputs": [
    {
     "data": {
      "text/plain": [
       "'abcdefg\\n'"
      ]
     },
     "execution_count": 91,
     "metadata": {},
     "output_type": "execute_result"
    }
   ],
   "source": [
    "# next로 한줄씩 읽어온다.\n",
    "next(t)"
   ]
  },
  {
   "cell_type": "markdown",
   "metadata": {},
   "source": [
    "> - 파이썬에서 iterator, generator는 아주 중요한 개념이다.\n",
    "- 함수형 패러다임의 근간이 된다.\n",
    "- 파이썬에서도 많이 사용되었다."
   ]
  },
  {
   "cell_type": "markdown",
   "metadata": {},
   "source": [
    "# recursion(재귀용법)\n",
    "- 파이썬은 재귀함수가 내부적으로 최적화가 되지 않아서 권장되지는 않는다.\n",
    "    - 메모리 효율, 시간 효율이 좋지 않다.\n",
    "    - 다른 책에서는 빠르다고는 하지만, 다른 기법에 비해서 효율이 썩 좋지 않다."
   ]
  },
  {
   "cell_type": "code",
   "execution_count": 98,
   "metadata": {},
   "outputs": [],
   "source": [
    "def fibo(n):\n",
    "    if n<2:\n",
    "        return n\n",
    "    return fibo(n-1)+fibo(n-2)"
   ]
  },
  {
   "cell_type": "code",
   "execution_count": 121,
   "metadata": {},
   "outputs": [
    {
     "data": {
      "text/plain": [
       "5"
      ]
     },
     "execution_count": 121,
     "metadata": {},
     "output_type": "execute_result"
    }
   ],
   "source": [
    "fibo(5)"
   ]
  },
  {
   "cell_type": "code",
   "execution_count": 116,
   "metadata": {},
   "outputs": [
    {
     "name": "stdout",
     "output_type": "stream",
     "text": [
      "0 0\n",
      "1 1\n",
      "2 1\n",
      "3 2\n",
      "4 3\n",
      "5 5\n",
      "6 8\n",
      "7 13\n",
      "8 21\n",
      "9 34\n"
     ]
    }
   ],
   "source": [
    "for i in range(10):\n",
    "    print(i, fibo(i))"
   ]
  },
  {
   "cell_type": "markdown",
   "metadata": {},
   "source": [
    "# 함수형 패러다임의 방법\n",
    "- 범하기 쉬운 우를 중점으로"
   ]
  },
  {
   "cell_type": "code",
   "execution_count": 122,
   "metadata": {},
   "outputs": [],
   "source": [
    "# 입력 변수가 반드시 있어야한다.\n",
    "\n",
    "# 나쁜 예\n",
    "def x(a=None):\n",
    "    return \"a\"\n",
    "\n",
    "# 적절한 예\n",
    "def x(a=None):\n",
    "    return \"a\""
   ]
  },
  {
   "cell_type": "markdown",
   "metadata": {},
   "source": [
    "> 입력 변수가 없는 함수가 필요할때는 default를 None으로라도 해야한다."
   ]
  },
  {
   "cell_type": "code",
   "execution_count": 123,
   "metadata": {},
   "outputs": [],
   "source": [
    "# return이 반드시 있어야한다.\n",
    "\n",
    "# 나쁜 예\n",
    "def x(a=None):\n",
    "    print(\"a\")"
   ]
  },
  {
   "cell_type": "markdown",
   "metadata": {},
   "source": [
    "> return이 반드시 있어야 한다."
   ]
  },
  {
   "cell_type": "code",
   "execution_count": 124,
   "metadata": {},
   "outputs": [
    {
     "data": {
      "text/plain": [
       "1573022764.8470826"
      ]
     },
     "execution_count": 124,
     "metadata": {},
     "output_type": "execute_result"
    }
   ],
   "source": [
    "import time\n",
    "\n",
    "time.time() # 실행시 현재 시간을 출력한다."
   ]
  },
  {
   "cell_type": "code",
   "execution_count": 125,
   "metadata": {},
   "outputs": [],
   "source": [
    "def x(a=time.time()):\n",
    "    return a"
   ]
  },
  {
   "cell_type": "code",
   "execution_count": 126,
   "metadata": {},
   "outputs": [
    {
     "data": {
      "text/plain": [
       "1573022765.386081"
      ]
     },
     "execution_count": 126,
     "metadata": {},
     "output_type": "execute_result"
    }
   ],
   "source": [
    "x()"
   ]
  },
  {
   "cell_type": "code",
   "execution_count": 127,
   "metadata": {},
   "outputs": [
    {
     "data": {
      "text/plain": [
       "1573022765.386081"
      ]
     },
     "execution_count": 127,
     "metadata": {},
     "output_type": "execute_result"
    }
   ],
   "source": [
    "x()"
   ]
  },
  {
   "cell_type": "markdown",
   "metadata": {},
   "source": [
    "> - 함수의 default 값은 동적으로 바뀌지 않는다. \n",
    "- 선언할 때의 값만 저장한다"
   ]
  },
  {
   "cell_type": "code",
   "execution_count": 136,
   "metadata": {},
   "outputs": [],
   "source": [
    "def x(a=[]):\n",
    "    a.append(3)\n",
    "    return a"
   ]
  },
  {
   "cell_type": "code",
   "execution_count": 137,
   "metadata": {},
   "outputs": [
    {
     "data": {
      "text/plain": [
       "[3]"
      ]
     },
     "execution_count": 137,
     "metadata": {},
     "output_type": "execute_result"
    }
   ],
   "source": [
    "x()"
   ]
  },
  {
   "cell_type": "code",
   "execution_count": 138,
   "metadata": {},
   "outputs": [
    {
     "data": {
      "text/plain": [
       "[3, 3]"
      ]
     },
     "execution_count": 138,
     "metadata": {},
     "output_type": "execute_result"
    }
   ],
   "source": [
    "x()"
   ]
  },
  {
   "cell_type": "markdown",
   "metadata": {},
   "source": [
    "> - 함수의 default 값은 한번만 저장되는데 `append`는 자기 자신을 바꾼다.\n",
    "- default값이 저장된 메모리 주소는 그대로이고, 값만 추가되었기 때문에 default가 바뀐다."
   ]
  },
  {
   "cell_type": "code",
   "execution_count": 150,
   "metadata": {},
   "outputs": [],
   "source": [
    "b = 1 \n",
    "def x(a):\n",
    "    global b\n",
    "    b += a\n",
    "    return b"
   ]
  },
  {
   "cell_type": "code",
   "execution_count": 151,
   "metadata": {},
   "outputs": [
    {
     "data": {
      "text/plain": [
       "2"
      ]
     },
     "execution_count": 151,
     "metadata": {},
     "output_type": "execute_result"
    }
   ],
   "source": [
    "x(1)"
   ]
  },
  {
   "cell_type": "markdown",
   "metadata": {},
   "source": [
    "> - side effect가 있는 기능은 사용하지 않는다.\n",
    "    - global, nonlocal 등\n",
    "- 함수는 입력 값에 대해서 결과 값만 나와야한다. \n",
    "- 고등학교 수준에서 배운 수학과 같이 수학적으로만 코딩한다.\n",
    "- 복잡하게 코딩하기 어렵다."
   ]
  },
  {
   "cell_type": "code",
   "execution_count": null,
   "metadata": {},
   "outputs": [],
   "source": [
    "# "
   ]
  },
  {
   "cell_type": "markdown",
   "metadata": {},
   "source": [
    "> - mutable 객체 사용을 지양한다.\n",
    "- 진짜 함수형 프로그래밍 언어는 mutable 타입 자체가 없다.\n",
    "- 파이썬은 완벽한 함수형 프로그래밍 언어는 아니다."
   ]
  },
  {
   "cell_type": "markdown",
   "metadata": {},
   "source": [
    "# callable\n",
    "- 괄호를 붙일 수 있는 것을 callable이라고 한다.\n",
    "- 파이썬의 callable은 3개가 있다.\n",
    "    - function\n",
    "    - class\n",
    "    - `__call__`이 정의된 객체"
   ]
  },
  {
   "cell_type": "code",
   "execution_count": 143,
   "metadata": {},
   "outputs": [],
   "source": [
    "class X:\n",
    "    def __call__(self):\n",
    "        print(\"call\")"
   ]
  },
  {
   "cell_type": "code",
   "execution_count": 145,
   "metadata": {},
   "outputs": [],
   "source": [
    "x = X()"
   ]
  },
  {
   "cell_type": "code",
   "execution_count": 147,
   "metadata": {},
   "outputs": [
    {
     "name": "stdout",
     "output_type": "stream",
     "text": [
      "call\n"
     ]
    }
   ],
   "source": [
    "x()"
   ]
  },
  {
   "cell_type": "markdown",
   "metadata": {},
   "source": [
    "> 나중에 `x()()`와 같은 형태를 많이 보게 될 것이다."
   ]
  },
  {
   "cell_type": "markdown",
   "metadata": {},
   "source": [
    "# lambda\n",
    "- 이름 없는 익명 함수"
   ]
  },
  {
   "cell_type": "code",
   "execution_count": 152,
   "metadata": {},
   "outputs": [],
   "source": [
    "def x():\n",
    "    print(\"hello\")"
   ]
  },
  {
   "cell_type": "code",
   "execution_count": 153,
   "metadata": {},
   "outputs": [
    {
     "data": {
      "text/plain": [
       "'x'"
      ]
     },
     "execution_count": 153,
     "metadata": {},
     "output_type": "execute_result"
    }
   ],
   "source": [
    "x.__name__"
   ]
  },
  {
   "cell_type": "code",
   "execution_count": 154,
   "metadata": {},
   "outputs": [],
   "source": [
    "t = lambda : print(\"world\")"
   ]
  },
  {
   "cell_type": "code",
   "execution_count": 155,
   "metadata": {},
   "outputs": [
    {
     "data": {
      "text/plain": [
       "'<lambda>'"
      ]
     },
     "execution_count": 155,
     "metadata": {},
     "output_type": "execute_result"
    }
   ],
   "source": [
    "t.__name__"
   ]
  },
  {
   "cell_type": "markdown",
   "metadata": {},
   "source": [
    "> - `__name__`은 객체의 이름을 알려주는 메서드이다.\n",
    "- `lambda`가 익명함수라고 불리는 이유는 `__name__`이 항상 lambda이기 때문이다.\n",
    "\n",
    "> - `lambda`는 식이다.\n",
    "- `lambda`는 `=` 우변에 올 수 있다."
   ]
  },
  {
   "cell_type": "code",
   "execution_count": 156,
   "metadata": {},
   "outputs": [
    {
     "data": {
      "text/plain": [
       "True"
      ]
     },
     "execution_count": 156,
     "metadata": {},
     "output_type": "execute_result"
    }
   ],
   "source": [
    "callable(t)"
   ]
  },
  {
   "cell_type": "markdown",
   "metadata": {},
   "source": [
    "> - lambda는 사용하고 나면 메모리에 저장되지 않고 사라진다.\n",
    "- 장단점이 있다.\n",
    "    - 자주 사용하는 것은 함수로 만들고, 임시로 쓸 경우는 lambda로 쓸 수 있다.\n"
   ]
  },
  {
   "cell_type": "markdown",
   "metadata": {},
   "source": [
    "# \\_\\_call__"
   ]
  },
  {
   "cell_type": "code",
   "execution_count": 157,
   "metadata": {},
   "outputs": [],
   "source": [
    "# A class that creates callable adder instances\n",
    "class Adder(object):\n",
    "    def __init__(self, n):\n",
    "        self.n = n \n",
    "    def __call__(self, m):\n",
    "        return self.n + m \n",
    "\n",
    "add5_i = Adder(5) # \"instance\" or \"imperative\""
   ]
  },
  {
   "cell_type": "code",
   "execution_count": 159,
   "metadata": {},
   "outputs": [
    {
     "data": {
      "text/plain": [
       "11"
      ]
     },
     "execution_count": 159,
     "metadata": {},
     "output_type": "execute_result"
    }
   ],
   "source": [
    "add5_i(6)"
   ]
  },
  {
   "cell_type": "code",
   "execution_count": 161,
   "metadata": {},
   "outputs": [
    {
     "data": {
      "text/plain": [
       "9"
      ]
     },
     "execution_count": 161,
     "metadata": {},
     "output_type": "execute_result"
    }
   ],
   "source": [
    "Adder(3)(6)"
   ]
  },
  {
   "cell_type": "markdown",
   "metadata": {},
   "source": [
    "> - 괄호를 두번 쓴다.\n",
    "- 첫번째 괄호 인자를 바꾸는 것 만으로 많은 함수를 파생할 수 있다."
   ]
  },
  {
   "cell_type": "markdown",
   "metadata": {},
   "source": [
    "# closure"
   ]
  },
  {
   "cell_type": "code",
   "execution_count": 162,
   "metadata": {},
   "outputs": [],
   "source": [
    "def mn(x):\n",
    "    def n(y):\n",
    "        return x+y\n",
    "    return n"
   ]
  },
  {
   "cell_type": "code",
   "execution_count": 163,
   "metadata": {},
   "outputs": [
    {
     "data": {
      "text/plain": [
       "13"
      ]
     },
     "execution_count": 163,
     "metadata": {},
     "output_type": "execute_result"
    }
   ],
   "source": [
    "mn(3)(10)"
   ]
  },
  {
   "cell_type": "markdown",
   "metadata": {},
   "source": [
    "> - 파이썬은 함수를 중첩할 수 있다.\n",
    "- 파이썬은 함수를 return할 수 있다.\n",
    "- 함수 안에서는 함수 밖에 접근할 수 있다."
   ]
  },
  {
   "cell_type": "code",
   "execution_count": 170,
   "metadata": {},
   "outputs": [],
   "source": [
    "from operator import add, mul, sub"
   ]
  },
  {
   "cell_type": "code",
   "execution_count": 168,
   "metadata": {},
   "outputs": [
    {
     "data": {
      "text/plain": [
       "15"
      ]
     },
     "execution_count": 168,
     "metadata": {},
     "output_type": "execute_result"
    }
   ],
   "source": [
    "mul(5,3)"
   ]
  },
  {
   "cell_type": "code",
   "execution_count": 174,
   "metadata": {},
   "outputs": [],
   "source": [
    "class mul_n:\n",
    "    def __init__(self, n):\n",
    "        self.n = n\n",
    "    def __call__(self, m):\n",
    "        return mul(self.n, m)"
   ]
  },
  {
   "cell_type": "code",
   "execution_count": 175,
   "metadata": {},
   "outputs": [
    {
     "data": {
      "text/plain": [
       "32"
      ]
     },
     "execution_count": 175,
     "metadata": {},
     "output_type": "execute_result"
    }
   ],
   "source": [
    "mul_n(4)(8)"
   ]
  },
  {
   "cell_type": "markdown",
   "metadata": {},
   "source": [
    "> 클로저 기법으로 나만의 함수로 바꿀 수 있다."
   ]
  },
  {
   "cell_type": "code",
   "execution_count": 165,
   "metadata": {},
   "outputs": [],
   "source": [
    "from functools import partial"
   ]
  },
  {
   "cell_type": "code",
   "execution_count": 172,
   "metadata": {},
   "outputs": [],
   "source": [
    "add3 = partial(add, 3)"
   ]
  },
  {
   "cell_type": "code",
   "execution_count": 173,
   "metadata": {},
   "outputs": [
    {
     "data": {
      "text/plain": [
       "8"
      ]
     },
     "execution_count": 173,
     "metadata": {},
     "output_type": "execute_result"
    }
   ],
   "source": [
    "add3(5)"
   ]
  },
  {
   "cell_type": "markdown",
   "metadata": {},
   "source": [
    "> - partial은 남이 만든 함수 바꿔 쓰기 좋다.\n",
    "- 함수의 특정 값을 디폴트로 만든다."
   ]
  },
  {
   "cell_type": "code",
   "execution_count": 182,
   "metadata": {},
   "outputs": [],
   "source": [
    "adders = []\n",
    "for i in range(5):\n",
    "    adders.append(lambda x: x+i)"
   ]
  },
  {
   "cell_type": "code",
   "execution_count": 183,
   "metadata": {},
   "outputs": [
    {
     "name": "stdout",
     "output_type": "stream",
     "text": [
      "7\n",
      "7\n",
      "7\n",
      "7\n",
      "7\n"
     ]
    }
   ],
   "source": [
    "for adder in adders:\n",
    "    print(adder(3))"
   ]
  },
  {
   "cell_type": "code",
   "execution_count": 191,
   "metadata": {},
   "outputs": [],
   "source": [
    "adders = []\n",
    "for i in range(5):\n",
    "    adders.append(lambda x, i=i: x+i)"
   ]
  },
  {
   "cell_type": "code",
   "execution_count": 192,
   "metadata": {},
   "outputs": [
    {
     "data": {
      "text/plain": [
       "[10, 11, 12, 13, 14]"
      ]
     },
     "execution_count": 192,
     "metadata": {},
     "output_type": "execute_result"
    }
   ],
   "source": [
    "[adder(10) for adder in adders]"
   ]
  },
  {
   "cell_type": "markdown",
   "metadata": {},
   "source": [
    "> closue의 내부 원리때문에 위와 같은 현상이 있다."
   ]
  },
  {
   "cell_type": "markdown",
   "metadata": {},
   "source": [
    "# Lazy Evaluation\n",
    "Magic Method를 정의하면 어떤 객체처럼 쓸 수 있다.  \n",
    "duck-typing이 가능하다.  \n",
    "\n",
    "- `__getitem__`: []를 써서 인덱싱할 수 있다.\n",
    "- `__iter__`: iterable 타입만 있다. iterable은 for 뒤에 올 수 있다.\n",
    "- `__len__`: 컨테이너의 값 개수를 세어준다. "
   ]
  },
  {
   "cell_type": "code",
   "execution_count": 196,
   "metadata": {},
   "outputs": [],
   "source": [
    "class Myint(int):\n",
    "    def __len__(self):\n",
    "        return 1"
   ]
  },
  {
   "cell_type": "code",
   "execution_count": 197,
   "metadata": {},
   "outputs": [],
   "source": [
    "x = Myint(3)"
   ]
  },
  {
   "cell_type": "code",
   "execution_count": 198,
   "metadata": {},
   "outputs": [
    {
     "data": {
      "text/plain": [
       "1"
      ]
     },
     "execution_count": 198,
     "metadata": {},
     "output_type": "execute_result"
    }
   ],
   "source": [
    "len(x)"
   ]
  },
  {
   "cell_type": "markdown",
   "metadata": {},
   "source": [
    "> - duck-typing\n",
    "- `__len__`을 정의하면 시퀀스 타입이 아니어도 len을 쓸 수 있다. "
   ]
  },
  {
   "cell_type": "code",
   "execution_count": 214,
   "metadata": {},
   "outputs": [],
   "source": [
    "class Myclass(list):\n",
    "    def print(self):\n",
    "        print(self)"
   ]
  },
  {
   "cell_type": "code",
   "execution_count": 216,
   "metadata": {},
   "outputs": [],
   "source": [
    "m = Myclass((1,2,3))"
   ]
  },
  {
   "cell_type": "code",
   "execution_count": 217,
   "metadata": {},
   "outputs": [
    {
     "data": {
      "text/plain": [
       "3"
      ]
     },
     "execution_count": 217,
     "metadata": {},
     "output_type": "execute_result"
    }
   ],
   "source": [
    "len(m)"
   ]
  },
  {
   "cell_type": "markdown",
   "metadata": {},
   "source": [
    "> - 매직 메서드를 정의하지 않고 상속 받아서도 duck-typing이 가능하다."
   ]
  },
  {
   "cell_type": "markdown",
   "metadata": {},
   "source": [
    "# decorator"
   ]
  },
  {
   "cell_type": "code",
   "execution_count": 218,
   "metadata": {},
   "outputs": [],
   "source": [
    "def x(func):\n",
    "    def y(z):\n",
    "        print(\"----\")\n",
    "        func(z)\n",
    "        print(\"----\")\n",
    "    return y"
   ]
  },
  {
   "cell_type": "code",
   "execution_count": 219,
   "metadata": {},
   "outputs": [
    {
     "data": {
      "text/plain": [
       "<function __main__.x.<locals>.y(z)>"
      ]
     },
     "execution_count": 219,
     "metadata": {},
     "output_type": "execute_result"
    }
   ],
   "source": [
    "x(print)"
   ]
  },
  {
   "cell_type": "code",
   "execution_count": 220,
   "metadata": {},
   "outputs": [
    {
     "name": "stdout",
     "output_type": "stream",
     "text": [
      "----\n",
      "아이유\n",
      "----\n"
     ]
    }
   ],
   "source": [
    "x(print)(\"아이유\")"
   ]
  },
  {
   "cell_type": "code",
   "execution_count": 223,
   "metadata": {},
   "outputs": [],
   "source": [
    "def t(a):\n",
    "    print(a)"
   ]
  },
  {
   "cell_type": "code",
   "execution_count": 224,
   "metadata": {},
   "outputs": [
    {
     "name": "stdout",
     "output_type": "stream",
     "text": [
      "이지은\n"
     ]
    }
   ],
   "source": [
    "t(\"이지은\")"
   ]
  },
  {
   "cell_type": "code",
   "execution_count": 221,
   "metadata": {},
   "outputs": [],
   "source": [
    "@x\n",
    "def t(a):\n",
    "    print(a)"
   ]
  },
  {
   "cell_type": "code",
   "execution_count": 222,
   "metadata": {},
   "outputs": [
    {
     "name": "stdout",
     "output_type": "stream",
     "text": [
      "----\n",
      "이지은\n",
      "----\n"
     ]
    }
   ],
   "source": [
    "t(\"이지은\")"
   ]
  },
  {
   "cell_type": "markdown",
   "metadata": {},
   "source": [
    "> - 남이 만든 함수 변경할때 유용하다.\n",
    "- `@`표시로 함수를 꾸며주는 역할을 한다.\n",
    "- 가장 밖에 있는 함수는 함수를 인자로 받아야하고, inner함수 안에서 원하는대로 수정해야한다."
   ]
  },
  {
   "cell_type": "code",
   "execution_count": 225,
   "metadata": {},
   "outputs": [],
   "source": [
    "@x\n",
    "def s():\n",
    "    print(\"ssss\")"
   ]
  },
  {
   "cell_type": "code",
   "execution_count": 226,
   "metadata": {},
   "outputs": [
    {
     "ename": "TypeError",
     "evalue": "y() missing 1 required positional argument: 'z'",
     "output_type": "error",
     "traceback": [
      "\u001b[1;31m---------------------------------------------------------------------------\u001b[0m",
      "\u001b[1;31mTypeError\u001b[0m                                 Traceback (most recent call last)",
      "\u001b[1;32m<ipython-input-226-1c4f635539fd>\u001b[0m in \u001b[0;36m<module>\u001b[1;34m\u001b[0m\n\u001b[0;32m      1\u001b[0m \u001b[1;31m# Error\u001b[0m\u001b[1;33m\u001b[0m\u001b[1;33m\u001b[0m\u001b[1;33m\u001b[0m\u001b[0m\n\u001b[0;32m      2\u001b[0m \u001b[1;33m\u001b[0m\u001b[0m\n\u001b[1;32m----> 3\u001b[1;33m \u001b[0ms\u001b[0m\u001b[1;33m(\u001b[0m\u001b[1;33m)\u001b[0m\u001b[1;33m\u001b[0m\u001b[1;33m\u001b[0m\u001b[0m\n\u001b[0m",
      "\u001b[1;31mTypeError\u001b[0m: y() missing 1 required positional argument: 'z'"
     ]
    }
   ],
   "source": [
    "# Error \n",
    "\n",
    "s()"
   ]
  },
  {
   "cell_type": "markdown",
   "metadata": {},
   "source": [
    "> - x의 inner함수 y는 포지셔널 파라미터 1개만 받도록 정의되어 있다.\n",
    "- 데코레이터를 썼기 때문에 inner함수 안에서 새롭게 정의한 s가 실행된다.\n",
    "- 즉, inner함수의 파라미터와 꾸며줄 함수의 파라미터가 같아야한다."
   ]
  },
  {
   "cell_type": "code",
   "execution_count": 227,
   "metadata": {},
   "outputs": [],
   "source": [
    "def x(func):\n",
    "    def y(*args, **kwargs):\n",
    "        print(\"----\")\n",
    "        func(*args, **kwargs)\n",
    "        print(\"----\")\n",
    "    return y"
   ]
  },
  {
   "cell_type": "code",
   "execution_count": 228,
   "metadata": {},
   "outputs": [],
   "source": [
    "@x\n",
    "def s():\n",
    "    print(\"ssss\")"
   ]
  },
  {
   "cell_type": "code",
   "execution_count": 229,
   "metadata": {},
   "outputs": [
    {
     "name": "stdout",
     "output_type": "stream",
     "text": [
      "----\n",
      "ssss\n",
      "----\n"
     ]
    }
   ],
   "source": [
    "s()"
   ]
  },
  {
   "cell_type": "markdown",
   "metadata": {},
   "source": [
    "> - 가변 포지셔널, 가변 키워드 파라미터를 사용하면 유연하게 대응할 수 있다.\n",
    "    - 키워드를 똑같이 맞추지 않아도 된다.\n",
    "- 버전 업에도 영향을 받지 않는 장점이 있다."
   ]
  },
  {
   "cell_type": "code",
   "execution_count": 248,
   "metadata": {},
   "outputs": [],
   "source": [
    "def x(func):\n",
    "    def y(*args, **kwargs):\n",
    "        if 'a' in kwargs:\n",
    "            print(\"old version\")\n",
    "        func(*args, **kwargs)\n",
    "    return y"
   ]
  },
  {
   "cell_type": "code",
   "execution_count": 249,
   "metadata": {},
   "outputs": [],
   "source": [
    "@x\n",
    "def s(**kwargs):\n",
    "    print(kwargs)"
   ]
  },
  {
   "cell_type": "code",
   "execution_count": 252,
   "metadata": {},
   "outputs": [
    {
     "name": "stdout",
     "output_type": "stream",
     "text": [
      "old version\n",
      "{'a': 3}\n"
     ]
    }
   ],
   "source": [
    "s(a=3)"
   ]
  },
  {
   "cell_type": "code",
   "execution_count": 253,
   "metadata": {},
   "outputs": [
    {
     "name": "stdout",
     "output_type": "stream",
     "text": [
      "{'b': 2}\n"
     ]
    }
   ],
   "source": [
    "s(b=2)"
   ]
  },
  {
   "cell_type": "markdown",
   "metadata": {},
   "source": [
    "> - 텐서플로우 등 라이브러리는 빠른 속도로 업그레이드 중이다. \n",
    "- 업그레이드하면서 함수나 클래스의 파라미터가 바뀌는 경우가 빈번하다.\n",
    "- 데코레이터에 가변 파라미터를 사용하면 파라미터의 변동에도 유연하게 대처할 수 있다.\n",
    "- if문을 이용해서 구 버전 파라미터일 경우 경고문을 프린트하게 할 수 있다."
   ]
  },
  {
   "cell_type": "code",
   "execution_count": null,
   "metadata": {},
   "outputs": [],
   "source": []
  }
 ],
 "metadata": {
  "kernelspec": {
   "display_name": "Python 3",
   "language": "python",
   "name": "python3"
  },
  "language_info": {
   "codemirror_mode": {
    "name": "ipython",
    "version": 3
   },
   "file_extension": ".py",
   "mimetype": "text/x-python",
   "name": "python",
   "nbconvert_exporter": "python",
   "pygments_lexer": "ipython3",
   "version": "3.7.3"
  }
 },
 "nbformat": 4,
 "nbformat_minor": 2
}
